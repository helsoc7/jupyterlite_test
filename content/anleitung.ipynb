{
 "cells": [
  {
   "cell_type": "markdown",
   "metadata": {},
   "source": [
    "# 📚 Willkommen zum interaktiven Python-Kurs!\n",
    "\n",
    "Du findest in dieser Lernumgebung verschiedene Themenordner mit interaktiven **Jupyter-Notebooks**.\n",
    "\n",
    "Jedes Notebook enthält kurze Erklärungen und Aufgaben zum direkten Ausprobieren.\n",
    "\n",
    "⚡ **Du brauchst nichts zu installieren – alles läuft direkt im Browser!**\n",
    "\n",
    "---\n",
    "\n",
    "## 🔧 So benutzt du diese Umgebung:\n",
    "\n",
    "1. Wähle links einen Themenordner aus, z. B. `01_python_basics`\n",
    "2. Klicke auf ein `.ipynb`-Notebook\n",
    "3. Lies den Text in den Zellen\n",
    "4. Starte den Code mit `Shift + Enter`\n",
    "5. Schreibe deinen eigenen Code in leere Zellen\n",
    "\n",
    "---\n",
    "\n",
    "## 📂 Themenübersicht\n",
    "\n",
    "| Ordner                      | Inhalt                                  |\n",
    "|-----------------------------|------------------------------------------|\n",
    "| `01_python_basics`         | Variablen, einfache Ausgaben             |\n",
    "| `02_datatypes_and_ops`     | Datentypen & Operatoren                  |\n",
    "| `03_print_input_if_else`   | Benutzereingabe & Bedingungen            |\n",
    "| `04_loops`                 | Schleifen mit `for` und `while`         |\n",
    "| `05_datastructures`        | Listen, Dictionaries, Mengen             |\n",
    "\n",
    "---\n",
    "\n",
    "## 🐍 Dein erstes Python-Programm"
   ]
  },
  {
   "cell_type": "code",
   "metadata": {},
   "source": [
    "print(\"Hallo und willkommen zum Python-Kurs!\")"
   ],
   "execution_count": null,
   "outputs": []
  },
  {
   "cell_type": "markdown",
   "metadata": {},
   "source": [
    "👉 Wenn du den Code oben mit `Shift + Enter` ausführst, erscheint eine Nachricht im Ausgabefeld unterhalb der Zelle."
   ]
  },
  {
   "cell_type": "markdown",
   "metadata": {},
   "source": [
    "## ✍️ Deine erste Variable"
   ]
  },
  {
   "cell_type": "code",
   "metadata": {},
   "source": [
    "name = \"Anna\"\n",
    "print(\"Hallo, \" + name + \"!\")"
   ],
   "execution_count": null,
   "outputs": []
  },
  {
   "cell_type": "markdown",
   "metadata": {},
   "source": [
    "🔍 Du kannst den Namen oben ändern und den Code erneut ausführen. So lernst du, wie **Variablen** funktionieren."
   ]
  },
  {
   "cell_type": "markdown",
   "metadata": {},
   "source": [
    "## 🧪 Übung: Schreibe deinen eigenen Code hier"
   ]
  },
  {
   "cell_type": "code",
   "metadata": {},
   "source": [
    "# Beispiel: Ersetze dies durch deine eigenen Zeilen\n",
    "print(\"Ich lerne gerade Python!\")"
   ],
   "execution_count": null,
   "outputs": []
  },
  {
   "cell_type": "markdown",
   "metadata": {},
   "source": [
    "---\n",
    "\n",
    "## 💾 Hinweis zum Speichern\n",
    "\n",
    "Damit deine Arbeit nicht verloren geht:\n",
    "- gehe auf **Datei → Download als** → `.ipynb`\n",
    "- oder Rechtsklick auf die Datei → **Herunterladen**\n",
    "\n",
    "Du kannst deine gespeicherte Datei später einfach wieder hochladen und weiterarbeiten.\n",
    "\n",
    "---\n",
    "\n",
    "🚀 Viel Spaß beim Lernen! Frag bei Fragen einfach deine Lehrkraft oder probiere Dinge selbst aus!"
   ]
  }
 ],
 "metadata": {
  "kernelspec": {
   "display_name": "Python (Pyodide)",
   "language": "python",
   "name": "pyodide"
  },
  "language_info": {
   "name": "python",
   "version": ""
  }
 },
 "nbformat": 4,
 "nbformat_minor": 5
}
