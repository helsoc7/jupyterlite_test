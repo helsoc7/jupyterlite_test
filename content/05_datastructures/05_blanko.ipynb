{
 "cells": [
  {
   "cell_type": "markdown",
   "metadata": {},
   "source": [
    "# Python Datenstrukturen: Listen, Tupel, Dictionaries und mehr\n",
    "\n",
    "## PCEP-Prüfungsvorbereitung - Interaktives Lernmaterial\n",
    "\n",
    "Dieses Jupyter Notebook dient als interaktive Lernumgebung zum Thema Datenstrukturen in Python. Du kannst die Code-Beispiele direkt ausführen, modifizieren und mit den Übungsaufgaben dein Verständnis vertiefen.\n",
    "\n",
    "### Inhaltsverzeichnis\n",
    "1. [Listen und ihre Methoden](#1-listen-und-ihre-methoden)\n",
    "2. [Listenoperationen](#2-listenoperationen)\n",
    "3. [Andere Sequenztypen](#3-andere-sequenztypen)\n",
    "4. [Praktische Übungen](#4-praktische-übungen)\n",
    "5. [Fortgeschrittene Datentypen](#5-fortgeschrittene-datentypen)\n",
    "6. [Dateien](#6-dateien)\n",
    "\n",
    "## 1. Listen und ihre Methoden\n",
    "\n",
    "Listen sind eine der grundlegendsten und nützlichsten Datenstrukturen in Python. Sie ermöglichen es, eine Sammlung von Elementen zu speichern und zu verwalten. Im Gegensatz zu einigen anderen Programmiersprachen können Python-Listen verschiedene Datentypen gleichzeitig enthalten.\n",
    "\n",
    "### 💡 Leitfrage: \n",
    "Warum sind Listen so wichtig in Python und wie unterscheiden sie sich von einfachen Variablen?\n",
    "\n",
    "### 1.1 Listenerstellung und -zugriff"
   ]
  },
  {
   "cell_type": "code",
   "execution_count": null,
   "metadata": {},
   "outputs": [],
   "source": [
    "# Eine leere Liste erstellen\n",
    "empty_list = []\n",
    "print(\"Leere Liste:\", empty_list)\n",
    "\n",
    "# Liste mit Elementen erstellen\n",
    "numbers = [1, 2, 3, 4, 5]\n",
    "print(\"Zahlenliste:\", numbers)\n",
    "\n",
    "# Liste mit verschiedenen Datentypen\n",
    "mixed_list = [1, \"Hallo\", 3.14, True]\n",
    "print(\"Gemischte Liste:\", mixed_list)\n",
    "\n",
    "# Liste mit der list()-Funktion erstellen\n",
    "from_string = list(\"Python\")\n",
    "print(\"Liste aus String:\", from_string)\n",
    "\n",
    "# Verschachtelte Listen (Listen in Listen)\n",
    "nested_list = [[1, 2], [3, 4], [5, 6]]\n",
    "print(\"Verschachtelte Liste:\", nested_list)"
   ]
  },
  {
   "cell_type": "markdown",
   "metadata": {},
   "source": [
    "#### Auf Listenelemente zugreifen\n",
    "\n",
    "Um auf Elemente einer Liste zuzugreifen, verwenden wir Indizes. In Python beginnen Indizes bei 0 (das erste Element hat den Index 0)."
   ]
  },
  {
   "cell_type": "code",
   "execution_count": null,
   "metadata": {},
   "outputs": [],
   "source": [
    "fruits = [\"Apfel\", \"Banane\", \"Kirsche\", \"Dattel\", \"Erdbeere\"]\n",
    "print(\"Komplette Fruchtliste:\", fruits)\n",
    "\n",
    "# Zugriff auf einzelne Elemente\n",
    "print(\"Erstes Element (Index 0):\", fruits[0])\n",
    "print(\"Drittes Element (Index 2):\", fruits[2])\n",
    "\n",
    "# Negative Indizes: Zählen von hinten\n",
    "print(\"Letztes Element (Index -1):\", fruits[-1])\n",
    "print(\"Vorletztes Element (Index -2):\", fruits[-2])\n",
    "\n",
    "# Länge einer Liste ermitteln\n",
    "print(\"Die Liste enthält\", len(fruits), \"Elemente.\")\n",
    "\n",
    "# Zugriff auf Elemente in verschachtelten Listen\n",
    "matrix = [[1, 2, 3], [4, 5, 6], [7, 8, 9]]\n",
    "print(\"Element in Zeile 2, Spalte 3:\", matrix[1][2])  # Ergibt 6 (Zeile 2 = Index 1, Spalte 3 = Index 2)"
   ]
  },
  {
   "cell_type": "markdown",
   "metadata": {},
   "source": [
    "**Übung 1.1a**: Erstelle eine Liste mit deinen 5 Lieblingsbüchern oder -filmen. Gib dann das erste, das dritte und das letzte Element der Liste aus.\n"
   ]
  },
  {
   "cell_type": "code",
   "execution_count": null,
   "metadata": {},
   "outputs": [],
   "source": [
    "# Deine Lösung hier\n"
   ]
  },
  {
   "cell_type": "markdown",
   "metadata": {},
   "source": [
    "**Übung 1.1b**: Erstelle eine verschachtelte Liste, die die Koordinaten von drei Punkten in einem 2D-Raum enthält (z.B. [[1, 2], [3, 4], [5, 6]]). Gib dann die x- und y-Koordinate des zweiten Punktes aus."
   ]
  },
  {
   "cell_type": "code",
   "execution_count": null,
   "metadata": {},
   "outputs": [],
   "source": [
    "# Deine Lösung hier\n"
   ]
  },
  {
   "cell_type": "markdown",
   "metadata": {},
   "source": [
    "### 1.2 Listenmodifikation\n",
    "\n",
    "Ein wichtiger Unterschied zu anderen Sequenztypen (wie Strings oder Tupeln) ist, dass Listen **veränderbar (mutable)** sind. Das bedeutet, dass wir die Inhalte einer Liste nach ihrer Erstellung ändern können."
   ]
  },
  {
   "cell_type": "code",
   "execution_count": null,
   "metadata": {},
   "outputs": [],
   "source": [
    "# Liste erstellen\n",
    "shopping_list = [\"Milch\", \"Brot\", \"Käse\", \"Äpfel\"]\n",
    "print(\"Ursprüngliche Einkaufsliste:\", shopping_list)\n",
    "\n",
    "# Ein Element ändern\n",
    "shopping_list[1] = \"Vollkornbrot\"\n",
    "print(\"Nach Änderung des zweiten Elements:\", shopping_list)\n",
    "\n",
    "# Elemente hinzufügen mit append()\n",
    "shopping_list.append(\"Butter\")\n",
    "print(\"Nach append():\", shopping_list)\n",
    "\n",
    "# Elemente an bestimmter Position einfügen mit insert()\n",
    "shopping_list.insert(2, \"Joghurt\")  # Fügt \"Joghurt\" an Index 2 ein\n",
    "print(\"Nach insert():\", shopping_list)\n",
    "\n",
    "# Listen kombinieren mit extend()\n",
    "more_items = [\"Eier\", \"Mehl\"]\n",
    "shopping_list.extend(more_items)\n",
    "print(\"Nach extend():\", shopping_list)\n",
    "\n",
    "# Alternative zum Kombinieren: + Operator\n",
    "fruits = [\"Apfel\", \"Banane\"]\n",
    "vegetables = [\"Karotte\", \"Tomate\"]\n",
    "food = fruits + vegetables\n",
    "print(\"Kombinierte Liste mit + Operator:\", food)"
   ]
  },
  {
   "cell_type": "markdown",
   "metadata": {},
   "source": [
    "#### Elemente aus Listen entfernen\n"
   ]
  },
  {
   "cell_type": "code",
   "execution_count": null,
   "metadata": {},
   "outputs": [],
   "source": [
    "colors = [\"Rot\", \"Grün\", \"Blau\", \"Gelb\", \"Grün\", \"Lila\"]\n",
    "print(\"Ursprüngliche Farbliste:\", colors)\n",
    "\n",
    "# Entfernen mit remove() - entfernt das erste Vorkommen des Werts\n",
    "colors.remove(\"Grün\")\n",
    "print(\"Nach remove('Grün'):\", colors)  # Beachte: Nur das erste \"Grün\" wurde entfernt!\n",
    "\n",
    "# Entfernen mit pop() - entfernt und gibt das Element am angegebenen Index zurück\n",
    "removed_item = colors.pop(2)  # Entfernt das Element an Index 2\n",
    "print(f\"Entferntes Element mit pop(2): {removed_item}\")\n",
    "print(\"Nach pop(2):\", colors)\n",
    "\n",
    "# pop() ohne Index entfernt das letzte Element\n",
    "last_item = colors.pop()\n",
    "print(f\"Letztes entferntes Element: {last_item}\")\n",
    "print(\"Nach pop():\", colors)\n",
    "\n",
    "# Entfernen mit del-Anweisung\n",
    "del colors[0]  # Löscht das erste Element\n",
    "print(\"Nach del colors[0]:\", colors)\n",
    "\n",
    "# Liste leeren\n",
    "colors.clear()\n",
    "print(\"Nach clear():\", colors)"
   ]
  },
  {
   "cell_type": "markdown",
   "metadata": {},
   "source": [
    "#### Weitere nützliche Listenmethoden\n"
   ]
  },
  {
   "cell_type": "code",
   "execution_count": null,
   "metadata": {},
   "outputs": [],
   "source": [
    "numbers = [5, 2, 8, 1, 9, 3, 5, 4]\n",
    "print(\"Ursprüngliche Liste:\", numbers)\n",
    "\n",
    "# Liste sortieren\n",
    "numbers.sort()\n",
    "print(\"Nach sort():\", numbers)\n",
    "\n",
    "# Liste umkehren\n",
    "numbers.reverse()\n",
    "print(\"Nach reverse():\", numbers)\n",
    "\n",
    "# Anzahl der Vorkommen eines Elements zählen\n",
    "count_of_5 = numbers.count(5)\n",
    "print(f\"Die Zahl 5 kommt {count_of_5} mal vor.\")\n",
    "\n",
    "# Position (Index) eines Elements finden\n",
    "position = numbers.index(8)\n",
    "print(f\"Die Zahl 8 ist an Position (Index) {position}.\")\n",
    "\n",
    "# Liste kopieren\n",
    "numbers_copy = numbers.copy()\n",
    "print(\"Kopierte Liste:\", numbers_copy)\n",
    "\n",
    "# Alternative zum Kopieren: list() oder Slice [:]\n",
    "another_copy = list(numbers)\n",
    "slice_copy = numbers[:]\n",
    "print(\"Kopie mit list():\", another_copy)\n",
    "print(\"Kopie mit Slice [:]:\", slice_copy)"
   ]
  },
  {
   "cell_type": "markdown",
   "metadata": {},
   "source": [
    "**Übung 1.2a**: Erstelle eine Liste mit 5 Zahlen. Füge dann drei weitere Zahlen hinzu (eine mit append, zwei mit extend), entferne die zweitgrößte Zahl und sortiere die Liste. Gib bei jedem Schritt die aktuelle Liste aus."
   ]
  },
  {
   "cell_type": "code",
   "execution_count": null,
   "metadata": {},
   "outputs": [],
   "source": [
    "# Deine Lösung hier\n"
   ]
  },
  {
   "cell_type": "markdown",
   "metadata": {},
   "source": [
    "## 2. Listenoperationen\n",
    "\n",
    "In diesem Abschnitt werden wir weitere wichtige Operationen mit Listen kennenlernen, darunter Slicing und die Verarbeitung von Listen mit Schleifen.\n",
    "\n",
    "### 💡 Leitfrage: \n",
    "Wie können wir effizient mit Teilen von Listen arbeiten und Listen systematisch durchlaufen?\n",
    "\n",
    "### 2.1 Slicing (Ausschneiden von Teillisten)\n",
    "\n",
    "Mit Slicing können wir Teile einer Liste extrahieren. Die Syntax ist:`liste[start:ende:schritt]`\n",
    "\n",
    "- `start`: Index, bei dem der Slice beginnt (einschließlich). Standardwert: 0\n",
    "- `ende`: Index, bei dem der Slice endet (ausschließlich). Standardwert: Länge der Liste\n",
    "- `schritt`: Schrittweite. Standardwert: 1\n"
   ]
  },
  {
   "cell_type": "code",
   "execution_count": null,
   "metadata": {},
   "outputs": [],
   "source": [
    "numbers = [0, 1, 2, 3, 4, 5, 6, 7, 8, 9]\n",
    "print(\"Vollständige Liste:\", numbers)\n",
    "\n",
    "# Slice mit Start- und Endindex\n",
    "slice1 = numbers[2:6]  # Elemente von Index 2 bis 5 (6 ist exklusiv)\n",
    "print(\"numbers[2:6]:\", slice1)\n",
    "\n",
    "# Slice mit nur einem Parameter\n",
    "slice2 = numbers[:5]  # Elemente von Anfang bis Index 4\n",
    "print(\"numbers[:5]:\", slice2)\n",
    "\n",
    "slice3 = numbers[5:]  # Elemente von Index 5 bis Ende\n",
    "print(\"numbers[5:]:\", slice3)\n",
    "\n",
    "# Slice mit negativen Indizes\n",
    "slice4 = numbers[-4:-1]  # Die drittletzten bis zum vorletzten Element\n",
    "print(\"numbers[-4:-1]:\", slice4)\n",
    "\n",
    "# Slice mit Schrittweite\n",
    "slice5 = numbers[::2]  # Jedes zweite Element (0, 2, 4, 6, 8)\n",
    "print(\"numbers[::2]:\", slice5)\n",
    "\n",
    "slice6 = numbers[1::2]  # Jedes zweite Element, beginnend bei Index 1 (1, 3, 5, 7, 9)\n",
    "print(\"numbers[1::2]:\", slice6)\n",
    "\n",
    "# Negative Schrittweite (Liste umkehren)\n",
    "slice7 = numbers[::-1]  # Alle Elemente in umgekehrter Reihenfolge\n",
    "print(\"numbers[::-1]:\", slice7)\n",
    "\n",
    "slice8 = numbers[8:3:-1]  # Von Index 8 bis 4 in umgekehrter Reihenfolge\n",
    "print(\"numbers[8:3:-1]:\", slice8)"
   ]
  },
  {
   "cell_type": "markdown",
   "metadata": {},
   "source": [
    "#### Slices zum Ändern von Listen verwenden\n"
   ]
  },
  {
   "cell_type": "code",
   "execution_count": null,
   "metadata": {},
   "outputs": [],
   "source": [
    "letters = ['a', 'b', 'c', 'd', 'e', 'f']\n",
    "print(\"Ursprüngliche Liste:\", letters)\n",
    "\n",
    "# Mehrere Elemente auf einmal ersetzen\n",
    "letters[1:4] = ['B', 'C', 'D']\n",
    "print(\"Nach Ersetzen von letters[1:4]:\", letters)\n",
    "\n",
    "# Elemente löschen durch Zuweisung einer leeren Liste\n",
    "letters[1:3] = []\n",
    "print(\"Nach Löschen mit letters[1:3] = []:\", letters)\n",
    "\n",
    "# Elemente durch Zuweisung hinzufügen (Anzahl kann unterschiedlich sein)\n",
    "letters[1:2] = ['X', 'Y', 'Z']\n",
    "print(\"Nach Hinzufügen mit letters[1:2] = ['X', 'Y', 'Z']:\", letters)"
   ]
  },
  {
   "cell_type": "markdown",
   "metadata": {},
   "source": [
    "**Übung 2.1a**: Erstelle eine Liste mit den Zahlen von 1 bis 20. Verwende dann Slicing, um:\n",
    "1. Die ersten 5 Elemente zu extrahieren\n",
    "2. Die letzten 5 Elemente zu extrahieren\n",
    "3. Jedes zweite Element der gesamten Liste zu extrahieren\n",
    "4. Die Liste in umgekehrter Reihenfolge darzustellen"
   ]
  },
  {
   "cell_type": "code",
   "execution_count": null,
   "metadata": {},
   "outputs": [],
   "source": [
    "# Deine Lösung hier\n"
   ]
  },
  {
   "cell_type": "markdown",
   "metadata": {},
   "source": [
    "**Übung 2.1b**: Erstelle eine Liste von Wochentagen. Ersetze dann alle Arbeitstage (Montag bis Freitag) durch ihre englischen Entsprechungen (Monday bis Friday), indem du Slicing verwendest."
   ]
  },
  {
   "cell_type": "code",
   "execution_count": null,
   "metadata": {},
   "outputs": [],
   "source": [
    "# Deine Lösung hier\n"
   ]
  },
  {
   "cell_type": "markdown",
   "metadata": {},
   "source": [
    "### 2.2 Listenverarbeitung mit Schleifen\n",
    "\n",
    "Schleifen sind ein mächtiges Werkzeug, um Listen zu verarbeiten. Wir können sie nutzen, um über alle Elemente einer Liste zu iterieren und jedes Element zu bearbeiten.\n"
   ]
  },
  {
   "cell_type": "code",
   "execution_count": null,
   "metadata": {},
   "outputs": [],
   "source": [
    "# Einfache Iteration über eine Liste\n",
    "fruits = [\"Apfel\", \"Banane\", \"Kirsche\", \"Dattel\"]\n",
    "print(\"Obst in meinem Korb:\")\n",
    "for fruit in fruits:\n",
    "    print(f\"- {fruit}\")\n",
    "\n",
    "# Iteration mit Index\n",
    "print(\"\\nObst mit Indexposition:\")\n",
    "for i in range(len(fruits)):\n",
    "    print(f\"Position {i}: {fruits[i]}\")\n",
    "\n",
    "# Elegantere Methode: enumerate()\n",
    "print(\"\\nObst mit Indexposition (mit enumerate):\")\n",
    "for i, fruit in enumerate(fruits):\n",
    "    print(f\"Position {i}: {fruit}\")\n",
    "\n",
    "# Iteration mit Zählung ab 1\n",
    "print(\"\\nNummerierte Obstliste:\")\n",
    "for i, fruit in enumerate(fruits, 1):\n",
    "    print(f\"{i}. {fruit}\")"
   ]
  },
  {
   "cell_type": "markdown",
   "metadata": {},
   "source": [
    "#### Listen in Listen durchlaufen\n"
   ]
  },
  {
   "cell_type": "code",
   "execution_count": null,
   "metadata": {},
   "outputs": [],
   "source": [
    "# Verschachtelte Liste mit Schülernamen und Noten\n",
    "student_grades = [\n",
    "    [\"Anna\", 92, 87, 95],\n",
    "    [\"Ben\", 78, 85, 90],\n",
    "    [\"Clara\", 88, 91, 89]\n",
    "]\n",
    "\n",
    "# Durchlaufen der äußeren Liste\n",
    "for student in student_grades:\n",
    "    name = student[0]\n",
    "    grades = student[1:]\n",
    "    average = sum(grades) / len(grades)\n",
    "    print(f\"{name}: Durchschnittsnote = {average:.1f}\")\n",
    "\n",
    "# Alternative mit verschachtelten Schleifen\n",
    "print(\"\\nDetaillierte Notenübersicht:\")\n",
    "for student in student_grades:\n",
    "    print(f\"\\nSchüler/in: {student[0]}\")\n",
    "    for i, grade in enumerate(student[1:], 1):\n",
    "        print(f\"  Prüfung {i}: {grade}\")"
   ]
  },
  {
   "cell_type": "markdown",
   "metadata": {},
   "source": [
    "#### Listen erstellen mit List Comprehensions\n",
    "\n",
    "List Comprehensions sind ein eleganter Weg, um Listen zu erstellen, indem eine Operation auf jeden Wert einer bestehenden Sequenz angewendet wird.\n"
   ]
  },
  {
   "cell_type": "code",
   "execution_count": null,
   "metadata": {},
   "outputs": [],
   "source": [
    "# Traditionelle Schleife zur Erstellung einer Liste\n",
    "squares_traditional = []\n",
    "for x in range(1, 11):\n",
    "    squares_traditional.append(x ** 2)\n",
    "print(\"Quadratzahlen (traditionelle Schleife):\", squares_traditional)\n",
    "\n",
    "# Gleiche Funktionalität mit List Comprehension\n",
    "squares_comprehension = [x ** 2 for x in range(1, 11)]\n",
    "print(\"Quadratzahlen (List Comprehension):\", squares_comprehension)\n",
    "\n",
    "# List Comprehension mit Bedingung (Filter)\n",
    "even_squares = [x ** 2 for x in range(1, 11) if x % 2 == 0]\n",
    "print(\"Quadratzahlen der geraden Zahlen:\", even_squares)\n",
    "\n",
    "# List Comprehension mit komplexeren Ausdrücken\n",
    "fruits = [\"Apfel\", \"Banane\", \"Kirsche\", \"Dattel\"]\n",
    "fruit_lengths = [(fruit, len(fruit)) for fruit in fruits]\n",
    "print(\"Früchte und ihre Zeichenlänge:\", fruit_lengths)"
   ]
  },
  {
   "cell_type": "markdown",
   "metadata": {},
   "source": [
    "**Übung 2.2a**: Erstelle eine Liste von Temperaturen in Celsius: [0, 10, 20, 30, 40]. Verwende dann eine for-Schleife UND eine List Comprehension, um diese in Fahrenheit umzurechnen (Formel: F = C * 9/5 + 32)."
   ]
  },
  {
   "cell_type": "code",
   "execution_count": null,
   "metadata": {},
   "outputs": [],
   "source": [
    "# Deine Lösung hier\n"
   ]
  },
  {
   "cell_type": "markdown",
   "metadata": {},
   "source": [
    "**Übung 2.2b**: Gegeben sei folgende Liste mit Produkten und Preisen: `[['Apfel', 1.2], ['Banane', 0.9], ['Brot', 2.5], ['Käse', 4.0], ['Milch', 1.5]]`. Verwende eine Schleife, um alle Produkte auszugeben, die weniger als 2 Euro kosten."
   ]
  },
  {
   "cell_type": "code",
   "execution_count": null,
   "metadata": {},
   "outputs": [],
   "source": [
    "# Deine Lösung hier\n"
   ]
  },
  {
   "cell_type": "markdown",
   "metadata": {},
   "source": [
    "## 3. Andere Sequenztypen\n",
    "\n",
    "Neben Listen gibt es in Python weitere wichtige Sequenztypen, insbesondere Tupel. In diesem Abschnitt werden wir Tupel kennenlernen und die Unterschiede zu Listen verstehen.\n",
    "\n",
    "### 💡 Leitfrage: \n",
    "Warum gibt es unterschiedliche Sequenztypen in Python, und wann sollte man Tupel statt Listen verwenden?\n",
    "\n",
    "### 3.1 Tupel\n",
    "\n",
    "Tupel sind ähnlich wie Listen, jedoch **unveränderbar (immutable)**. Das bedeutet, dass nach der Erstellung eines Tupels dessen Elemente nicht mehr geändert werden können."
   ]
  },
  {
   "cell_type": "code",
   "execution_count": null,
   "metadata": {},
   "outputs": [],
   "source": [
    "# Tupel erstellen\n",
    "empty_tuple = ()  # Leeres Tupel\n",
    "print(\"Leeres Tupel:\", empty_tuple)\n",
    "\n",
    "# Tupel mit Elementen\n",
    "fruits = (\"Apfel\", \"Banane\", \"Kirsche\")\n",
    "print(\"Früchte-Tupel:\", fruits)\n",
    "\n",
    "# Tupel mit einem Element (Beachte den Komma!)\n",
    "single_item_tuple = (\"Apfel\",)  # Das Komma ist wichtig!\n",
    "print(\"Tupel mit einem Element:\", single_item_tuple)\n",
    "print(\"Typ:\", type(single_item_tuple))\n",
    "\n",
    "not_a_tuple = (\"Apfel\")  # Dies ist kein Tupel, sondern ein String!\n",
    "print(\"Kein Tupel (fehlendes Komma):\", not_a_tuple)\n",
    "print(\"Typ:\", type(not_a_tuple))\n",
    "\n",
    "# Tupel ohne Klammern (Klammern sind oft optional)\n",
    "coordinates = 10, 20, 30\n",
    "print(\"Koordinaten-Tupel:\", coordinates)\n",
    "print(\"Typ:\", type(coordinates))\n",
    "\n",
    "# Tupel mit verschiedenen Datentypen\n",
    "mixed_tuple = (1, \"Hallo\", 3.14, True)\n",
    "print(\"Gemischtes Tupel:\", mixed_tuple)\n",
    "\n",
    "# Verschachtelte Tupel\n",
    "nested_tuple = ((1, 2), (3, 4), (5, 6))\n",
    "print(\"Verschachteltes Tupel:\", nested_tuple)"
   ]
  },
  {
   "cell_type": "markdown",
   "metadata": {},
   "source": [
    "#### Auf Tupel-Elemente zugreifen\n",
    "\n",
    "Der Zugriff auf Elemente in Tupeln erfolgt genauso wie bei Listen, über Indizes."
   ]
  },
  {
   "cell_type": "code",
   "execution_count": null,
   "metadata": {},
   "outputs": [],
   "source": [
    "months = (\"Januar\", \"Februar\", \"März\", \"April\", \"Mai\", \"Juni\", \n",
    "          \"Juli\", \"August\", \"September\", \"Oktober\", \"November\", \"Dezember\")\n",
    "\n",
    "# Zugriff auf einzelne Elemente\n",
    "print(\"Erster Monat:\", months[0])\n",
    "print(\"Letzter Monat:\", months[-1])\n",
    "\n",
    "# Slicing funktioniert auch bei Tupeln\n",
    "spring_months = months[2:5]  # März bis Mai\n",
    "print(\"Frühling:\", spring_months)\n",
    "\n",
    "# Länge eines Tupels\n",
    "print(\"Anzahl der Monate:\", len(months))\n",
    "\n",
    "# Verschachtelte Tupel\n",
    "point3d = ((1, 2, 3), (4, 5, 6))\n",
    "print(\"Punkt 1:\", point3d[0])\n",
    "print(\"Z-Koordinate von Punkt 1:\", point3d[0][2])"
   ]
  },
  {
   "cell_type": "markdown",
   "metadata": {},
   "source": [
    "#### Unveränderbarkeit von Tupeln"
   ]
  },
  {
   "cell_type": "code",
   "execution_count": null,
   "metadata": {},
   "outputs": [],
   "source": [
    "colors = (\"rot\", \"grün\", \"blau\")\n",
    "print(\"Farben-Tupel:\", colors)\n",
    "\n",
    "# Versuch, ein Tupel zu ändern (wird einen Fehler verursachen)\n",
    "try:\n",
    "    colors[0] = \"gelb\"\n",
    "except TypeError as e:\n",
    "    print(\"Fehler:\", e)\n",
    "\n",
    "# Aber: Wenn ein Tupel veränderbare Objekte enthält, können diese geändert werden\n",
    "nested = ([1, 2], [3, 4])\n",
    "print(\"Verschachteltes Tupel mit Listen:\", nested)\n",
    "\n",
    "# Die innere Liste kann geändert werden\n",
    "nested[0].append(5)\n",
    "print(\"Nach Änderung der inneren Liste:\", nested)"
   ]
  },
  {
   "cell_type": "markdown",
   "metadata": {},
   "source": [
    "#### Tupel-Methoden und Operationen\n"
   ]
  },
  {
   "cell_type": "code",
   "execution_count": null,
   "metadata": {},
   "outputs": [],
   "source": [
    "numbers = (1, 2, 3, 2, 4, 2)\n",
    "print(\"Zahlen-Tupel:\", numbers)\n",
    "\n",
    "# count(): Zählen der Vorkommen eines Elements\n",
    "count_of_2 = numbers.count(2)\n",
    "print(f\"Die Zahl 2 kommt {count_of_2} Mal vor.\")\n",
    "\n",
    "# index(): Position des ersten Vorkommens eines Elements\n",
    "position = numbers.index(3)\n",
    "print(f\"Die Zahl 3 ist an Position {position}.\")\n",
    "\n",
    "# Tupel kombinieren mit +\n",
    "more_numbers = (5, 6, 7)\n",
    "combined = numbers + more_numbers\n",
    "print(\"Kombiniertes Tupel:\", combined)\n",
    "\n",
    "# Tupel wiederholen mit *\n",
    "repeated = numbers * 2\n",
    "print(\"Wiederholtes Tupel:\", repeated)"
   ]
  },
  {
   "cell_type": "markdown",
   "metadata": {},
   "source": [
    "### 3.2 Unterschiede zwischen Listen und Tupeln\n",
    "\n",
    "Hier sind die wichtigsten Unterschiede zwischen Listen und Tupeln:\n",
    "\n",
    "#### 1. Veränderbarkeit (Mutability)\n",
    "\n",
    "- Listen sind **veränderbar (mutable)**: Elemente können hinzugefügt, entfernt oder geändert werden.\n",
    "- Tupel sind **unveränderbar (immutable)**: Nach der Erstellung können Elemente nicht mehr geändert werden.\n",
    "\n",
    "#### 2. Syntax\n",
    "\n",
    "- Listen werden mit eckigen Klammern erstellt: `[1, 2, 3]`\n",
    "- Tupel werden mit runden Klammern erstellt: `(1, 2, 3)` oder einfach mit Kommas: `1, 2, 3`\n",
    "\n",
    "#### 3. Methoden\n",
    "\n",
    "- Listen haben viele Methoden zum Ändern (append, insert, remove, sort, etc.)\n",
    "- Tupel haben nur zwei Methoden: count() und index()\n",
    "\n",
    "#### 4. Performance\n",
    "\n",
    "- Tupel sind etwas schneller und benötigen weniger Speicher als Listen\n",
    "- Bei großen Datenmengen oder häufigem Zugriff kann dieser Unterschied relevant sein\n",
    "\n",
    "#### 5. Anwendungsfälle\n",
    "\n",
    "- Listen: Wenn sich die Sammlung von Elementen ändern kann oder soll\n",
    "- Tupel: Für Daten, die zusammengehören und sich nicht ändern sollten (z.B. Koordinaten, Datumsangaben)"
   ]
  },
  {
   "cell_type": "code",
   "execution_count": null,
   "metadata": {},
   "outputs": [],
   "source": [
    "# Beispiel: Verwendung von Tupeln für unveränderliche Daten\n",
    "\n",
    "# Person-Datensatz (Name, Geburtsjahr, Augenfarbe)\n",
    "person = (\"Max Mustermann\", 1990, \"blau\")\n",
    "name, birth_year, eye_color = person  # Tuple unpacking\n",
    "\n",
    "print(f\"Name: {name}\")\n",
    "print(f\"Geburtsjahr: {birth_year}\")\n",
    "print(f\"Augenfarbe: {eye_color}\")\n",
    "\n",
    "# Beispiel: Verwendung von Listen für veränderliche Daten\n",
    "\n",
    "# Einkaufsliste, die sich ändern kann\n",
    "shopping_list = [\"Milch\", \"Brot\", \"Käse\"]\n",
    "print(\"\\nUrsprüngliche Einkaufsliste:\", shopping_list)\n",
    "\n",
    "# Neue Ideen fallen uns ein\n",
    "shopping_list.append(\"Eier\")\n",
    "shopping_list.append(\"Tomaten\")\n",
    "print(\"Aktualisierte Einkaufsliste:\", shopping_list)\n",
    "\n",
    "# Produkt ist nicht mehr notwendig\n",
    "shopping_list.remove(\"Käse\")\n",
    "print(\"Finale Einkaufsliste:\", shopping_list)"
   ]
  },
  {
   "cell_type": "markdown",
   "metadata": {},
   "source": [
    "#### Tuple Unpacking\n",
    "\n",
    "Eine besonders nützliche Eigenschaft von Tupeln ist das \"Unpacking\", bei dem die Elemente eines Tupels direkt in einzelne Variablen entpackt werden können.\n"
   ]
  },
  {
   "cell_type": "code",
   "execution_count": null,
   "metadata": {},
   "outputs": [],
   "source": [
    "# Tupel erstellen\n",
    "coordinates = (10, 20, 30)\n",
    "\n",
    "# Traditioneller Zugriff\n",
    "x = coordinates[0]\n",
    "y = coordinates[1]\n",
    "z = coordinates[2]\n",
    "print(f\"Koordinaten: x={x}, y={y}, z={z}\")\n",
    "\n",
    "# Tuple Unpacking (viel eleganter)\n",
    "x, y, z = coordinates\n",
    "print(f\"Mit Unpacking: x={x}, y={y}, z={z}\")\n",
    "\n",
    "# Funktioniert auch mit Listen, aber Tupel sind dafür typischer\n",
    "rgb = [255, 128, 0]\n",
    "r, g, b = rgb\n",
    "print(f\"RGB-Farbe: R={r}, G={g}, B={b}\")\n",
    "\n",
    "# Werte tauschen mit Tuple Unpacking\n",
    "a, b = 5, 10\n",
    "print(f\"Vor dem Tausch: a={a}, b={b}\")\n",
    "a, b = b, a  # Eleganter Wertausch ohne temporäre Variable\n",
    "print(f\"Nach dem Tausch: a={a}, b={b}\")"
   ]
  },
  {
   "cell_type": "markdown",
   "metadata": {},
   "source": [
    "**Übung 3.2a**: Erstelle ein Tupel mit den RGB-Werten für folgende Farben: Rot, Grün, Blau, Gelb, Cyan, Magenta, Weiß und Schwarz. Gib dann die RGB-Werte für Gelb und Cyan aus."
   ]
  },
  {
   "cell_type": "code",
   "execution_count": null,
   "metadata": {},
   "outputs": [],
   "source": [
    "# Deine Lösung hier\n"
   ]
  },
  {
   "cell_type": "markdown",
   "metadata": {},
   "source": [
    "**Übung 3.2b**: Erstelle 3 Koordinatenpunkte als Tupel (x, y, z). Berechne dann die Entfernung jedes Punktes vom Ursprung (0, 0, 0) mit der Formel sqrt(x² + y² + z²) und speichere das Ergebnis in einer Liste."
   ]
  },
  {
   "cell_type": "code",
   "execution_count": null,
   "metadata": {},
   "outputs": [],
   "source": [
    "# Deine Lösung hier\n"
   ]
  },
  {
   "cell_type": "markdown",
   "metadata": {},
   "source": [
    "## 4. Praktische Übungen\n",
    "\n",
    "In diesem Abschnitt werden wir komplexere Übungen durchführen, um dein Verständnis von Listen und Tupeln zu vertiefen und praktische Anwendungen zu zeigen.\n",
    "\n",
    "### 💡 Leitfrage: \n",
    "Wie setzen wir unser Wissen über Datenstrukturen in praktischen Aufgaben ein?\n",
    "\n",
    "### 4.1 Arbeit mit Listen und Tupeln"
   ]
  },
  {
   "cell_type": "code",
   "execution_count": null,
   "metadata": {},
   "outputs": [],
   "source": [
    "# Beispiel: Noten analysieren\n",
    "\n",
    "# Daten: Liste von Tupeln (Student, Note)\n",
    "grades = [\n",
    "    (\"Anna\", 92),\n",
    "    (\"Ben\", 78),\n",
    "    (\"Clara\", 88),\n",
    "    (\"David\", 95),\n",
    "    (\"Eva\", 76),\n",
    "    (\"Felix\", 89),\n",
    "    (\"Greta\", 94)\n",
    "]\n",
    "\n",
    "# 1. Beste und schlechteste Note finden\n",
    "best_grade = 0\n",
    "worst_grade = 100\n",
    "best_student = \"\"\n",
    "worst_student = \"\"\n",
    "\n",
    "for student, grade in grades:\n",
    "    if grade > best_grade:\n",
    "        best_grade = grade\n",
    "        best_student = student\n",
    "    if grade < worst_grade:\n",
    "        worst_grade = grade\n",
    "        worst_student = student\n",
    "\n",
    "print(f\"Beste/r Schüler/in: {best_student} mit {best_grade} Punkten\")\n",
    "print(f\"Schlechteste/r Schüler/in: {worst_student} mit {worst_grade} Punkten\")\n",
    "\n",
    "# 2. Durchschnittsnote berechnen\n",
    "total = 0\n",
    "for _, grade in grades:  # _ wird als Platzhalter für nicht benötigte Variablen verwendet\n",
    "    total += grade\n",
    "average = total / len(grades)\n",
    "print(f\"Durchschnittsnote: {average:.1f}\")\n",
    "\n",
    "# 3. Notenverteilung ermitteln (wieviele Schüler haben welche Notenstufe)\n",
    "grade_ranges = [\n",
    "    (90, 100, \"A\"),\n",
    "    (80, 89, \"B\"),\n",
    "    (70, 79, \"C\"),\n",
    "    (60, 69, \"D\"),\n",
    "    (0, 59, \"F\")\n",
    "]\n",
    "\n",
    "distribution = {\"A\": 0, \"B\": 0, \"C\": 0, \"D\": 0, \"F\": 0}\n",
    "\n",
    "for _, grade in grades:\n",
    "    for min_grade, max_grade, letter in grade_ranges:\n",
    "        if min_grade <= grade <= max_grade:\n",
    "            distribution[letter] += 1\n",
    "            break\n",
    "\n",
    "print(\"\\nNotenverteilung:\")\n",
    "for letter, count in distribution.items():\n",
    "    print(f\"{letter}: {count} Schüler\")"
   ]
  },
  {
   "cell_type": "markdown",
   "metadata": {},
   "source": [
    "### 4.2 Implementierung von Algorithmen mit Listen\n"
   ]
  },
  {
   "cell_type": "code",
   "execution_count": null,
   "metadata": {},
   "outputs": [],
   "source": [
    "# Beispiel: Durchschnittliche Temperatur und Temperaturtrends\n",
    "\n",
    "# Temperaturwerte für eine Woche (Mo-So)\n",
    "temperatures = [22, 24, 19, 21, 25, 23, 20]\n",
    "days = [\"Montag\", \"Dienstag\", \"Mittwoch\", \"Donnerstag\", \"Freitag\", \"Samstag\", \"Sonntag\"]\n",
    "\n",
    "# 1. Durchschnittstemperatur berechnen\n",
    "avg_temp = sum(temperatures) / len(temperatures)\n",
    "print(f\"Durchschnittstemperatur der Woche: {avg_temp:.1f}°C\")\n",
    "\n",
    "# 2. Wärmster und kältester Tag\n",
    "max_temp = max(temperatures)\n",
    "min_temp = min(temperatures)\n",
    "max_day = days[temperatures.index(max_temp)]\n",
    "min_day = days[temperatures.index(min_temp)]\n",
    "\n",
    "print(f\"Wärmster Tag: {max_day} mit {max_temp}°C\")\n",
    "print(f\"Kältester Tag: {min_day} mit {min_temp}°C\")\n",
    "\n",
    "# 3. Temperaturschwankungen (Differenz zwischen aufeinanderfolgenden Tagen)\n",
    "print(\"\\nTemperaturschwankungen zwischen aufeinanderfolgenden Tagen:\")\n",
    "for i in range(1, len(temperatures)):\n",
    "    change = temperatures[i] - temperatures[i-1]\n",
    "    direction = \"wärmer\" if change > 0 else \"kälter\" if change < 0 else \"gleich\"\n",
    "    print(f\"{days[i-1]} zu {days[i]}: {abs(change)}°C {direction}\")\n",
    "\n",
    "# 4. Tage über/unter dem Durchschnitt\n",
    "days_above_avg = [days[i] for i in range(len(days)) if temperatures[i] > avg_temp]\n",
    "days_below_avg = [days[i] for i in range(len(days)) if temperatures[i] < avg_temp]\n",
    "\n",
    "print(f\"\\nTage über dem Durchschnitt: {', '.join(days_above_avg)}\")\n",
    "print(f\"Tage unter dem Durchschnitt: {', '.join(days_below_avg)}\")"
   ]
  },
  {
   "cell_type": "markdown",
   "metadata": {},
   "source": [
    "### 4.3 Übungen zum Slicing\n"
   ]
  },
  {
   "cell_type": "code",
   "execution_count": null,
   "metadata": {},
   "outputs": [],
   "source": [
    "# Beispiel: Textanalyse mit Listen und Slicing\n",
    "\n",
    "text = \"\"\"Python ist eine interpretierte Hochsprache, \n",
    "die oft für allgemeine Programmierung verwendet wird. \n",
    "Python legt Wert auf Codelesbarkeit und erlaubt es Programmierern, \n",
    "Konzepte mit weniger Codezeilen als in anderen Sprachen auszudrücken.\"\"\"\n",
    "\n",
    "# Text in Sätze aufteilen (vereinfachte Version)\n",
    "sentences = text.replace(\"\\n\", \" \").split(\". \")\n",
    "print(f\"Der Text enthält {len(sentences)} Sätze.\")\n",
    "\n",
    "# Erster und letzter Satz\n",
    "print(f\"\\nErster Satz: {sentences[0]}\")\n",
    "print(f\"Letzter Satz: {sentences[-1]}\")\n",
    "\n",
    "# Wörter pro Satz zählen\n",
    "print(\"\\nAnzahl der Wörter pro Satz:\")\n",
    "for i, sentence in enumerate(sentences, 1):\n",
    "    words = sentence.split()\n",
    "    print(f\"Satz {i}: {len(words)} Wörter\")\n",
    "\n",
    "# Alle Wörter in eine Liste umwandeln\n",
    "all_words = text.replace(\"\\n\", \" \").replace(\".\", \"\").replace(\",\", \"\").lower().split()\n",
    "print(f\"\\nDer Text enthält insgesamt {len(all_words)} Wörter.\")\n",
    "\n",
    "# Die 5 häufigsten Wörter finden\n",
    "word_counts = {}\n",
    "for word in all_words:\n",
    "    if word in word_counts:\n",
    "        word_counts[word] += 1\n",
    "    else:\n",
    "        word_counts[word] = 1\n",
    "\n",
    "# Nach Häufigkeit sortieren und die Top 5 ausgeben\n",
    "sorted_words = sorted(word_counts.items(), key=lambda x: x[1], reverse=True)\n",
    "print(\"\\nDie 5 häufigsten Wörter:\")\n",
    "for word, count in sorted_words[:5]:\n",
    "    print(f\"{word}: {count} Mal\")"
   ]
  },
  {
   "cell_type": "markdown",
   "metadata": {},
   "source": [
    "**Übung 4.3a FORTGESCHRITTEN**: Implementiere den \"Bubble Sort\"-Algorithmus, um eine Liste von Zahlen zu sortieren. Vergleiche das Ergebnis mit der eingebauten sort()-Methode.\n",
    "\n",
    "Bubble Sort funktioniert wie folgt:\n",
    "1. Vergleiche benachbarte Elemente in der Liste.\n",
    "2. Tausche sie, wenn sie in der falschen Reihenfolge sind.\n",
    "3. Wiederhole den Prozess, bis die gesamte Liste sortiert ist."
   ]
  },
  {
   "cell_type": "code",
   "execution_count": null,
   "metadata": {},
   "outputs": [],
   "source": [
    "# Deine Lösung hier\n"
   ]
  },
  {
   "cell_type": "markdown",
   "metadata": {},
   "source": [
    "**Übung 4.3b**: Gegeben sei folgende Liste mit Wörtern: `[\"apfel\", \"banane\", \"kirsche\", \"dattel\", \"erdbeere\", \"feige\", \"granatapfel\", \"himbeere\"]`. Schreibe Code, der:\n",
    "1. Alle Wörter mit mehr als 6 Buchstaben findet\n",
    "2. Alle Wörter in alphabetischer Reihenfolge ausgibt\n",
    "3. Die durchschnittliche Wortlänge berechnet\n"
   ]
  },
  {
   "cell_type": "code",
   "execution_count": null,
   "metadata": {},
   "outputs": [],
   "source": [
    "# Deine Lösung hier\n"
   ]
  },
  {
   "cell_type": "markdown",
   "metadata": {},
   "source": [
    "## 5. Fortgeschrittene Datentypen\n",
    "\n",
    "In diesem Abschnitt lernen wir zwei weitere wichtige Datenstrukturen in Python kennen: Dictionaries und Sets. Diese gehören zu den erweiterten Datentypen und bieten besondere Funktionalitäten, die in vielen praktischen Anwendungen nützlich sind.\n",
    "\n",
    "### 💡 Leitfrage: \n",
    "Was sind die speziellen Eigenschaften und Anwendungsgebiete von Dictionaries und Sets?\n",
    "\n",
    "### 5.1 Dictionaries\n",
    "\n",
    "Ein Dictionary (auch \"Wörterbuch\" oder \"assoziatives Array\") ist eine Sammlung von Schlüssel-Wert-Paaren. Jeder Schlüssel ist eindeutig und mit einem Wert verknüpft. Dictionaries ermöglichen einen schnellen Zugriff auf Werte anhand ihrer Schlüssel."
   ]
  },
  {
   "cell_type": "code",
   "execution_count": null,
   "metadata": {},
   "outputs": [],
   "source": [
    "# Ein leeres Dictionary erstellen\n",
    "empty_dict = {}\n",
    "print(\"Leeres Dictionary:\", empty_dict)\n",
    "\n",
    "# Dictionary mit Elementen erstellen\n",
    "person = {\n",
    "    \"name\": \"Max Mustermann\",\n",
    "    \"alter\": 30,\n",
    "    \"stadt\": \"Berlin\",\n",
    "    \"hobbies\": [\"Lesen\", \"Radfahren\", \"Programmieren\"]\n",
    "}\n",
    "print(\"Person-Dictionary:\", person)\n",
    "\n",
    "# Auf Werte zugreifen\n",
    "print(f\"Name: {person['name']}\")\n",
    "print(f\"Alter: {person['alter']}\")\n",
    "print(f\"Erster Hobby: {person['hobbies'][0]}\")\n",
    "\n",
    "# Alternative Zugriffsmethode mit get()\n",
    "# get() gibt None zurück, wenn der Schlüssel nicht existiert oder einen Standardwert\n",
    "print(f\"Beruf: {person.get('beruf', 'Nicht angegeben')}\")\n",
    "\n",
    "# Werte ändern\n",
    "person[\"alter\"] = 31\n",
    "print(f\"Neues Alter: {person['alter']}\")\n",
    "\n",
    "# Neue Schlüssel-Wert-Paare hinzufügen\n",
    "person[\"beruf\"] = \"Softwareentwickler\"\n",
    "print(f\"Beruf: {person['beruf']}\")\n",
    "\n",
    "# Schlüssel-Wert-Paar entfernen\n",
    "del person[\"stadt\"]\n",
    "print(\"Nach Entfernen der Stadt:\", person)"
   ]
  },
  {
   "cell_type": "markdown",
   "metadata": {},
   "source": [
    "#### Dictionaries durchlaufen\n"
   ]
  },
  {
   "cell_type": "code",
   "execution_count": null,
   "metadata": {},
   "outputs": [],
   "source": [
    "fruits = {\n",
    "    \"apfel\": 0.75,\n",
    "    \"banane\": 0.50,\n",
    "    \"kirsche\": 3.00,\n",
    "    \"dattel\": 2.50,\n",
    "    \"erdbeere\": 2.00\n",
    "}\n",
    "\n",
    "# Über Schlüssel iterieren\n",
    "print(\"Alle Früchte:\")\n",
    "for fruit in fruits:\n",
    "    print(f\"- {fruit}\")\n",
    "\n",
    "# Über Werte iterieren\n",
    "print(\"\\nAlle Preise:\")\n",
    "for price in fruits.values():\n",
    "    print(f\"- {price:.2f} €\")\n",
    "\n",
    "# Über Schlüssel-Wert-Paare iterieren\n",
    "print(\"\\nAlle Früchte mit Preisen:\")\n",
    "for fruit, price in fruits.items():\n",
    "    print(f\"- {fruit}: {price:.2f} €\")\n",
    "\n",
    "# Gesamtwert berechnen\n",
    "total = sum(fruits.values())\n",
    "print(f\"\\nGesamtwert aller Früchte: {total:.2f} €\")"
   ]
  },
  {
   "cell_type": "markdown",
   "metadata": {},
   "source": [
    "#### Verschachtelte Dictionaries\n"
   ]
  },
  {
   "cell_type": "code",
   "execution_count": null,
   "metadata": {},
   "outputs": [],
   "source": [
    "# Verschachteltes Dictionary für Studenten und ihre Noten\n",
    "students = {\n",
    "    \"Anna\": {\n",
    "        \"Mathe\": 92,\n",
    "        \"Physik\": 88,\n",
    "        \"Informatik\": 95\n",
    "    },\n",
    "    \"Ben\": {\n",
    "        \"Mathe\": 78,\n",
    "        \"Physik\": 82,\n",
    "        \"Informatik\": 85\n",
    "    },\n",
    "    \"Clara\": {\n",
    "        \"Mathe\": 90,\n",
    "        \"Physik\": 91,\n",
    "        \"Informatik\": 89\n",
    "    }\n",
    "}\n",
    "\n",
    "# Zugriff auf verschachtelte Dictionaries\n",
    "print(f\"Annas Note in Mathe: {students['Anna']['Mathe']}\")\n",
    "print(f\"Bens Note in Physik: {students['Ben']['Physik']}\")\n",
    "\n",
    "# Durchschnittsnote für jedes Fach berechnen\n",
    "subjects = [\"Mathe\", \"Physik\", \"Informatik\"]\n",
    "print(\"\\nDurchschnittsnoten nach Fach:\")\n",
    "\n",
    "for subject in subjects:\n",
    "    total = 0\n",
    "    for student in students:\n",
    "        total += students[student][subject]\n",
    "    average = total / len(students)\n",
    "    print(f\"{subject}: {average:.1f}\")\n",
    "\n",
    "# Durchschnittsnote für jeden Schüler berechnen\n",
    "print(\"\\nDurchschnittsnoten nach Schüler:\")\n",
    "\n",
    "for student, grades in students.items():\n",
    "    total = sum(grades.values())\n",
    "    average = total / len(grades)\n",
    "    print(f\"{student}: {average:.1f}\")"
   ]
  },
  {
   "cell_type": "markdown",
   "metadata": {},
   "source": [
    "#### Dictionary-Methoden\n"
   ]
  },
  {
   "cell_type": "code",
   "execution_count": null,
   "metadata": {},
   "outputs": [],
   "source": [
    "cities = {\n",
    "    \"Berlin\": 3.7,\n",
    "    \"Hamburg\": 1.8,\n",
    "    \"München\": 1.5,\n",
    "    \"Köln\": 1.1\n",
    "}\n",
    "print(\"Städte-Dictionary:\", cities)\n",
    "\n",
    "# keys(): Gibt ein Objekt mit allen Schlüsseln zurück\n",
    "city_names = list(cities.keys())\n",
    "print(\"Alle Städte:\", city_names)\n",
    "\n",
    "# values(): Gibt ein Objekt mit allen Werten zurück\n",
    "populations = list(cities.values())\n",
    "print(\"Alle Einwohnerzahlen (in Mio.):\", populations)\n",
    "\n",
    "# items(): Gibt ein Objekt mit allen Schlüssel-Wert-Paaren zurück\n",
    "city_items = list(cities.items())\n",
    "print(\"Alle Schlüssel-Wert-Paare:\", city_items)\n",
    "\n",
    "# pop(): Entfernt ein Element und gibt dessen Wert zurück\n",
    "koeln_population = cities.pop(\"Köln\")\n",
    "print(f\"Entfernt: Köln mit {koeln_population} Mio. Einwohnern\")\n",
    "print(\"Nach pop():\", cities)\n",
    "\n",
    "# update(): Fügt Elemente aus einem anderen Dictionary hinzu\n",
    "more_cities = {\"Frankfurt\": 0.75, \"Stuttgart\": 0.63, \"Köln\": 1.1}\n",
    "cities.update(more_cities)\n",
    "print(\"Nach update():\", cities)\n",
    "\n",
    "# clear(): Entfernt alle Elemente\n",
    "cities.clear()\n",
    "print(\"Nach clear():\", cities)"
   ]
  },
  {
   "cell_type": "markdown",
   "metadata": {},
   "source": [
    "**Übung 5.1a**: Erstelle ein Dictionary, das Länder und ihre Hauptstädte speichert. Füge mindestens 5 Länder hinzu. Schreibe dann Code, der einen Benutzer nach einem Land fragt und die entsprechende Hauptstadt ausgibt. Wenn das Land nicht im Dictionary vorhanden ist, sollte eine entsprechende Nachricht ausgegeben werden."
   ]
  },
  {
   "cell_type": "code",
   "execution_count": null,
   "metadata": {},
   "outputs": [],
   "source": [
    "# Deine Lösung hier\n"
   ]
  },
  {
   "cell_type": "markdown",
   "metadata": {},
   "source": [
    "**Übung 5.1b**: Erstelle ein Dictionary, das Produkte und ihre Preise speichert. Führe dann die folgenden Operationen durch:\n",
    "1. Füge 3 neue Produkte hinzu\n",
    "2. Ändere den Preis eines vorhandenen Produkts\n",
    "3. Entferne ein Produkt\n",
    "4. Gib alle Produkte und ihre Preise aus\n",
    "5. Berechne den Gesamtwert aller Produkte"
   ]
  },
  {
   "cell_type": "code",
   "execution_count": null,
   "metadata": {},
   "outputs": [],
   "source": [
    "# Deine Lösung hier\n"
   ]
  },
  {
   "cell_type": "markdown",
   "metadata": {},
   "source": [
    "### 5.2 Sets\n",
    "\n",
    "Ein Set (Menge) ist eine ungeordnete Sammlung einzigartiger Elemente. Sets werden verwendet, um Duplikate zu entfernen und Mengenoperationen wie Vereinigung, Schnittmenge und Differenz durchzuführen."
   ]
  },
  {
   "cell_type": "code",
   "execution_count": null,
   "metadata": {},
   "outputs": [],
   "source": [
    "# Leeres Set erstellen\n",
    "empty_set = set()  # Beachte: {} würde ein leeres Dictionary erstellen!\n",
    "print(\"Leeres Set:\", empty_set)\n",
    "\n",
    "# Set mit Elementen erstellen\n",
    "fruits = {\"Apfel\", \"Banane\", \"Kirsche\", \"Apfel\"}  # Beachte: \"Apfel\" wird nur einmal gespeichert\n",
    "print(\"Früchte-Set:\", fruits)\n",
    "\n",
    "# Set aus einer Liste erstellen (Duplikate werden entfernt)\n",
    "numbers = [1, 2, 3, 2, 4, 3, 5, 1, 6]\n",
    "unique_numbers = set(numbers)\n",
    "print(\"Ursprüngliche Liste:\", numbers)\n",
    "print(\"Eindeutige Zahlen als Set:\", unique_numbers)\n",
    "\n",
    "# Elemente zu einem Set hinzufügen\n",
    "fruits.add(\"Dattel\")\n",
    "print(\"Nach add('Dattel'):\", fruits)\n",
    "\n",
    "# Mehrere Elemente hinzufügen\n",
    "fruits.update([\"Erdbeere\", \"Feige\", \"Banane\"])  # \"Banane\" wird ignoriert, da bereits vorhanden\n",
    "print(\"Nach update():\", fruits)\n",
    "\n",
    "# Element entfernen\n",
    "fruits.remove(\"Banane\")  # Wirft einen Fehler, wenn das Element nicht vorhanden ist\n",
    "print(\"Nach remove('Banane'):\", fruits)\n",
    "\n",
    "# Sichereres Entfernen\n",
    "fruits.discard(\"Zitrone\")  # Keine Fehlermeldung, wenn das Element nicht existiert\n",
    "print(\"Nach discard('Zitrone'):\", fruits)"
   ]
  },
  {
   "cell_type": "markdown",
   "metadata": {},
   "source": [
    "#### Mengenoperationen mit Sets\n"
   ]
  },
  {
   "cell_type": "code",
   "execution_count": null,
   "metadata": {},
   "outputs": [],
   "source": [
    "# Zwei Sets erstellen\n",
    "set_a = {1, 2, 3, 4, 5}\n",
    "set_b = {4, 5, 6, 7, 8}\n",
    "\n",
    "print(\"Set A:\", set_a)\n",
    "print(\"Set B:\", set_b)\n",
    "\n",
    "# Vereinigung (Union): Alle Elemente aus beiden Sets\n",
    "union = set_a | set_b  # Alternative: set_a.union(set_b)\n",
    "print(\"Vereinigung (A | B):\", union)\n",
    "\n",
    "# Schnittmenge (Intersection): Elemente, die in beiden Sets vorkommen\n",
    "intersection = set_a & set_b  # Alternative: set_a.intersection(set_b)\n",
    "print(\"Schnittmenge (A & B):\", intersection)\n",
    "\n",
    "# Differenz: Elemente, die in A, aber nicht in B sind\n",
    "difference = set_a - set_b  # Alternative: set_a.difference(set_b)\n",
    "print(\"Differenz (A - B):\", difference)\n",
    "\n",
    "# Symmetrische Differenz: Elemente, die in einem der Sets, aber nicht in beiden sind\n",
    "symmetric_difference = set_a ^ set_b  # Alternative: set_a.symmetric_difference(set_b)\n",
    "print(\"Symmetrische Differenz (A ^ B):\", symmetric_difference)\n",
    "\n",
    "# Teilmenge (Subset) und Obermenge (Superset) prüfen\n",
    "set_c = {1, 2, 3}\n",
    "print(f\"Ist C eine Teilmenge von A? {set_c <= set_a}\")  # Alternative: set_c.issubset(set_a)\n",
    "print(f\"Ist A eine Obermenge von C? {set_a >= set_c}\")  # Alternative: set_a.issuperset(set_c)"
   ]
  },
  {
   "cell_type": "markdown",
   "metadata": {},
   "source": [
    "#### Praktische Anwendungen von Sets\n"
   ]
  },
  {
   "cell_type": "code",
   "execution_count": null,
   "metadata": {},
   "outputs": [],
   "source": [
    "# Beispiel 1: Duplikate aus einer Liste entfernen\n",
    "numbers = [3, 7, 2, 9, 3, 7, 1, 5, 2, 6, 7]\n",
    "unique_numbers = list(set(numbers))\n",
    "print(\"Ursprüngliche Liste:\", numbers)\n",
    "print(\"Liste ohne Duplikate:\", unique_numbers)\n",
    "\n",
    "# Beispiel 2: Gemeinsame Elemente finden\n",
    "list1 = [\"Apfel\", \"Banane\", \"Kirsche\", \"Dattel\"]\n",
    "list2 = [\"Banane\", \"Dattel\", \"Erdbeere\", \"Feige\"]\n",
    "common_elements = set(list1) & set(list2)\n",
    "print(\"Früchte in beiden Listen:\", common_elements)\n",
    "\n",
    "# Beispiel 3: Eindeutige Wörter in einem Text zählen\n",
    "text = \"Python ist eine großartige Sprache. Python wird oft für Datenanalyse verwendet.\"\n",
    "words = text.lower().replace(\".\", \"\").split()\n",
    "unique_words = set(words)\n",
    "print(f\"Der Text enthält {len(words)} Wörter, davon {len(unique_words)} einzigartige.\")\n",
    "print(\"Einzigartige Wörter:\", unique_words)"
   ]
  },
  {
   "cell_type": "markdown",
   "metadata": {},
   "source": [
    "**Übung 5.2a**: Gegeben seien zwei Listen mit den Namen von Studenten, die einen Python-Kurs und einen Java-Kurs besuchen. Verwende Sets, um folgende Fragen zu beantworten:\n",
    "1. Welche Studenten besuchen beide Kurse?\n",
    "2. Welche Studenten besuchen nur den Python-Kurs?\n",
    "3. Welche Studenten besuchen nur den Java-Kurs?\n",
    "4. Welche Studenten besuchen mindestens einen der beiden Kurse?"
   ]
  },
  {
   "cell_type": "code",
   "execution_count": null,
   "metadata": {},
   "outputs": [],
   "source": [
    "# Deine Lösung hier\n"
   ]
  },
  {
   "cell_type": "markdown",
   "metadata": {},
   "source": [
    "**Übung 5.2b**: Schreibe eine Funktion, die einen Text entgegennimmt und eine Menge aller eindeutigen Zeichen zurückgibt, die darin vorkommen. Zähle dann, wie viele Vokale und Konsonanten im Text vorkommen. Hinweis: Vokale sind a, e, i, o, u."
   ]
  },
  {
   "cell_type": "code",
   "execution_count": null,
   "metadata": {},
   "outputs": [],
   "source": [
    "# Deine Lösung hier\n"
   ]
  },
  {
   "cell_type": "markdown",
   "metadata": {},
   "source": [
    "## 6. Dateien\n",
    "\n",
    "In diesem letzten Abschnitt lernen wir, wie wir Daten in Dateien speichern und aus Dateien lesen können. Dies ist eine wichtige Fähigkeit, um Daten dauerhaft zu speichern und zwischen Programmläufen verfügbar zu machen.\n",
    "\n",
    "### 💡 Leitfrage: \n",
    "Warum ist das Arbeiten mit Dateien wichtig, und welche Sicherheitsmaßnahmen sollten wir beachten?\n",
    "\n",
    "### 6.1 Lesen und Schreiben von Textdateien\n",
    "\n",
    "Das Lesen und Schreiben von Dateien ist ein grundlegender Bestandteil vieler Programme. In Python gibt es einfache Funktionen, um mit Textdateien zu arbeiten."
   ]
  },
  {
   "cell_type": "code",
   "execution_count": null,
   "metadata": {},
   "outputs": [],
   "source": [
    "# Eine Textdatei zum Schreiben öffnen\n",
    "file = open(\"beispiel.txt\", \"w\")  # 'w' steht für 'write' (schreiben)\n",
    "\n",
    "# Text in die Datei schreiben\n",
    "file.write(\"Hallo, Welt!\\n\")\n",
    "file.write(\"Dies ist eine Beispieldatei.\\n\")\n",
    "file.write(\"Python macht das Arbeiten mit Dateien einfach.\")\n",
    "\n",
    "# Datei schließen (wichtig!)\n",
    "file.close()\n",
    "\n",
    "print(\"Datei wurde geschrieben!\")\n",
    "\n",
    "# Eine Textdatei zum Lesen öffnen\n",
    "file = open(\"beispiel.txt\", \"r\")  # 'r' steht für 'read' (lesen)\n",
    "\n",
    "# Gesamten Inhalt auf einmal lesen\n",
    "content = file.read()\n",
    "print(\"\\nInhalt der gesamten Datei:\")\n",
    "print(content)\n",
    "\n",
    "# Datei schließen\n",
    "file.close()\n",
    "\n",
    "# Datei zeilenweise lesen\n",
    "file = open(\"beispiel.txt\", \"r\")\n",
    "print(\"\\nZeilenweise lesen:\")\n",
    "for i, line in enumerate(file, 1):\n",
    "    print(f\"Zeile {i}: {line.strip()}\")  # strip() entfernt Whitespace am Anfang/Ende\n",
    "\n",
    "# Datei schließen\n",
    "file.close()"
   ]
  },
  {
   "cell_type": "markdown",
   "metadata": {},
   "source": [
    "#### Weitere Methoden zum Lesen von Dateien"
   ]
  },
  {
   "cell_type": "code",
   "execution_count": null,
   "metadata": {},
   "outputs": [],
   "source": [
    "# Datei öffnen\n",
    "file = open(\"beispiel.txt\", \"r\")\n",
    "\n",
    "# readline(): Liest eine einzelne Zeile\n",
    "first_line = file.readline().strip()\n",
    "print(\"Erste Zeile:\", first_line)\n",
    "\n",
    "second_line = file.readline().strip()\n",
    "print(\"Zweite Zeile:\", second_line)\n",
    "\n",
    "# Dateizeiger zurücksetzen\n",
    "file.seek(0)  # Zurück zum Anfang der Datei\n",
    "\n",
    "# readlines(): Liest alle Zeilen in eine Liste\n",
    "lines = file.readlines()\n",
    "print(\"\\nAlle Zeilen als Liste:\")\n",
    "print(lines)\n",
    "\n",
    "# Jede Zeile ohne Zeilenumbruch ausgeben\n",
    "print(\"\\nZeilen ohne Zeilenumbruch:\")\n",
    "for line in lines:\n",
    "    print(line.strip())\n",
    "\n",
    "# Datei schließen\n",
    "file.close()"
   ]
  },
  {
   "cell_type": "markdown",
   "metadata": {},
   "source": [
    "#### Zum Anhängen öffnen\n"
   ]
  },
  {
   "cell_type": "code",
   "execution_count": null,
   "metadata": {},
   "outputs": [],
   "source": [
    "# Datei zum Anhängen öffnen (fügt Inhalt am Ende hinzu, ohne vorhandenen Inhalt zu löschen)\n",
    "file = open(\"beispiel.txt\", \"a\")  # 'a' steht für 'append' (anhängen)\n",
    "\n",
    "# Neue Zeilen anhängen\n",
    "file.write(\"\\nDiese Zeile wurde nachträglich angehängt.\")\n",
    "file.write(\"\\nUnd noch eine Zeile.\")\n",
    "\n",
    "# Datei schließen\n",
    "file.close()\n",
    "\n",
    "print(\"Neue Zeilen wurden angehängt!\")\n",
    "\n",
    "# Inhalt der aktualisierten Datei anzeigen\n",
    "file = open(\"beispiel.txt\", \"r\")\n",
    "print(\"\\nAktualisierter Inhalt:\")\n",
    "print(file.read())\n",
    "file.close()"
   ]
  },
  {
   "cell_type": "markdown",
   "metadata": {},
   "source": [
    "#### Fehlerbehandlung beim Dateizugriff\n",
    "\n",
    "Beim Arbeiten mit Dateien können verschiedene Fehler auftreten, z.B. wenn eine Datei nicht existiert oder nicht gelesen werden kann. Mit try-except-Blöcken können wir solche Fehler abfangen."
   ]
  },
  {
   "cell_type": "code",
   "execution_count": null,
   "metadata": {},
   "outputs": [],
   "source": [
    "# Versuch, eine nicht existierende Datei zu öffnen\n",
    "try:\n",
    "    file = open(\"nicht_existent.txt\", \"r\")\n",
    "    content = file.read()\n",
    "    file.close()\n",
    "except FileNotFoundError:\n",
    "    print(\"Die Datei wurde nicht gefunden!\")\n",
    "except IOError:\n",
    "    print(\"Ein Ein-/Ausgabefehler ist aufgetreten!\")\n",
    "    if file:\n",
    "        file.close()\n",
    "except Exception as e:\n",
    "    print(f\"Ein unerwarteter Fehler ist aufgetreten: {e}\")\n",
    "    if file:\n",
    "        file.close()"
   ]
  },
  {
   "cell_type": "markdown",
   "metadata": {},
   "source": [
    "### 6.2 Kontextmanager (with-Anweisung)\n",
    "\n",
    "Die `with`-Anweisung stellt einen sauberen und sicheren Weg dar, um mit Dateien zu arbeiten. Sie stellt sicher, dass die Datei ordnungsgemäß geschlossen wird, auch wenn während der Verarbeitung ein Fehler auftritt.\n"
   ]
  },
  {
   "cell_type": "code",
   "execution_count": null,
   "metadata": {},
   "outputs": [],
   "source": [
    "# Schreiben mit with-Anweisung\n",
    "with open(\"mit_with.txt\", \"w\") as file:\n",
    "    file.write(\"Mit der with-Anweisung geschrieben.\\n\")\n",
    "    file.write(\"Die Datei wird automatisch geschlossen.\")\n",
    "\n",
    "# Die Datei ist hier bereits geschlossen!\n",
    "print(\"Datei wurde geschrieben und automatisch geschlossen!\")\n",
    "\n",
    "# Lesen mit with-Anweisung\n",
    "with open(\"mit_with.txt\", \"r\") as file:\n",
    "    content = file.read()\n",
    "    print(\"\\nInhalt der Datei:\")\n",
    "    print(content)\n",
    "\n",
    "# Mehrere Dateien gleichzeitig öffnen\n",
    "try:\n",
    "    with open(\"beispiel.txt\", \"r\") as source, open(\"kopie.txt\", \"w\") as destination:\n",
    "        # Inhalt von einer Datei in die andere kopieren\n",
    "        content = source.read()\n",
    "        destination.write(content)\n",
    "    print(\"\\nDatei wurde kopiert!\")\n",
    "except Exception as e:\n",
    "    print(f\"Fehler beim Kopieren: {e}\")"
   ]
  },
  {
   "cell_type": "markdown",
   "metadata": {},
   "source": [
    "#### Dateien und Datenstrukturen kombinieren\n"
   ]
  },
  {
   "cell_type": "code",
   "execution_count": null,
   "metadata": {},
   "outputs": [],
   "source": [
    "# Beispiel: Wörterzählung in einer Textdatei\n",
    "\n",
    "# Zuerst eine Beispieldatei erstellen\n",
    "with open(\"artikel.txt\", \"w\") as file:\n",
    "    file.write(\"\"\"Python ist eine interpretierte Hochsprache, die oft für allgemeine Programmierung verwendet wird.\n",
    "Python legt Wert auf Codelesbarkeit und erlaubt es Programmierern, Konzepte mit weniger Codezeilen\n",
    "als in anderen Sprachen wie C++ oder Java auszudrücken. Python unterstützt verschiedene Programmierparadigmen,\n",
    "darunter objektorientierte, imperative und funktionale Programmierung.\"\"\")\n",
    "\n",
    "# Nun die Datei lesen und Wörter zählen\n",
    "word_count = {}\n",
    "\n",
    "with open(\"artikel.txt\", \"r\") as file:\n",
    "    for line in file:\n",
    "        # Satzzeichen entfernen und Wörter aufteilen\n",
    "        words = line.strip().lower().replace(\",\", \"\").replace(\".\", \"\").split()\n",
    "        \n",
    "        # Jedes Wort zählen\n",
    "        for word in words:\n",
    "            if word in word_count:\n",
    "                word_count[word] += 1\n",
    "            else:\n",
    "                word_count[word] = 1\n",
    "\n",
    "# Nach Häufigkeit sortieren\n",
    "sorted_words = sorted(word_count.items(), key=lambda x: x[1], reverse=True)\n",
    "\n",
    "# Die häufigsten 10 Wörter ausgeben\n",
    "print(\"Die häufigsten Wörter:\")\n",
    "for word, count in sorted_words[:10]:\n",
    "    print(f\"{word}: {count} Mal\")\n",
    "\n",
    "# Ergebnisse in eine neue Datei schreiben\n",
    "with open(\"wortzaehlung.txt\", \"w\") as file:\n",
    "    file.write(\"Wort-Häufigkeiten:\\n\")\n",
    "    for word, count in sorted_words:\n",
    "        file.write(f\"{word}: {count}\\n\")\n",
    "\n",
    "print(\"\\nErgebnisse wurden in 'wortzaehlung.txt' gespeichert.\")"
   ]
  },
  {
   "cell_type": "markdown",
   "metadata": {},
   "source": [
    "**Übung 6.2a**: Schreibe ein Programm, das eine Einkaufsliste in eine Datei speichert. Die Liste soll mehrere Produkte mit ihren Preisen enthalten. Das Programm soll dann die Datei lesen und den Gesamtpreis aller Produkte berechnen."
   ]
  },
  {
   "cell_type": "code",
   "execution_count": null,
   "metadata": {},
   "outputs": [],
   "source": [
    "# Deine Lösung hier\n"
   ]
  },
  {
   "cell_type": "markdown",
   "metadata": {},
   "source": [
    "**Übung 6.2b**: Schreibe ein Programm, das einen Textdatei einliest und die folgenden Statistiken ausgibt:\n",
    "1. Gesamtzahl der Zeilen\n",
    "2. Gesamtzahl der Wörter\n",
    "3. Gesamtzahl der Zeichen (ohne Leerzeichen)\n",
    "4. Durchschnittliche Anzahl von Wörtern pro Zeile\n",
    "5. Das längste Wort im Text"
   ]
  },
  {
   "cell_type": "code",
   "execution_count": null,
   "metadata": {},
   "outputs": [],
   "source": [
    "# Deine Lösung hier\n"
   ]
  },
  {
   "cell_type": "markdown",
   "metadata": {},
   "source": [
    "## Zusammenfassung\n",
    "\n",
    "In diesem Notebook haben wir die wichtigsten Datenstrukturen in Python kennengelernt:\n",
    "\n",
    "1. **Listen**\n",
    "   - Veränderbare, geordnete Sammlungen von Elementen\n",
    "   - Verschiedene Methoden zum Hinzufügen, Entfernen und Ändern von Elementen\n",
    "   - Slicing zum Arbeiten mit Teilbereichen\n",
    "\n",
    "2. **Tupel**\n",
    "   - Unveränderbare, geordnete Sammlungen von Elementen\n",
    "   - Effizient für Daten, die sich nicht ändern sollen\n",
    "   - Ideal für Multiwert-Rückgaben und Tuple-Unpacking\n",
    "\n",
    "3. **Dictionaries**\n",
    "   - Schlüssel-Wert-Paare für schnellen Zugriff auf Werte über ihre Schlüssel\n",
    "   - Ideal für Nachschlageoperationen und strukturierte Daten\n",
    "   - Vielseitige Methoden zum Bearbeiten und Durchlaufen\n",
    "\n",
    "4. **Sets**\n",
    "   - Ungeordnete Sammlungen einzigartiger Elemente\n",
    "   - Ideal zum Entfernen von Duplikaten und für Mengenoperationen\n",
    "   - Effiziente Mitgliedschaftstests\n",
    "\n",
    "5. **Dateien**\n",
    "   - Lesen und Schreiben von Textdateien\n",
    "   - Sichere Dateiverarbeitung mit der with-Anweisung\n",
    "   - Fehlerbehandlung beim Dateizugriff\n",
    "\n",
    "Diese Datenstrukturen bilden die Grundlage für die effiziente Verarbeitung und Organisation von Daten in Python. Die Wahl der richtigen Datenstruktur hängt vom konkreten Anwendungsfall ab:\n",
    "\n",
    "- Listen für geordnete, veränderbare Sequenzen\n",
    "- Tupel für unveränderbare Datengruppen\n",
    "- Dictionaries für Schlüssel-Wert-Zuordnungen\n",
    "- Sets für eindeutige Elemente und Mengenoperationen\n",
    "- Dateien für die dauerhafte Speicherung von Daten\n",
    "\n",
    "Für die PCEP-Prüfung ist es wichtig, die Grundkonzepte und Anwendungsbereiche dieser Datenstrukturen zu verstehen, da sie in nahezu allen Python-Programmen verwendet werden.\n",
    "\n",
    "## Weiterführende Ressourcen\n",
    "\n",
    "- [Offizielle Python-Dokumentation zu Datenstrukturen](https://docs.python.org/3/tutorial/datastructures.html)\n",
    "- [Offizielle Python-Dokumentation zu Ein-/Ausgabe](https://docs.python.org/3/tutorial/inputoutput.html)\n",
    "- [PCEP – Certified Entry-Level Python Programmer](https://pythoninstitute.org/certification/pcep-certification-entry-level/)\n",
    "- [Python for Everybody - Coursera-Kurs](https://www.coursera.org/specializations/python)\n",
    "- [Automate the Boring Stuff with Python](https://automatetheboringstuff.com/)\n",
    "- [Real Python - Python Datenstrukturen](https://realpython.com/python-data-structures/)"
   ]
  }
 ],
 "metadata": {
  "kernelspec": {
   "display_name": "Python 3",
   "language": "python",
   "name": "python3"
  },
  "language_info": {
   "name": "python",
   "version": "3.11.11"
  }
 },
 "nbformat": 4,
 "nbformat_minor": 2
}
