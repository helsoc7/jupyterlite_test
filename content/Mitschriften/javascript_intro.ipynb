{
  "metadata": {
    "kernelspec": {
      "name": "javascript",
      "display_name": "JavaScript (Web Worker)",
      "language": "javascript"
    },
    "language_info": {
      "codemirror_mode": {
        "name": "javascript"
      },
      "file_extension": ".js",
      "mimetype": "text/javascript",
      "name": "javascript",
      "nbconvert_exporter": "javascript",
      "pygments_lexer": "javascript",
      "version": "es2017"
    }
  },
  "nbformat_minor": 5,
  "nbformat": 4,
  "cells": [
    {
      "id": "ce7b0a63-3dec-4c12-b5cb-618d799017c2",
      "cell_type": "markdown",
      "source": "# 🚀 JavaScript für Anfänger: Ein interaktiver Leitfaden\n\nHerzlich Willkommen zu deinem ersten interaktiven JavaScript-Kurs! In diesem Notebook lernst du die fundamentalen Bausteine der Programmiersprache JavaScript kennen. Wir gehen Schritt für Schritt vor, mit vielen Beispielen und kleinen Übungen.\n\n**Wie du dieses Notebook benutzt:**\n1. Lies die Erklärungen in den Text-Zellen (so wie diese hier).\n2. Führe die Code-Beispiele in den Code-Zellen aus. Klicke dazu in die Zelle und drücke `Shift + Enter` (oder den \"Play\"-Button).\n3. Löse die kleinen Aufgaben direkt im Notebook.\n\nViel Spaß beim Lernen!\n\n### Inhaltsverzeichnis\n1. [Was sind Variablen? (`let`, `const`)](#1.-Was-sind-Variablen?-(`let`,-`const`))\n2. [Hallo Welt! - Deine erste Ausgabe (`console.log`)](#2.-Hallo-Welt!---Deine-erste-Ausgabe-(`console.log`))\n3. [Datentypen: Die Bausteine von JavaScript](#3.-Datentypen:-Die-Bausteine-von-JavaScript)\n4. [Operatoren: Rechnen und Vergleichen](#4.-Operatoren:-Rechnen-und-Vergleichen)\n5. [Entscheidungen treffen mit `if`, `else` und `switch`](#5.-Entscheidungen-treffen-mit-`if`,-`else`-und-`switch`)\n6. [Datenstrukturen: Arrays und Objekte](#6.-Datenstrukturen:-Arrays-und-Objekte)\n7. [Schleifen: Dinge wiederholen (`for`, `while`)](#7.-Schleifen:-Dinge-wiederholen-(`for`,-`while`))\n8. [Funktionen: Wiederverwendbarer Code](#8.-Funktionen:-Wiederverwendbarer-Code)\n9. [Fehlerbehandlung mit `try...catch`](#9.-Fehlerbehandlung-mit-`try...catch`)\n10. [Zusammenfassende Aufgabe](#10.-Zusammenfassende-Aufgabe)",
      "metadata": {
        "tags": [],
        "editable": true,
        "slideshow": {
          "slide_type": ""
        }
      }
    },
    {
      "id": "6edac8b7-00ea-42dc-88fb-2398c5196698",
      "cell_type": "markdown",
      "source": "## 1. Was sind Variablen? (`let`, `const`)\n\nStell dir eine Variable wie eine beschriftete Kiste vor, in der du Informationen speichern kannst. Jede Kiste hat einen Namen (den Variablennamen), und du kannst etwas hineinlegen (den Wert).\n\nIn modernem JavaScript gibt es zwei Hauptarten, Variablen zu deklarieren:\n- `let`: Für Variablen, deren Wert sich im Laufe des Programms ändern kann.\n- `const`: Für Konstanten, deren Wert nach der ersten Zuweisung **nicht** mehr geändert werden soll.",
      "metadata": {}
    },
    {
      "id": "76cc5be3-8955-41a6-8283-f469cf63fd68",
      "cell_type": "code",
      "source": "// Deklarieren einer Variable mit `let`\n// const alter = 25;\nlet alter; \n// console.log(\"Der Wert ist:\", alter);\nalter = 25;\nconsole.log(\"Mein Alter:\", alter);\n\n// Der Wert kann später geändert werden\nalter = 26;\nconsole.log(\"Nächstes Jahr bin ich:\", alter);\n\n// Deklarieren einer Konstante mit `const`\n// const geburtsjahr = 1998;\nconst geburtsjahr = 1998;\nconsole.log(\"Mein Geburtsjahr:\", geburtsjahr);\n\n// Versuch, die Konstante zu ändern (wird einen Fehler verursachen!)\n// geburtsjahr = 1999; // Kommentiere diese Zeile ein und führe den Code aus, um den Fehler zu sehen.",
      "metadata": {
        "trusted": true
      },
      "outputs": [
        {
          "name": "stdout",
          "output_type": "stream",
          "text": "Der Wert ist: \nMein Alter: 25\nNächstes Jahr bin ich: 26\nMein Geburtsjahr: 1998\n"
        },
        {
          "execution_count": 6,
          "output_type": "execute_result",
          "data": {},
          "metadata": {}
        }
      ],
      "execution_count": 9
    },
    {
      "id": "3ad64b90-35ee-4973-864f-f1110b38c049",
      "cell_type": "code",
      "source": "console.log(\"Hello World\");",
      "metadata": {
        "trusted": true
      },
      "outputs": [
        {
          "name": "stdout",
          "output_type": "stream",
          "text": "Hello World\n"
        },
        {
          "execution_count": 1,
          "output_type": "execute_result",
          "data": {},
          "metadata": {}
        }
      ],
      "execution_count": 1
    },
    {
      "id": "1e9649b6-618f-40b5-a459-83b0e0a2c700",
      "cell_type": "markdown",
      "source": "**Regel:** Benutze `const` so oft wie möglich. Wechsle nur dann zu `let`, wenn du weißt, dass du den Wert der Variable später neu zuweisen musst.",
      "metadata": {}
    },
    {
      "id": "3b9b6d75-43b8-4a8f-883c-3611723914b2",
      "cell_type": "markdown",
      "source": "**✍️ Aufgabe 1.1:**\n1. Deklariere eine Konstante `name` und weise ihr deinen Vornamen als Wert zu.\n2. Deklariere eine Variable `lieblingsfarbe` mit `let` und weise ihr deine Lieblingsfarbe zu.\n3. Gib beide Variablen mit `console.log` aus.",
      "metadata": {}
    },
    {
      "id": "bc65a29f-f67f-4af7-bde3-ae559a0c193e",
      "cell_type": "code",
      "source": "const name = \"vorname\";\nlet lieblingsfarbe = \"grün\";\n\nconsole.log(\"Ich bin\", name);\nconsole.log(\"Meine Lieblingsfarbe ist\", lieblingsfarbe);\n\nconsole.log(`Ich bin ${name} und meine Lieblingsfarbe ist ${lieblingsfarbe}`);\n\nconsole.log(\"Hallo\", name, \"Das ist meine Lieblingsfarbe\", lieblingsfarbe);\nconsole.log(\"Hallo\" + name + \"Das ist meine Lieblingsfarbe\" + lieblingsfarbe);\n",
      "metadata": {
        "trusted": true
      },
      "outputs": [
        {
          "name": "stdout",
          "output_type": "stream",
          "text": "Ich bin vorname\nMeine Lieblingsfarbe ist grün\nIch bin vorname und meine Lieblingsfarbe ist grün\nHallo vorname Das ist meine Lieblingsfarbe grün\nHallovornameDas ist meine Lieblingsfarbegrün\n"
        },
        {
          "execution_count": 12,
          "output_type": "execute_result",
          "data": {},
          "metadata": {}
        }
      ],
      "execution_count": 15
    },
    {
      "id": "05c3c642-dfe9-41d9-8e52-79f6f7195be0",
      "cell_type": "markdown",
      "source": "## 2. Hallo Welt! - Deine erste Ausgabe (`console.log`)\n\nWie du schon gesehen hast, ist `console.log()` das wichtigste Werkzeug für jeden JavaScript-Entwickler. Es erlaubt dir, Werte, Variablen oder Nachrichten in der Entwicklerkonsole (oder hier in der Ausgabe unter der Code-Zelle) auszugeben.\n\nDu kannst `console.log` einen oder mehrere Werte übergeben, die durch Kommas getrennt sind.",
      "metadata": {}
    },
    {
      "id": "d04eb81b-caf0-4614-9e84-9a03b5663e18",
      "cell_type": "code",
      "source": "console.log(\"Hallo Welt!\");\n\nconst stadt = \"Berlin\";\nconst einwohner = 3700000;\n\nconsole.log(stadt, \"hat ca.\", einwohner, \"Einwohner.\");",
      "metadata": {},
      "outputs": [],
      "execution_count": null
    },
    {
      "id": "d621d828-c145-4b47-87e6-4cb8de88cd9f",
      "cell_type": "code",
      "source": "const name = 3;\n\nfunction begruessung() {\n  console.log('Hallo,'+ name + '!');\n}\n\nbegruessung();",
      "metadata": {
        "trusted": true
      },
      "outputs": [
        {
          "name": "stdout",
          "output_type": "stream",
          "text": "Hallo,3!\n"
        },
        {
          "execution_count": 16,
          "output_type": "execute_result",
          "data": {},
          "metadata": {}
        }
      ],
      "execution_count": 19
    },
    {
      "id": "3500d023-e5e5-4c7f-beb9-3dbc2f8841cd",
      "cell_type": "markdown",
      "source": "## 3. Datentypen: Die Bausteine von JavaScript\n\nVariablen können verschiedene Arten von Daten speichern. Die wichtigsten (primitiven) Datentypen sind:\n\n- **String**: Text, immer in Anführungszeichen (`\"\"` oder `''`) oder Backticks (`` ` ``).\n- **Number**: Zahlen, sowohl Ganzzahlen (z.B. `10`) als auch Kommazahlen (z.B. `3.14`).\n- **Boolean**: Logische Werte, die nur `true` (wahr) oder `false` (falsch) sein können.\n- **`undefined`**: Eine Variable, die deklariert, aber der noch kein Wert zugewiesen wurde.\n- **`null`**: Repräsentiert absichtlich das Fehlen eines Wertes.",
      "metadata": {}
    },
    {
      "id": "640b86a8-4975-43de-975f-686028530055",
      "cell_type": "code",
      "source": "// String\nconst gruss = \"Hallo JavaScript!\";\nconsole.log(\"String:\", gruss);\n\n// Number\nconst anzahl = 42;\nconst preis = 19.99;\nconsole.log(\"Number:\", anzahl, preis);\n\n// Boolean\nconst istSonnig = true;\nconst istMontag = false;\nconsole.log(\"Boolean:\", istSonnig, istMontag);\n\n// undefined\nlet zukunft;\nconsole.log(\"undefined:\", zukunft);\n\n// null\nlet keinWert = null;\nconsole.log(\"null:\", keinWert);\n\n// Mit `typeof` können wir den Datentyp einer Variable überprüfen\nconsole.log(\"Typ von 'gruss':\", typeof gruss);\nconsole.log(\"Typ von 'preis':\", typeof preis);\nconsole.log(\"Typ von 'istSonnig':\", typeof istSonnig);",
      "metadata": {
        "trusted": true
      },
      "outputs": [
        {
          "name": "stdout",
          "output_type": "stream",
          "text": "String: Hallo JavaScript!\nNumber: 42 19.99\nBoolean: true false\nundefined: \nnull: \nTyp von 'gruss': string\nTyp von 'preis': number\nTyp von 'istSonnig': boolean\n"
        },
        {
          "execution_count": 17,
          "output_type": "execute_result",
          "data": {},
          "metadata": {}
        }
      ],
      "execution_count": 20
    },
    {
      "id": "ec697549-aee6-429a-8de4-9d45f72d3e47",
      "cell_type": "markdown",
      "source": "### Template Literals (Moderne Strings)\n\nMit Backticks (`` ` ``) kannst du Variablen direkt in einen String einbetten. Das ist oft einfacher zu lesen als das Zusammenfügen mit `+`.",
      "metadata": {}
    },
    {
      "id": "22b716f1-46ac-4114-88e0-f98242141fbe",
      "cell_type": "code",
      "source": "const benutzername = \"Anna\";\nconst alter = 30;\n\n// Alte Methode mit `+`\nconst begruessungAlt = \"Hallo, mein Name ist \" + benutzername + \" und ich bin \" + alter + \" Jahre alt.\";\nconsole.log(begruessungAlt);\n\n// Moderne Methode mit Template Literals\nconst begruessungNeu = `Hallo, mein Name ist ${benutzername} und ich bin ${alter} Jahre alt.`;\nconsole.log(begruessungNeu);",
      "metadata": {},
      "outputs": [],
      "execution_count": null
    },
    {
      "id": "59377f63-8742-4123-b659-7aa3724c3f45",
      "cell_type": "markdown",
      "source": "**✍️ Aufgabe 3.1:**\nErstelle eine Variable `artikel` (String), eine Variable `preis` (Number) und eine Variable `verfuegbar` (Boolean).\nGib dann mit einem Template Literal einen Satz aus, der alle drei Informationen enthält, z.B.: \"Der Artikel 'Laptop' kostet 999.99€ und ist verfügbar: true.\"",
      "metadata": {}
    },
    {
      "id": "96483d91-0278-4451-be83-377abab157ac",
      "cell_type": "code",
      "source": "const artikel = \"Laptop\";\nconst preis = 199;\nconst verfuegbarBool = true;\nlet verfuegbar;\n\nif (verfuegbarBool){\n    verfuegbar = \"ja\";\n}\nelse {\n    verfuegbar = \"nein\";\n}\n    \n\n    \nconst outputString = `Dieser Artikel ${artikel} kostet bei uns im Shop ${preis} und ist erhältlich? ${verfuegbar}.`;\nconsole.log(outputString);\n",
      "metadata": {
        "trusted": true
      },
      "outputs": [
        {
          "name": "stdout",
          "output_type": "stream",
          "text": "Dieser Artikel Laptop kostet bei uns im Shop 199 und ist erhältlich? ja.\n"
        },
        {
          "execution_count": 19,
          "output_type": "execute_result",
          "data": {},
          "metadata": {}
        }
      ],
      "execution_count": 22
    },
    {
      "id": "b9ae2957-d389-45d1-be7f-6bb6776f6af4",
      "cell_type": "markdown",
      "source": "## 4. Operatoren: Rechnen und Vergleichen\n\nOperatoren sind Symbole, die eine Aktion ausführen.\n\n### Arithmetische Operatoren\n- `+` (Addition)\n- `-` (Subtraktion)\n- `*` (Multiplikation)\n- `/` (Division)\n- `%` (Modulo - gibt den Rest einer Division zurück)",
      "metadata": {}
    },
    {
      "id": "5d754e81-51e8-46b9-872c-a3c706f35cb4",
      "cell_type": "code",
      "source": "let a = 10;\nlet b = 3;\n\nlet c = \"Hallo\";\nlet d = \"Welt\";\n\nconsole.log(`a + b = ${a + b}`); // 13\nconsole.log(`a - b = ${a - b}`); // 7\nconsole.log(`a * b = ${a * b}`); // 30\nconsole.log(`a / b = ${a / b}`); // 3.333...\nconsole.log(`a % b = ${a % b}`); // 1 (10 geteilt durch 3 ist 3, mit einem Rest von 1)\n\nlet zahl = 2;\nconsole.log(`c - d = ${c - d}`)\nconsole.log(`zahl + d = ${zahl + d}`)",
      "metadata": {
        "trusted": true
      },
      "outputs": [
        {
          "name": "stdout",
          "output_type": "stream",
          "text": "a + b = 13\na - b = 7\na * b = 30\na / b = 3.3333333333333335\na % b = 1\nc - d = NaN\nzahl + d = 2Welt\n"
        },
        {
          "execution_count": 27,
          "output_type": "execute_result",
          "data": {},
          "metadata": {}
        }
      ],
      "execution_count": 30
    },
    {
      "id": "cb1abb64-9469-4b17-91fd-7398a0e2ab51",
      "cell_type": "markdown",
      "source": "### Vergleichsoperatoren\nVergleichsoperatoren geben immer einen Boolean (`true` oder `false`) zurück.\n\n- `===` (strikt gleich: Wert und Typ müssen übereinstimmen)\n- `!==` (strikt ungleich)\n- `>` (größer als)\n- `<` (kleiner als)\n- `>=` (größer oder gleich)\n- `<=` (kleiner oder gleich)\n\n**Wichtig:** Verwende fast immer `===` anstelle von `==`. Der `==` Operator versucht, die Typen vor dem Vergleich umzuwandeln, was zu unerwarteten Ergebnissen führen kann (`5 == \"5\"` ist `true`, aber `5 === \"5\"` ist `false`).",
      "metadata": {}
    },
    {
      "id": "0fc4c715-5c0a-48fb-b5fa-1b937da51923",
      "cell_type": "code",
      "source": "let x = 5;\nlet y = 10;\nlet z = \"5\";\n\nconsole.log(`x === 5: ${x === 5}`);     // true\nconsole.log(`x === z: ${x === z}`);     // false, weil Number nicht gleich String ist\nconsole.log(`x !== y: ${x !== y}`);     // true\nconsole.log(`y > x: ${y > x}`);       // true\nconsole.log(`x <= 5: ${x <= 5}`);      // true\nconsole.log(`0 === false: ${0 === false}`);      //false",
      "metadata": {
        "trusted": true
      },
      "outputs": [
        {
          "name": "stdout",
          "output_type": "stream",
          "text": "x === 5: true\nx === z: false\nx !== y: true\ny > x: true\nx <= 5: true\n0 === false: false\n"
        },
        {
          "execution_count": 31,
          "output_type": "execute_result",
          "data": {},
          "metadata": {}
        }
      ],
      "execution_count": 34
    },
    {
      "id": "77ecec61-7bc8-4c29-9a75-117923f7e0e6",
      "cell_type": "markdown",
      "source": "### Logische Operatoren\nDamit können wir Bedingungen verknüpfen.\n\n- `&&` (UND): `true`, wenn **beide** Seiten `true` sind.\n- `||` (ODER): `true`, wenn **mindestens eine** Seite `true` ist.\n- `!` (NICHT): Kehrt den Wert um (`!true` wird zu `false`).",
      "metadata": {}
    },
    {
      "id": "7e465a29-8334-462b-b5f1-08ee6aafba84",
      "cell_type": "code",
      "source": "const alter = 20;\nconst hatFuehrerschein = true;\n\n// UND: Darf man Auto fahren?\nconst darfAutofahren = alter >= 18 && hatFuehrerschein; // in Python \"and\"\nconsole.log(`Darf Autofahren: ${darfAutofahren}`);\n\nconst istWochenende = false;\nconst hatUrlaub = true;\n\n// ODER: Hat man frei?\nconst hatFrei = istWochenende || hatUrlaub; // In Python ist das das or\nconsole.log(`Hat frei: ${hatFrei}`);\n\n// NICHT\nconsole.log(`Hat KEINEN Führerschein: ${!hatFuehrerschein}`); // In Python ist es das not",
      "metadata": {},
      "outputs": [],
      "execution_count": null
    },
    {
      "id": "0fec358d-eab6-4a4f-9c7f-dad3d4609155",
      "cell_type": "markdown",
      "source": "## 5. Entscheidungen treffen mit `if`, `else` und `switch`\n\nMit bedingten Anweisungen kann unser Code auf verschiedene Situationen unterschiedlich reagieren.\n\n### `if`-Anweisung\nFührt einen Code-Block nur aus, wenn eine Bedingung `true` ist.",
      "metadata": {}
    },
    {
      "id": "3fca8c82-fda1-4837-9444-1c3245d7025c",
      "cell_type": "code",
      "source": "const temperatur = 25;\n\nif (temperatur > 20) {\n  console.log(\"Es ist warm! Zeit für ein Eis.\");\n}",
      "metadata": {},
      "outputs": [],
      "execution_count": null
    },
    {
      "id": "1d8e45c7-3463-43eb-8c24-a1e023d0564a",
      "cell_type": "markdown",
      "source": "### `if-else`-Anweisung\nFührt einen Block aus, wenn die Bedingung `true` ist, und einen anderen, wenn sie `false` ist.",
      "metadata": {}
    },
    {
      "id": "9d680cc1-4cf2-48b7-8f12-e84417e57e6b",
      "cell_type": "code",
      "source": "const alterFuerFilm = 16;\n\nif (alterFuerFilm >= 18) {\n  console.log(\"Zugriff gewährt.\");\n} else {\n  console.log(\"Zugriff verweigert. Du bist zu jung.\");\n}",
      "metadata": {},
      "outputs": [],
      "execution_count": null
    },
    {
      "id": "2b2c3288-68c8-47aa-b461-d18990297940",
      "cell_type": "markdown",
      "source": "### `if-else if-else`-Kette\nFür mehrere, aufeinanderfolgende Bedingungen.",
      "metadata": {}
    },
    {
      "id": "11d511c7-a222-4517-9f55-7932a722830a",
      "cell_type": "code",
      "source": "const note = 85; // Punkte\n\nif (note >= 90) {\n  console.log(\"Note: Sehr Gut (A)\");\n} else if (note >= 80) {\n  console.log(\"Note: Gut (B)\");\n} else if (note >= 70) { // in python hieß es elif\n  console.log(\"Note: Befriedigend (C)\");\n} else {\n  console.log(\"Note: Nicht bestanden (F)\");\n}",
      "metadata": {},
      "outputs": [],
      "execution_count": null
    },
    {
      "id": "7c56192b-9d68-4132-a499-f42f163c87fd",
      "cell_type": "markdown",
      "source": "**✍️ Aufgabe 5.1:**\nSchreibe ein Programm, das eine Variable `stunde` (eine Zahl von 0-23) hat.\n- Wenn die Stunde zwischen 6 und 11 liegt, gib \"Guten Morgen!\" aus.\n- Wenn die Stunde zwischen 12 und 17 liegt, gib \"Guten Tag!\" aus.\n- Ansonsten gib \"Guten Abend!\" aus.",
      "metadata": {}
    },
    {
      "id": "ac99f2c1-af77-4915-a849-c6477cbe8b93",
      "cell_type": "code",
      "source": "// Deine Lösung hier\nconst stunde = 14;\n\nif (stunde >= 6 && stunde <= 11) {\n    console.log(\"Guten Morgen\");\n} else if (stunde >= 12 && stunde <= 17) {\n    console.log(\"Guten Tag!\");\n} else {\n    console.log(\"Guten Abend!\");\n}\n",
      "metadata": {},
      "outputs": [],
      "execution_count": null
    },
    {
      "id": "c9b90c0c-3f6a-4602-bd54-b1015f4fccb6",
      "cell_type": "markdown",
      "source": "### `switch`-Anweisung\nEine Alternative zu `if-else if`-Ketten, die oft übersichtlicher ist, wenn man eine Variable mit mehreren exakten Werten vergleicht.",
      "metadata": {}
    },
    {
      "id": "fd7a331c-dacb-411f-93c9-f1b543b569dc",
      "cell_type": "code",
      "source": "const wochentag = \"Montag\";\n\nswitch (wochentag) {\n  case \"Montag\":\n    console.log(\"Die Woche beginnt...\");\n    break; // Wichtig! Sonst würde der Code weiterlaufen.\n  case \"Freitag\":\n    console.log(\"Endlich Wochenende!\");\n    break;\n  case \"Samstag\":\n  case \"Sonntag\":\n    console.log(\"Wochenend-Modus!\");\n    break;\n  default: // Wird ausgeführt, wenn kein anderer Fall zutrifft\n    console.log(\"Ein ganz normaler Tag.\");\n}",
      "metadata": {},
      "outputs": [],
      "execution_count": null
    },
    {
      "id": "87b5bcbd-0037-4d08-9891-19fcd5a55ac0",
      "cell_type": "markdown",
      "source": "## 6. Datenstrukturen: Arrays und Objekte\n\nBisher hatten wir nur einzelne Werte. Mit Datenstrukturen können wir mehrere Werte zusammenfassen.\n\n### Arrays\nEin Array ist eine geordnete Liste von Werten. Man kann auf die Elemente über ihren **Index** (ihre Position) zugreifen. **Wichtig: Die Zählung beginnt bei 0!**",
      "metadata": {}
    },
    {
      "id": "d14614ac-90d6-49bc-95ae-d3a3efbb986d",
      "cell_type": "code",
      "source": "// Ein Array von Strings\nconst farben = [\"Rot\", \"Grün\", \"Blau\"];\n\n// Auf das erste Element zugreifen (Index 0)\nconsole.log(\"Erste Farbe:\", farben[0]); // Rot\n\n// Auf das dritte Element zugreifen (Index 2)\nconsole.log(\"Dritte Farbe:\", farben[2]); // Blau\n\n// Die Anzahl der Elemente im Array bekommen\nconsole.log(\"Anzahl der Farben:\", farben.length); // 3\n\n// Ein Element hinzufügen\nfarben.push(\"Gelb\");\nconsole.log(\"Nach dem Hinzufügen:\", farben);",
      "metadata": {},
      "outputs": [],
      "execution_count": null
    },
    {
      "id": "96d5a08d-a8b6-4fc3-9816-9ab0b027b871",
      "cell_type": "markdown",
      "source": "### Objekte\nEin Objekt ist eine Sammlung von Schlüssel-Wert-Paaren (`key-value pairs`). Es ist wie eine Kiste mit vielen beschrifteten Fächern. Anstelle eines Index benutzt man den Schlüssel (einen String), um auf den Wert zuzugreifen.",
      "metadata": {}
    },
    {
      "id": "49a03edf-9027-4d25-8874-10b21e6b9524",
      "cell_type": "code",
      "source": "// Ein Objekt, das eine Person beschreibt\nconst person = {\n  vorname: \"Max\",\n  nachname: \"Mustermann\",\n  alter: 35,\n  istBerufstaetig: true\n};\n\n// Zugriff auf Werte mit der Punkt-Notation\nconsole.log(\"Vorname:\", person.vorname); // Max\n\n// Zugriff auf Werte mit der Klammer-Notation (nützlich für dynamische Schlüssel)\nconsole.log(\"Alter:\", person[\"alter\"]); // 35\n\n// Einen Wert ändern\nperson.alter = 36;\nconsole.log(\"Neues Alter:\", person.alter);\n\n// Eine neue Eigenschaft hinzufügen\nperson.stadt = \"Berlin\";\nconsole.log(\"Ganzes Objekt:\", person);",
      "metadata": {},
      "outputs": [],
      "execution_count": null
    },
    {
      "id": "432bd319-e1a1-4929-b56a-5156e0225e9b",
      "cell_type": "markdown",
      "source": "**✍️ Aufgabe 6.1:**\n1. Erstelle ein Array `einkaufsliste` mit mindestens drei Artikeln (Strings).\n2. Gib den zweiten Artikel aus der Liste aus.\n3. Erstelle ein Objekt `meinAuto` mit den Eigenschaften `marke`, `modell` und `baujahr`.\n4. Gib einen Satz aus, der die Marke und das Modell des Autos enthält, z.B.: \"Mein Auto ist ein Volkswagen Golf.\"",
      "metadata": {}
    },
    {
      "id": "64a1d3f7-e192-43ed-a985-4333b42e8117",
      "cell_type": "code",
      "source": "// Deine Lösung hier\n",
      "metadata": {},
      "outputs": [],
      "execution_count": null
    },
    {
      "id": "97c6cc9e-a11e-42bb-a6c5-7a5ed2a9aa74",
      "cell_type": "markdown",
      "source": "## 7. Schleifen: Dinge wiederholen (`for`, `while`)\n\nSchleifen sind extrem nützlich, um eine Aktion mehrmals auszuführen, ohne den Code zu wiederholen.\n\n### Die `for`-Schleife\nDie klassische Schleife. Sie ist ideal, wenn man weiß, wie oft man etwas wiederholen möchte.\nSie besteht aus drei Teilen: `for (Start; Bedingung; Inkrement)`\n1. **Start:** `let i = 0` - Eine Zählervariable wird initialisiert.\n2. **Bedingung:** `i < 5` - Die Schleife läuft, solange diese Bedingung `true` ist.\n3. **Inkrement:** `i++` - Nach jeder Ausführung wird der Zähler um 1 erhöht.",
      "metadata": {}
    },
    {
      "id": "ec2e6c38-6da2-4b54-b48e-e19a2709d7e8",
      "cell_type": "code",
      "source": "console.log(\"Start der for-Schleife:\");\nfor (let i = 0; i < 5; i++) {\n  console.log(`Durchlauf Nummer: ${i}`);\n}\nconsole.log(\"Ende der for-Schleife.\");",
      "metadata": {},
      "outputs": [],
      "execution_count": null
    },
    {
      "id": "fae47503-433b-4650-993d-cd487a1611fd",
      "cell_type": "markdown",
      "source": "### Mit `for` über ein Array iterieren\nEine sehr häufige Anwendung der `for`-Schleife ist das Durchlaufen aller Elemente in einem Array.",
      "metadata": {}
    },
    {
      "id": "091c6493-f104-4e8e-b629-973070b6e5e9",
      "cell_type": "code",
      "source": "const fruechte = [\"Apfel\", \"Banane\", \"Kirsche\", \"Orange\"];\n\nfor (let i = 0; i < fruechte.length; i++) {\n  const aktuelleFrucht = fruechte[i];\n  console.log(`Ich esse gerne: ${aktuelleFrucht}`);\n}",
      "metadata": {},
      "outputs": [],
      "execution_count": null
    },
    {
      "id": "780d594e-088e-4eb4-8cef-cad9d300919f",
      "cell_type": "markdown",
      "source": "### Die `while`-Schleife\nDie `while`-Schleife läuft, solange eine Bedingung `true` ist. Sie ist gut, wenn man nicht von vornherein weiß, wie viele Durchläufe nötig sind.\n**Achtung:** Stelle sicher, dass die Bedingung irgendwann `false` wird, sonst hast du eine Endlosschleife!",
      "metadata": {}
    },
    {
      "id": "c64c43ad-5ec4-43a0-b118-e169aca1870c",
      "cell_type": "code",
      "source": "let countdown = 3;\n\nwhile (countdown > 0) {\n  console.log(countdown);\n  countdown = countdown - 1; // Wichtig: Den Wert verändern, um die Schleife zu beenden!\n}\n\nconsole.log(\"Start!\");",
      "metadata": {},
      "outputs": [],
      "execution_count": null
    },
    {
      "id": "acad7bce-548c-439e-a7c9-4f1881306406",
      "cell_type": "markdown",
      "source": "**✍️ Aufgabe 7.1:**\nBenutze eine `for`-Schleife, um alle geraden Zahlen von 2 bis 10 (einschließlich) auszugeben.",
      "metadata": {}
    },
    {
      "id": "ff842339-085d-408c-b86f-574d88aa0c64",
      "cell_type": "code",
      "source": "// Deine Lösung hier\n",
      "metadata": {},
      "outputs": [],
      "execution_count": null
    },
    {
      "id": "03368e84-4e40-4ee5-9d1a-217ab3065fc1",
      "cell_type": "markdown",
      "source": "## 8. Funktionen: Wiederverwendbarer Code\n\nEine Funktion ist ein benannter Block von Code, den du immer wieder aufrufen kannst. Das hilft, den Code zu organisieren und Wiederholungen zu vermeiden.\n\n- **Parameter:** Die Variablen, die eine Funktion als Input erwartet (in den runden Klammern bei der Definition).\n- **Argumente:** Die tatsächlichen Werte, die du beim Aufruf der Funktion übergibst.\n- `return`:** Das Schlüsselwort, um einen Wert aus der Funktion zurückzugeben.",
      "metadata": {}
    },
    {
      "id": "0aeacb02-73f3-42ed-a367-2c8dbcdbaaf8",
      "cell_type": "code",
      "source": "// Definition einer Funktion namens 'begruessen'\n// Sie hat einen Parameter: 'name'\nfunction begruessen(name) {\n  const nachricht = `Hallo, ${name}! Willkommen zurück.`;\n  return nachricht;\n}\n\n// Aufruf der Funktion mit dem Argument \"Alice\"\nconst grussAnAlice = begruessen(\"Alice\");\nconsole.log(grussAnAlice);\n\n// Aufruf mit einem anderen Argument\nconst grussAnBob = begruessen(\"Bob\");\nconsole.log(grussAnBob);",
      "metadata": {},
      "outputs": [],
      "execution_count": null
    },
    {
      "id": "b6a0b84a-9de6-40eb-806c-578f2364088a",
      "cell_type": "code",
      "source": "// Eine Funktion, die zwei Zahlen addiert\nfunction addiere(zahl1, zahl2) {\n  const summe = zahl1 + zahl2;\n  return summe;\n}\n\nconst ergebnis1 = addiere(5, 10);\nconsole.log(`5 + 10 = ${ergebnis1}`);\n\nconst ergebnis2 = addiere(100, -50);\nconsole.log(`100 + (-50) = ${ergebnis2}`);",
      "metadata": {},
      "outputs": [],
      "execution_count": null
    },
    {
      "id": "e11abc7c-49c1-4082-9a3a-b41cca7b8146",
      "cell_type": "markdown",
      "source": "**✍️ Aufgabe 8.1:**\nSchreibe eine Funktion `berechneRechteckFlaeche`, die zwei Parameter `laenge` und `breite` entgegennimmt.\nDie Funktion soll die Fläche (Länge * Breite) berechnen und das Ergebnis zurückgeben (`return`).\nRufe die Funktion mit Beispielwerten auf und gib das Ergebnis mit `console.log` aus.",
      "metadata": {}
    },
    {
      "id": "3c160e21-26b8-4bc2-9fba-26509b56a353",
      "cell_type": "code",
      "source": "// Deine Lösung hier\n",
      "metadata": {},
      "outputs": [],
      "execution_count": null
    },
    {
      "id": "cd6ba9b7-5747-4cb8-9703-b016a9f5ca00",
      "cell_type": "markdown",
      "source": "## 9. Fehlerbehandlung mit `try...catch`\n\nManchmal kann Code fehlschlagen. Anstatt das ganze Programm abstürzen zu lassen, können wir Fehler elegant abfangen und darauf reagieren.\n\n- `try`: In diesen Block kommt der Code, der potenziell einen Fehler verursachen könnte.\n- `catch`: Dieser Block wird nur ausgeführt, **wenn** im `try`-Block ein Fehler auftritt. Er fängt das Fehlerobjekt auf.\n- `finally`: Dieser Block wird **immer** ausgeführt, egal ob ein Fehler aufgetreten ist oder nicht (optional).",
      "metadata": {}
    },
    {
      "id": "b14fdbdf-02b1-4393-82ea-b01dd94118e8",
      "cell_type": "code",
      "source": "function dividiere(a, b) {\n  if (b === 0) {\n    // Wir erzeugen absichtlich einen Fehler\n    throw new Error(\"Division durch Null ist nicht erlaubt!\");\n  }\n  return a / b;\n}\n\n// Versuch 1: Gültige Operation\ntry {\n  console.log(\"Versuche 10 / 2...\");\n  const resultat1 = dividiere(10, 2);\n  console.log(`Ergebnis: ${resultat1}`);\n} catch (fehler) {\n  console.error(`Ein Fehler ist aufgetreten: ${fehler.message}`);\n}\n\nconsole.log(\"----------\");\n\n// Versuch 2: Ungültige Operation\ntry {\n  console.log(\"Versuche 10 / 0...\");\n  const resultat2 = dividiere(10, 0);\n  console.log(`Ergebnis: ${resultat2}`);\n} catch (fehler) {\n  console.error(`Ein Fehler ist aufgetreten: ${fehler.message}`);\n} finally {\n    console.log(\"Die Berechnung ist abgeschlossen (oder fehlgeschlagen).\");\n}\n\nconsole.log(\"Das Programm läuft trotz des Fehlers weiter!\");",
      "metadata": {},
      "outputs": [],
      "execution_count": null
    },
    {
      "id": "fcd2755c-32f1-4dfc-99d7-5f8abc0c5279",
      "cell_type": "markdown",
      "source": "## 10. Zusammenfassende Aufgabe\n\nJetzt kombinieren wir alles, was wir gelernt haben!\n\n**🎯 Deine Mission:**\nSchreibe eine Funktion `erstelleBericht`, die ein Array von Personen-Objekten als Parameter entgegennimmt. Jedes Personen-Objekt hat die Eigenschaften `name` (String) und `alter` (Number).\n\nDie Funktion soll:\n1. Über das Array mit einer Schleife iterieren.\n2. Für jede Person prüfen, ob sie volljährig ist (`alter >= 18`).\n3. Einen Bericht als String erstellen und zurückgeben. In dem Bericht soll für jede Person eine Zeile stehen, z.B.:\n   - \"Anna ist volljährig.\"\n   - \"Tom ist minderjährig.\"\n\nUnten findest du bereits ein Beispiel-Array, das du verwenden kannst.",
      "metadata": {}
    },
    {
      "id": "0403b03c-3ec2-4358-9d15-6b0871063fc2",
      "cell_type": "code",
      "source": "const personenListe = [\n  { name: \"Anna\", alter: 25 },\n  { name: \"Tom\", alter: 16 },\n  { name: \"Maria\", alter: 42 },\n  { name: \"Leo\", alter: 17 }\n];\n\n// Deine Funktion hier definieren\nfunction erstelleBericht(personen) {\n  let bericht = \"\"; // Starte mit einem leeren String\n\n  // 1. Schleife über das 'personen' Array\n  // Dein Code hier...\n\n  // 2. Innerhalb der Schleife: Prüfe das Alter\n  // Dein Code hier...\n\n  // 3. Füge die passende Zeile zum 'bericht' String hinzu\n  // (Tipp: benutze `bericht = bericht + 'neue Zeile\\n';`)\n  // Dein Code hier...\n\n  return bericht; // Gib den fertigen Bericht zurück\n}\n\n// Rufe deine Funktion auf und gib den Bericht aus\nconst finalerBericht = erstelleBericht(personenListe);\nconsole.log(finalerBericht);",
      "metadata": {},
      "outputs": [],
      "execution_count": null
    },
    {
      "id": "e975c1b4-fdc7-402e-89f8-bbc16b3c1c65",
      "cell_type": "markdown",
      "source": "## 🎉 Herzlichen Glückwunsch!\n\nDu hast die Grundlagen von JavaScript erfolgreich durchgearbeitet! Du kennst jetzt die wichtigsten Konzepte:\n\n- **Variablen** zum Speichern von Daten.\n- **Datentypen** wie Strings, Numbers und Booleans.\n- **Bedingungen** (`if/else`), um Entscheidungen zu treffen.\n- **Arrays und Objekte**, um Daten zu strukturieren.\n- **Schleifen** (`for/while`), um Code zu wiederholen.\n- **Funktionen**, um deinen Code wiederverwendbar und organisiert zu halten.\n- **Fehlerbehandlung** (`try/catch`), um dein Programm robuster zu machen.\n\nDas ist eine fantastische Grundlage. Programmieren lernt man am besten durch Üben. Versuche nun, eigene kleine Projekte zu starten. Viel Erfolg auf deiner weiteren Reise als Entwickler!",
      "metadata": {}
    }
  ]
}