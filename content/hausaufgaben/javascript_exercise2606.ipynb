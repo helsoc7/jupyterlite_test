{
 "cells": [
  {
   "cell_type": "markdown",
   "metadata": {},
   "source": [
    "# Hausaufgabe: JavaScript-Grundlagen üben\n",
    "\n",
    "Willkommen zu deiner ersten Hausaufgabe! Das Ziel dieser Übungen ist es, das Wissen aus dem Einführungs-Notebook zu festigen. Nimm dir Zeit und versuche, die Aufgaben selbstständig zu lösen. Wenn du nicht weiterkommst, schau ruhig noch einmal in das Lern-Notebook.\n",
    "\n",
    "Viel Erfolg!"
   ]
  },
  {
   "cell_type": "markdown",
   "metadata": {},
   "source": [
    "## Aufgabe 3: Der Summen-Rechner\n",
    "\n",
    "In dieser Aufgabe kombinierst du Arrays und `for`-Schleifen.\n",
    "\n",
    "**Anweisungen:**\n",
    "1. Erstelle ein Array `meineZahlen` mit mindestens 5 verschiedenen Zahlen.\n",
    "2. Schreibe eine Funktion `berechneSumme`, die ein Array von Zahlen als Parameter entgegennimmt.\n",
    "3. Innerhalb der Funktion, nutze eine `for`-Schleife, um alle Zahlen im Array zu addieren.\n",
    "   - *Tipp: Erstelle eine Variable `summe` mit dem Startwert 0 und addiere in jedem Schleifendurchlauf die aktuelle Zahl des Arrays hinzu.*\n",
    "4. Die Funktion soll die Gesamtsumme zurückgeben (`return`).\n",
    "5. Rufe die Funktion mit deinem `meineZahlen`-Array auf und gib das Ergebnis aus."
   ]
  },
  {
   "cell_type": "code",
   "execution_count": null,
   "metadata": {},
   "outputs": [],
   "source": [
    "// Deine Lösung für Aufgabe 3 hier:\n",
    "const meineZahlen = [10, 5, 20, 15, 30]; // Beispiel-Array\n"
   ]
  },
  {
   "cell_type": "markdown",
   "metadata": {},
   "source": [
    "## Aufgabe 4: Die Buch-Beschreibung\n",
    "\n",
    "Hier übst du das Erstellen von Objekten und den Zugriff auf deren Eigenschaften in einer Funktion.\n",
    "\n",
    "**Anweisungen:**\n",
    "1. Erstelle ein Objekt `lieblingsBuch`. Das Objekt soll die folgenden Eigenschaften (Schlüssel-Wert-Paare) haben:\n",
    "   - `titel` (String)\n",
    "   - `autor` (String)\n",
    "   - `seitenAnzahl` (Number)\n",
    "2. Schreibe eine Funktion `erstelleBuchBeschreibung`, die ein Buch-Objekt als Parameter annimmt.\n",
    "3. Die Funktion soll einen beschreibenden Satz als String zurückgeben, der die Informationen aus dem Objekt verwendet. Zum Beispiel:\n",
    "   `\"Das Buch 'Der Herr der Ringe' von 'J.R.R. Tolkien' hat 1200 Seiten.\"`\n",
    "4. Rufe die Funktion mit deinem `lieblingsBuch`-Objekt auf und gib die zurückgegebene Beschreibung aus."
   ]
  },
  {
   "cell_type": "code",
   "execution_count": null,
   "metadata": {},
   "outputs": [],
   "source": [
    "// Deine Lösung für Aufgabe 4 hier:\n"
   ]
  },
  {
   "cell_type": "markdown",
   "metadata": {},
   "source": [
    "## ⭐ Zusatzaufgabe (optional)\n",
    "\n",
    "Diese Aufgabe kombiniert alles Gelernte: Arrays, Objekte, Schleifen und Funktionen.\n",
    "\n",
    "**Anweisungen:**\n",
    "1. Du hast einen `warenkorb`, der ein Array von Objekten ist. Jedes Objekt repräsentiert einen Artikel mit `name`, `preis` und `menge`.\n",
    "2. Schreibe eine Funktion `berechneGesamtpreis`, die den `warenkorb` als Parameter entgegennimmt.\n",
    "3. Die Funktion soll den Gesamtpreis aller Artikel im Warenkorb berechnen. Für jeden Artikel gilt: `Preis * Menge`.\n",
    "4. Gib den finalen Gesamtpreis zurück. Formatiere die Ausgabe mit `console.log` schön, z.B. `\"Der Gesamtpreis des Warenkorbs beträgt: 123.45 €\"`.\n",
    "   - *Tipp: Die Methode `.toFixed(2)` kann eine Zahl in einen String mit genau zwei Nachkommastellen umwandeln, z.B. `(123.456).toFixed(2)` wird zu `\"123.46\"`.*"
   ]
  },
  {
   "cell_type": "code",
   "execution_count": null,
   "metadata": {},
   "outputs": [],
   "source": [
    "const warenkorb = [\n",
    "  { name: \"Apfel\", preis: 0.5, menge: 4 },\n",
    "  { name: \"Milch\", preis: 1.2, menge: 1 },\n",
    "  { name: \"Brot\", preis: 2.5, menge: 2 }\n",
    "];\n",
    "\n",
    "// Deine Lösung für die Zusatzaufgabe hier:\n"
   ]
  },
  {
   "cell_type": "markdown",
   "metadata": {},
   "source": [
    "--- \n",
    "**Super gemacht! Wenn du diese Aufgaben gelöst hast, hast du einen großen Schritt gemacht, um die Grundlagen von JavaScript zu beherrschen.**"
   ]
  }
 ],
 "metadata": {
  "kernelspec": {
   "display_name": "JavaScript (Node.js)",
   "language": "javascript",
   "name": "javascript"
  },
  "language_info": {
   "codemirror_mode": "javascript",
   "file_extension": ".js",
   "mimetype": "text/javascript",
   "name": "javascript",
   "version": "18.15.0"
  }
 },
 "nbformat": 4,
 "nbformat_minor": 5
}
