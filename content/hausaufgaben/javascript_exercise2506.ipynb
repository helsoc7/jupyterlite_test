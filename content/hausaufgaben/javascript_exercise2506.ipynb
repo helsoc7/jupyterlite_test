{
  "cells": [
    {
      "cell_type": "markdown",
      "id": "e85b1dcd-03a7-42eb-830b-89cc7dedbde5",
      "metadata": {},
      "source": [
        "# Hausaufgabe: JavaScript-Grundlagen üben\n",
        "\n",
        "Willkommen zu deiner ersten Hausaufgabe! Das Ziel dieser Übungen ist es, das Wissen aus dem Einführungs-Notebook zu festigen. Nimm dir Zeit und versuche, die Aufgaben selbstständig zu lösen. Wenn du nicht weiterkommst, schau ruhig noch einmal in das Lern-Notebook.\n",
        "\n",
        "Viel Erfolg!"
      ]
    },
    {
      "cell_type": "markdown",
      "id": "3eb443f6-8884-4b96-b55a-5c668d824c74",
      "metadata": {},
      "source": [
        "## Aufgabe 1: Dein persönliches Profil\n",
        "\n",
        "In dieser Aufgabe wiederholst du Variablen, Datentypen und die Ausgabe mit Template Literals.\n",
        "\n",
        "**Anweisungen:**\n",
        "1. Erstelle eine **Konstante** `vorname` und weise ihr deinen Vornamen als String zu.\n",
        "2. Erstelle eine **Variable** `alter` und weise ihr dein Alter als Number zu.\n",
        "3. Erstelle eine **Konstante** `programmiertGern` und setze sie auf den Boolean-Wert `true`.\n",
        "4. Kombiniere diese drei Variablen in einem einzigen Satz mit einem Template Literal und gib ihn mit `console.log` aus. Der Satz sollte so aussehen:\n",
        "   `\"Mein Name ist [Dein Name], ich bin [Dein Alter] Jahre alt und die Aussage, dass ich gern programmiere, ist: [true/false].\"`"
      ]
    },
    {
      "cell_type": "code",
      "execution_count": null,
      "id": "93d06431-7a79-4d26-8fb5-5b988feecdfe",
      "metadata": {
        "editable": true,
        "slideshow": {
          "slide_type": ""
        },
        "tags": []
      },
      "outputs": [],
      "source": [
        "// Deine Lösung für Aufgabe 1 hier:\n"
      ]
    },
    {
      "cell_type": "markdown",
      "id": "54181be0-dd7d-42f2-9cd6-55583f43da92",
      "metadata": {},
      "source": [
        "## Aufgabe 2: Der Ticket-Preis-Rechner\n",
        "\n",
        "Hier übst du Funktionen und bedingte Anweisungen (`if-else`).\n",
        "\n",
        "**Anweisungen:**\n",
        "1. Schreibe eine Funktion namens `getTicketPreis`, die einen Parameter `alter` entgegennimmt.\n",
        "2. Innerhalb der Funktion soll der Preis basierend auf dem Alter bestimmt werden:\n",
        "   - Kinder unter 6 Jahren zahlen 0€.\n",
        "   - Kinder und Jugendliche von 6 bis einschließlich 17 Jahren zahlen 5€.\n",
        "   - Erwachsene (18 und älter) zahlen 10€.\n",
        "3. Die Funktion soll den berechneten Preis als Number zurückgeben (`return`).\n",
        "4. Rufe die Funktion mit drei verschiedenen Altersangaben (z.B. 4, 15, 30) auf und gib die Ergebnisse mit `console.log` aus, um deine Funktion zu testen."
      ]
    },
    {
      "cell_type": "code",
      "execution_count": null,
      "id": "c1b11c10-89ba-4c7f-90b9-33727eb02141",
      "metadata": {},
      "outputs": [],
      "source": [
        "// Deine Lösung für Aufgabe 2 hier:\n"
      ]
    }
  ],
  "metadata": {
    "kernelspec": {
      "display_name": "JavaScript (Web Worker)",
      "language": "javascript",
      "name": "javascript"
    },
    "language_info": {
      "codemirror_mode": {
        "name": "javascript"
      },
      "file_extension": ".js",
      "mimetype": "text/javascript",
      "name": "javascript",
      "nbconvert_exporter": "javascript",
      "pygments_lexer": "javascript",
      "version": "es2017"
    }
  },
  "nbformat": 4,
  "nbformat_minor": 5
}
