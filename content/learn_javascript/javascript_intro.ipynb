{
 "cells": [
  {
   "cell_type": "markdown",
   "metadata": {},
   "source": [
    "# 🚀 JavaScript für Anfänger: Ein interaktiver Leitfaden\n",
    "\n",
    "Herzlich Willkommen zu deinem ersten interaktiven JavaScript-Kurs! In diesem Notebook lernst du die fundamentalen Bausteine der Programmiersprache JavaScript kennen. Wir gehen Schritt für Schritt vor, mit vielen Beispielen und kleinen Übungen.\n",
    "\n",
    "**Wie du dieses Notebook benutzt:**\n",
    "1. Lies die Erklärungen in den Text-Zellen (so wie diese hier).\n",
    "2. Führe die Code-Beispiele in den Code-Zellen aus. Klicke dazu in die Zelle und drücke `Shift + Enter` (oder den \"Play\"-Button).\n",
    "3. Löse die kleinen Aufgaben direkt im Notebook.\n",
    "\n",
    "Viel Spaß beim Lernen!\n",
    "\n",
    "### Inhaltsverzeichnis\n",
    "1. [Was sind Variablen? (`let`, `const`)](#1.-Was-sind-Variablen?-(`let`,-`const`))\n",
    "2. [Hallo Welt! - Deine erste Ausgabe (`console.log`)](#2.-Hallo-Welt!---Deine-erste-Ausgabe-(`console.log`))\n",
    "3. [Datentypen: Die Bausteine von JavaScript](#3.-Datentypen:-Die-Bausteine-von-JavaScript)\n",
    "4. [Operatoren: Rechnen und Vergleichen](#4.-Operatoren:-Rechnen-und-Vergleichen)\n",
    "5. [Entscheidungen treffen mit `if`, `else` und `switch`](#5.-Entscheidungen-treffen-mit-`if`,-`else`-und-`switch`)\n",
    "6. [Datenstrukturen: Arrays und Objekte](#6.-Datenstrukturen:-Arrays-und-Objekte)\n",
    "7. [Schleifen: Dinge wiederholen (`for`, `while`)](#7.-Schleifen:-Dinge-wiederholen-(`for`,-`while`))\n",
    "8. [Funktionen: Wiederverwendbarer Code](#8.-Funktionen:-Wiederverwendbarer-Code)\n",
    "9. [Fehlerbehandlung mit `try...catch`](#9.-Fehlerbehandlung-mit-`try...catch`)\n",
    "10. [Zusammenfassende Aufgabe](#10.-Zusammenfassende-Aufgabe)"
   ]
  },
  {
   "cell_type": "markdown",
   "metadata": {},
   "source": [
    "## 1. Was sind Variablen? (`let`, `const`)\n",
    "\n",
    "Stell dir eine Variable wie eine beschriftete Kiste vor, in der du Informationen speichern kannst. Jede Kiste hat einen Namen (den Variablennamen), und du kannst etwas hineinlegen (den Wert).\n",
    "\n",
    "In modernem JavaScript gibt es zwei Hauptarten, Variablen zu deklarieren:\n",
    "- `let`: Für Variablen, deren Wert sich im Laufe des Programms ändern kann.\n",
    "- `const`: Für Konstanten, deren Wert nach der ersten Zuweisung **nicht** mehr geändert werden soll."
   ]
  },
  {
   "cell_type": "code",
   "execution_count": null,
   "metadata": {},
   "outputs": [],
   "source": [
    "// Deklarieren einer Variable mit `let`\n",
    "let alter = 25;\n",
    "console.log(\"Mein Alter:\", alter);\n",
    "\n",
    "// Der Wert kann später geändert werden\n",
    "alter = 26;\n",
    "console.log(\"Nächstes Jahr bin ich:\", alter);\n",
    "\n",
    "// Deklarieren einer Konstante mit `const`\n",
    "const geburtsjahr = 1998;\n",
    "console.log(\"Mein Geburtsjahr:\", geburtsjahr);\n",
    "\n",
    "// Versuch, die Konstante zu ändern (wird einen Fehler verursachen!)\n",
    "// geburtsjahr = 1999; // Kommentiere diese Zeile ein und führe den Code aus, um den Fehler zu sehen."
   ]
  },
  {
   "cell_type": "markdown",
   "metadata": {},
   "source": [
    "**Regel:** Benutze `const` so oft wie möglich. Wechsle nur dann zu `let`, wenn du weißt, dass du den Wert der Variable später neu zuweisen musst."
   ]
  },
  {
   "cell_type": "markdown",
   "metadata": {},
   "source": [
    "**✍️ Aufgabe 1.1:**\n",
    "1. Deklariere eine Konstante `name` und weise ihr deinen Vornamen als Wert zu.\n",
    "2. Deklariere eine Variable `lieblingsfarbe` mit `let` und weise ihr deine Lieblingsfarbe zu.\n",
    "3. Gib beide Variablen mit `console.log` aus."
   ]
  },
  {
   "cell_type": "code",
   "execution_count": null,
   "metadata": {},
   "outputs": [],
   "source": [
    "// Deine Lösung hier\n"
   ]
  },
  {
   "cell_type": "markdown",
   "metadata": {},
   "source": [
    "## 2. Hallo Welt! - Deine erste Ausgabe (`console.log`)\n",
    "\n",
    "Wie du schon gesehen hast, ist `console.log()` das wichtigste Werkzeug für jeden JavaScript-Entwickler. Es erlaubt dir, Werte, Variablen oder Nachrichten in der Entwicklerkonsole (oder hier in der Ausgabe unter der Code-Zelle) auszugeben.\n",
    "\n",
    "Du kannst `console.log` einen oder mehrere Werte übergeben, die durch Kommas getrennt sind."
   ]
  },
  {
   "cell_type": "code",
   "execution_count": null,
   "metadata": {},
   "outputs": [],
   "source": [
    "console.log(\"Hallo Welt!\");\n",
    "\n",
    "const stadt = \"Berlin\";\n",
    "const einwohner = 3700000;\n",
    "\n",
    "console.log(stadt, \"hat ca.\", einwohner, \"Einwohner.\");"
   ]
  },
  {
   "cell_type": "markdown",
   "metadata": {},
   "source": [
    "## 3. Datentypen: Die Bausteine von JavaScript\n",
    "\n",
    "Variablen können verschiedene Arten von Daten speichern. Die wichtigsten (primitiven) Datentypen sind:\n",
    "\n",
    "- **String**: Text, immer in Anführungszeichen (`\"\"` oder `''`) oder Backticks (`` ` ``).\n",
    "- **Number**: Zahlen, sowohl Ganzzahlen (z.B. `10`) als auch Kommazahlen (z.B. `3.14`).\n",
    "- **Boolean**: Logische Werte, die nur `true` (wahr) oder `false` (falsch) sein können.\n",
    "- **`undefined`**: Eine Variable, die deklariert, aber der noch kein Wert zugewiesen wurde.\n",
    "- **`null`**: Repräsentiert absichtlich das Fehlen eines Wertes."
   ]
  },
  {
   "cell_type": "code",
   "execution_count": null,
   "metadata": {},
   "outputs": [],
   "source": [
    "// String\n",
    "const gruss = \"Hallo JavaScript!\";\n",
    "console.log(\"String:\", gruss);\n",
    "\n",
    "// Number\n",
    "const anzahl = 42;\n",
    "const preis = 19.99;\n",
    "console.log(\"Number:\", anzahl, preis);\n",
    "\n",
    "// Boolean\n",
    "const istSonnig = true;\n",
    "const istMontag = false;\n",
    "console.log(\"Boolean:\", istSonnig, istMontag);\n",
    "\n",
    "// undefined\n",
    "let zukunft;\n",
    "console.log(\"undefined:\", zukunft);\n",
    "\n",
    "// null\n",
    "let keinWert = null;\n",
    "console.log(\"null:\", keinWert);\n",
    "\n",
    "// Mit `typeof` können wir den Datentyp einer Variable überprüfen\n",
    "console.log(\"Typ von 'gruss':\", typeof gruss);\n",
    "console.log(\"Typ von 'preis':\", typeof preis);\n",
    "console.log(\"Typ von 'istSonnig':\", typeof istSonnig);"
   ]
  },
  {
   "cell_type": "markdown",
   "metadata": {},
   "source": [
    "### Template Literals (Moderne Strings)\n",
    "\n",
    "Mit Backticks (`` ` ``) kannst du Variablen direkt in einen String einbetten. Das ist oft einfacher zu lesen als das Zusammenfügen mit `+`."
   ]
  },
  {
   "cell_type": "code",
   "execution_count": null,
   "metadata": {},
   "outputs": [],
   "source": [
    "const benutzername = \"Anna\";\n",
    "const alter = 30;\n",
    "\n",
    "// Alte Methode mit `+`\n",
    "const begruessungAlt = \"Hallo, mein Name ist \" + benutzername + \" und ich bin \" + alter + \" Jahre alt.\";\n",
    "console.log(begruessungAlt);\n",
    "\n",
    "// Moderne Methode mit Template Literals\n",
    "const begruessungNeu = `Hallo, mein Name ist ${benutzername} und ich bin ${alter} Jahre alt.`;\n",
    "console.log(begruessungNeu);"
   ]
  },
  {
   "cell_type": "markdown",
   "metadata": {},
   "source": [
    "**✍️ Aufgabe 3.1:**\n",
    "Erstelle eine Variable `artikel` (String), eine Variable `preis` (Number) und eine Variable `verfuegbar` (Boolean).\n",
    "Gib dann mit einem Template Literal einen Satz aus, der alle drei Informationen enthält, z.B.: \"Der Artikel 'Laptop' kostet 999.99€ und ist verfügbar: true.\""
   ]
  },
  {
   "cell_type": "code",
   "execution_count": null,
   "metadata": {},
   "outputs": [],
   "source": [
    "// Deine Lösung hier\n"
   ]
  },
  {
   "cell_type": "markdown",
   "metadata": {},
   "source": [
    "## 4. Operatoren: Rechnen und Vergleichen\n",
    "\n",
    "Operatoren sind Symbole, die eine Aktion ausführen.\n",
    "\n",
    "### Arithmetische Operatoren\n",
    "- `+` (Addition)\n",
    "- `-` (Subtraktion)\n",
    "- `*` (Multiplikation)\n",
    "- `/` (Division)\n",
    "- `%` (Modulo - gibt den Rest einer Division zurück)"
   ]
  },
  {
   "cell_type": "code",
   "execution_count": null,
   "metadata": {},
   "outputs": [],
   "source": [
    "let a = 10;\n",
    "let b = 3;\n",
    "\n",
    "console.log(`a + b = ${a + b}`); // 13\n",
    "console.log(`a - b = ${a - b}`); // 7\n",
    "console.log(`a * b = ${a * b}`); // 30\n",
    "console.log(`a / b = ${a / b}`); // 3.333...\n",
    "console.log(`a % b = ${a % b}`); // 1 (10 geteilt durch 3 ist 3, mit einem Rest von 1)"
   ]
  },
  {
   "cell_type": "markdown",
   "metadata": {},
   "source": [
    "### Vergleichsoperatoren\n",
    "Vergleichsoperatoren geben immer einen Boolean (`true` oder `false`) zurück.\n",
    "\n",
    "- `===` (strikt gleich: Wert und Typ müssen übereinstimmen)\n",
    "- `!==` (strikt ungleich)\n",
    "- `>` (größer als)\n",
    "- `<` (kleiner als)\n",
    "- `>=` (größer oder gleich)\n",
    "- `<=` (kleiner oder gleich)\n",
    "\n",
    "**Wichtig:** Verwende fast immer `===` anstelle von `==`. Der `==` Operator versucht, die Typen vor dem Vergleich umzuwandeln, was zu unerwarteten Ergebnissen führen kann (`5 == \"5\"` ist `true`, aber `5 === \"5\"` ist `false`)."
   ]
  },
  {
   "cell_type": "code",
   "execution_count": null,
   "metadata": {},
   "outputs": [],
   "source": [
    "let x = 5;\n",
    "let y = 10;\n",
    "let z = \"5\";\n",
    "\n",
    "console.log(`x === 5: ${x === 5}`);     // true\n",
    "console.log(`x === z: ${x === z}`);     // false, weil Number nicht gleich String ist\n",
    "console.log(`x !== y: ${x !== y}`);     // true\n",
    "console.log(`y > x: ${y > x}`);       // true\n",
    "console.log(`x <= 5: ${x <= 5}`);      // true"
   ]
  },
  {
   "cell_type": "markdown",
   "metadata": {},
   "source": [
    "### Logische Operatoren\n",
    "Damit können wir Bedingungen verknüpfen.\n",
    "\n",
    "- `&&` (UND): `true`, wenn **beide** Seiten `true` sind.\n",
    "- `||` (ODER): `true`, wenn **mindestens eine** Seite `true` ist.\n",
    "- `!` (NICHT): Kehrt den Wert um (`!true` wird zu `false`)."
   ]
  },
  {
   "cell_type": "code",
   "execution_count": null,
   "metadata": {},
   "outputs": [],
   "source": [
    "const alter = 20;\n",
    "const hatFuehrerschein = true;\n",
    "\n",
    "// UND: Darf man Auto fahren?\n",
    "const darfAutofahren = alter >= 18 && hatFuehrerschein;\n",
    "console.log(`Darf Autofahren: ${darfAutofahren}`);\n",
    "\n",
    "const istWochenende = false;\n",
    "const hatUrlaub = true;\n",
    "\n",
    "// ODER: Hat man frei?\n",
    "const hatFrei = istWochenende || hatUrlaub;\n",
    "console.log(`Hat frei: ${hatFrei}`);\n",
    "\n",
    "// NICHT\n",
    "console.log(`Hat KEINEN Führerschein: ${!hatFuehrerschein}`);"
   ]
  },
  {
   "cell_type": "markdown",
   "metadata": {},
   "source": [
    "## 5. Entscheidungen treffen mit `if`, `else` und `switch`\n",
    "\n",
    "Mit bedingten Anweisungen kann unser Code auf verschiedene Situationen unterschiedlich reagieren.\n",
    "\n",
    "### `if`-Anweisung\n",
    "Führt einen Code-Block nur aus, wenn eine Bedingung `true` ist."
   ]
  },
  {
   "cell_type": "code",
   "execution_count": null,
   "metadata": {},
   "outputs": [],
   "source": [
    "const temperatur = 25;\n",
    "\n",
    "if (temperatur > 20) {\n",
    "  console.log(\"Es ist warm! Zeit für ein Eis.\");\n",
    "}"
   ]
  },
  {
   "cell_type": "markdown",
   "metadata": {},
   "source": [
    "### `if-else`-Anweisung\n",
    "Führt einen Block aus, wenn die Bedingung `true` ist, und einen anderen, wenn sie `false` ist."
   ]
  },
  {
   "cell_type": "code",
   "execution_count": null,
   "metadata": {},
   "outputs": [],
   "source": [
    "const alterFuerFilm = 16;\n",
    "\n",
    "if (alterFuerFilm >= 18) {\n",
    "  console.log(\"Zugriff gewährt.\");\n",
    "} else {\n",
    "  console.log(\"Zugriff verweigert. Du bist zu jung.\");\n",
    "}"
   ]
  },
  {
   "cell_type": "markdown",
   "metadata": {},
   "source": [
    "### `if-else if-else`-Kette\n",
    "Für mehrere, aufeinanderfolgende Bedingungen."
   ]
  },
  {
   "cell_type": "code",
   "execution_count": null,
   "metadata": {},
   "outputs": [],
   "source": [
    "const note = 85; // Punkte\n",
    "\n",
    "if (note >= 90) {\n",
    "  console.log(\"Note: Sehr Gut (A)\");\n",
    "} else if (note >= 80) {\n",
    "  console.log(\"Note: Gut (B)\");\n",
    "} else if (note >= 70) {\n",
    "  console.log(\"Note: Befriedigend (C)\");\n",
    "} else {\n",
    "  console.log(\"Note: Nicht bestanden (F)\");\n",
    "}"
   ]
  },
  {
   "cell_type": "markdown",
   "metadata": {},
   "source": [
    "**✍️ Aufgabe 5.1:**\n",
    "Schreibe ein Programm, das eine Variable `stunde` (eine Zahl von 0-23) hat.\n",
    "- Wenn die Stunde zwischen 6 und 11 liegt, gib \"Guten Morgen!\" aus.\n",
    "- Wenn die Stunde zwischen 12 und 17 liegt, gib \"Guten Tag!\" aus.\n",
    "- Ansonsten gib \"Guten Abend!\" aus."
   ]
  },
  {
   "cell_type": "code",
   "execution_count": null,
   "metadata": {},
   "outputs": [],
   "source": [
    "// Deine Lösung hier\n",
    "const stunde = 14;\n"
   ]
  },
  {
   "cell_type": "markdown",
   "metadata": {},
   "source": [
    "### `switch`-Anweisung\n",
    "Eine Alternative zu `if-else if`-Ketten, die oft übersichtlicher ist, wenn man eine Variable mit mehreren exakten Werten vergleicht."
   ]
  },
  {
   "cell_type": "code",
   "execution_count": null,
   "metadata": {},
   "outputs": [],
   "source": [
    "const wochentag = \"Montag\";\n",
    "\n",
    "switch (wochentag) {\n",
    "  case \"Montag\":\n",
    "    console.log(\"Die Woche beginnt...\");\n",
    "    break; // Wichtig! Sonst würde der Code weiterlaufen.\n",
    "  case \"Freitag\":\n",
    "    console.log(\"Endlich Wochenende!\");\n",
    "    break;\n",
    "  case \"Samstag\":\n",
    "  case \"Sonntag\":\n",
    "    console.log(\"Wochenend-Modus!\");\n",
    "    break;\n",
    "  default: // Wird ausgeführt, wenn kein anderer Fall zutrifft\n",
    "    console.log(\"Ein ganz normaler Tag.\");\n",
    "}"
   ]
  },
  {
   "cell_type": "markdown",
   "metadata": {},
   "source": [
    "## 6. Datenstrukturen: Arrays und Objekte\n",
    "\n",
    "Bisher hatten wir nur einzelne Werte. Mit Datenstrukturen können wir mehrere Werte zusammenfassen.\n",
    "\n",
    "### Arrays\n",
    "Ein Array ist eine geordnete Liste von Werten. Man kann auf die Elemente über ihren **Index** (ihre Position) zugreifen. **Wichtig: Die Zählung beginnt bei 0!**"
   ]
  },
  {
   "cell_type": "code",
   "execution_count": null,
   "metadata": {},
   "outputs": [],
   "source": [
    "// Ein Array von Strings\n",
    "const farben = [\"Rot\", \"Grün\", \"Blau\"];\n",
    "\n",
    "// Auf das erste Element zugreifen (Index 0)\n",
    "console.log(\"Erste Farbe:\", farben[0]); // Rot\n",
    "\n",
    "// Auf das dritte Element zugreifen (Index 2)\n",
    "console.log(\"Dritte Farbe:\", farben[2]); // Blau\n",
    "\n",
    "// Die Anzahl der Elemente im Array bekommen\n",
    "console.log(\"Anzahl der Farben:\", farben.length); // 3\n",
    "\n",
    "// Ein Element hinzufügen\n",
    "farben.push(\"Gelb\");\n",
    "console.log(\"Nach dem Hinzufügen:\", farben);"
   ]
  },
  {
   "cell_type": "markdown",
   "metadata": {},
   "source": [
    "### Objekte\n",
    "Ein Objekt ist eine Sammlung von Schlüssel-Wert-Paaren (`key-value pairs`). Es ist wie eine Kiste mit vielen beschrifteten Fächern. Anstelle eines Index benutzt man den Schlüssel (einen String), um auf den Wert zuzugreifen."
   ]
  },
  {
   "cell_type": "code",
   "execution_count": null,
   "metadata": {},
   "outputs": [],
   "source": [
    "// Ein Objekt, das eine Person beschreibt\n",
    "const person = {\n",
    "  vorname: \"Max\",\n",
    "  nachname: \"Mustermann\",\n",
    "  alter: 35,\n",
    "  istBerufstaetig: true\n",
    "};\n",
    "\n",
    "// Zugriff auf Werte mit der Punkt-Notation\n",
    "console.log(\"Vorname:\", person.vorname); // Max\n",
    "\n",
    "// Zugriff auf Werte mit der Klammer-Notation (nützlich für dynamische Schlüssel)\n",
    "console.log(\"Alter:\", person[\"alter\"]); // 35\n",
    "\n",
    "// Einen Wert ändern\n",
    "person.alter = 36;\n",
    "console.log(\"Neues Alter:\", person.alter);\n",
    "\n",
    "// Eine neue Eigenschaft hinzufügen\n",
    "person.stadt = \"Berlin\";\n",
    "console.log(\"Ganzes Objekt:\", person);"
   ]
  },
  {
   "cell_type": "markdown",
   "metadata": {},
   "source": [
    "**✍️ Aufgabe 6.1:**\n",
    "1. Erstelle ein Array `einkaufsliste` mit mindestens drei Artikeln (Strings).\n",
    "2. Gib den zweiten Artikel aus der Liste aus.\n",
    "3. Erstelle ein Objekt `meinAuto` mit den Eigenschaften `marke`, `modell` und `baujahr`.\n",
    "4. Gib einen Satz aus, der die Marke und das Modell des Autos enthält, z.B.: \"Mein Auto ist ein Volkswagen Golf.\""
   ]
  },
  {
   "cell_type": "code",
   "execution_count": null,
   "metadata": {},
   "outputs": [],
   "source": [
    "// Deine Lösung hier\n"
   ]
  },
  {
   "cell_type": "markdown",
   "metadata": {},
   "source": [
    "## 7. Schleifen: Dinge wiederholen (`for`, `while`)\n",
    "\n",
    "Schleifen sind extrem nützlich, um eine Aktion mehrmals auszuführen, ohne den Code zu wiederholen.\n",
    "\n",
    "### Die `for`-Schleife\n",
    "Die klassische Schleife. Sie ist ideal, wenn man weiß, wie oft man etwas wiederholen möchte.\n",
    "Sie besteht aus drei Teilen: `for (Start; Bedingung; Inkrement)`\n",
    "1. **Start:** `let i = 0` - Eine Zählervariable wird initialisiert.\n",
    "2. **Bedingung:** `i < 5` - Die Schleife läuft, solange diese Bedingung `true` ist.\n",
    "3. **Inkrement:** `i++` - Nach jeder Ausführung wird der Zähler um 1 erhöht."
   ]
  },
  {
   "cell_type": "code",
   "execution_count": null,
   "metadata": {},
   "outputs": [],
   "source": [
    "console.log(\"Start der for-Schleife:\");\n",
    "for (let i = 0; i < 5; i++) {\n",
    "  console.log(`Durchlauf Nummer: ${i}`);\n",
    "}\n",
    "console.log(\"Ende der for-Schleife.\");"
   ]
  },
  {
   "cell_type": "markdown",
   "metadata": {},
   "source": [
    "### Mit `for` über ein Array iterieren\n",
    "Eine sehr häufige Anwendung der `for`-Schleife ist das Durchlaufen aller Elemente in einem Array."
   ]
  },
  {
   "cell_type": "code",
   "execution_count": null,
   "metadata": {},
   "outputs": [],
   "source": [
    "const fruechte = [\"Apfel\", \"Banane\", \"Kirsche\", \"Orange\"];\n",
    "\n",
    "for (let i = 0; i < fruechte.length; i++) {\n",
    "  const aktuelleFrucht = fruechte[i];\n",
    "  console.log(`Ich esse gerne: ${aktuelleFrucht}`);\n",
    "}"
   ]
  },
  {
   "cell_type": "markdown",
   "metadata": {},
   "source": [
    "### Die `while`-Schleife\n",
    "Die `while`-Schleife läuft, solange eine Bedingung `true` ist. Sie ist gut, wenn man nicht von vornherein weiß, wie viele Durchläufe nötig sind.\n",
    "**Achtung:** Stelle sicher, dass die Bedingung irgendwann `false` wird, sonst hast du eine Endlosschleife!"
   ]
  },
  {
   "cell_type": "code",
   "execution_count": null,
   "metadata": {},
   "outputs": [],
   "source": [
    "let countdown = 3;\n",
    "\n",
    "while (countdown > 0) {\n",
    "  console.log(countdown);\n",
    "  countdown = countdown - 1; // Wichtig: Den Wert verändern, um die Schleife zu beenden!\n",
    "}\n",
    "\n",
    "console.log(\"Start!\");"
   ]
  },
  {
   "cell_type": "markdown",
   "metadata": {},
   "source": [
    "**✍️ Aufgabe 7.1:**\n",
    "Benutze eine `for`-Schleife, um alle geraden Zahlen von 2 bis 10 (einschließlich) auszugeben."
   ]
  },
  {
   "cell_type": "code",
   "execution_count": null,
   "metadata": {},
   "outputs": [],
   "source": [
    "// Deine Lösung hier\n"
   ]
  },
  {
   "cell_type": "markdown",
   "metadata": {},
   "source": [
    "## 8. Funktionen: Wiederverwendbarer Code\n",
    "\n",
    "Eine Funktion ist ein benannter Block von Code, den du immer wieder aufrufen kannst. Das hilft, den Code zu organisieren und Wiederholungen zu vermeiden.\n",
    "\n",
    "- **Parameter:** Die Variablen, die eine Funktion als Input erwartet (in den runden Klammern bei der Definition).\n",
    "- **Argumente:** Die tatsächlichen Werte, die du beim Aufruf der Funktion übergibst.\n",
    "- `return`:** Das Schlüsselwort, um einen Wert aus der Funktion zurückzugeben."
   ]
  },
  {
   "cell_type": "code",
   "execution_count": null,
   "metadata": {},
   "outputs": [],
   "source": [
    "// Definition einer Funktion namens 'begruessen'\n",
    "// Sie hat einen Parameter: 'name'\n",
    "function begruessen(name) {\n",
    "  const nachricht = `Hallo, ${name}! Willkommen zurück.`;\n",
    "  return nachricht;\n",
    "}\n",
    "\n",
    "// Aufruf der Funktion mit dem Argument \"Alice\"\n",
    "const grussAnAlice = begruessen(\"Alice\");\n",
    "console.log(grussAnAlice);\n",
    "\n",
    "// Aufruf mit einem anderen Argument\n",
    "const grussAnBob = begruessen(\"Bob\");\n",
    "console.log(grussAnBob);"
   ]
  },
  {
   "cell_type": "code",
   "execution_count": null,
   "metadata": {},
   "outputs": [],
   "source": [
    "// Eine Funktion, die zwei Zahlen addiert\n",
    "function addiere(zahl1, zahl2) {\n",
    "  const summe = zahl1 + zahl2;\n",
    "  return summe;\n",
    "}\n",
    "\n",
    "const ergebnis1 = addiere(5, 10);\n",
    "console.log(`5 + 10 = ${ergebnis1}`);\n",
    "\n",
    "const ergebnis2 = addiere(100, -50);\n",
    "console.log(`100 + (-50) = ${ergebnis2}`);"
   ]
  },
  {
   "cell_type": "markdown",
   "metadata": {},
   "source": [
    "**✍️ Aufgabe 8.1:**\n",
    "Schreibe eine Funktion `berechneRechteckFlaeche`, die zwei Parameter `laenge` und `breite` entgegennimmt.\n",
    "Die Funktion soll die Fläche (Länge * Breite) berechnen und das Ergebnis zurückgeben (`return`).\n",
    "Rufe die Funktion mit Beispielwerten auf und gib das Ergebnis mit `console.log` aus."
   ]
  },
  {
   "cell_type": "code",
   "execution_count": null,
   "metadata": {},
   "outputs": [],
   "source": [
    "// Deine Lösung hier\n"
   ]
  },
  {
   "cell_type": "markdown",
   "metadata": {},
   "source": [
    "## 9. Fehlerbehandlung mit `try...catch`\n",
    "\n",
    "Manchmal kann Code fehlschlagen. Anstatt das ganze Programm abstürzen zu lassen, können wir Fehler elegant abfangen und darauf reagieren.\n",
    "\n",
    "- `try`: In diesen Block kommt der Code, der potenziell einen Fehler verursachen könnte.\n",
    "- `catch`: Dieser Block wird nur ausgeführt, **wenn** im `try`-Block ein Fehler auftritt. Er fängt das Fehlerobjekt auf.\n",
    "- `finally`: Dieser Block wird **immer** ausgeführt, egal ob ein Fehler aufgetreten ist oder nicht (optional)."
   ]
  },
  {
   "cell_type": "code",
   "execution_count": null,
   "metadata": {},
   "outputs": [],
   "source": [
    "function dividiere(a, b) {\n",
    "  if (b === 0) {\n",
    "    // Wir erzeugen absichtlich einen Fehler\n",
    "    throw new Error(\"Division durch Null ist nicht erlaubt!\");\n",
    "  }\n",
    "  return a / b;\n",
    "}\n",
    "\n",
    "// Versuch 1: Gültige Operation\n",
    "try {\n",
    "  console.log(\"Versuche 10 / 2...\");\n",
    "  const resultat1 = dividiere(10, 2);\n",
    "  console.log(`Ergebnis: ${resultat1}`);\n",
    "} catch (fehler) {\n",
    "  console.error(`Ein Fehler ist aufgetreten: ${fehler.message}`);\n",
    "}\n",
    "\n",
    "console.log(\"----------\");\n",
    "\n",
    "// Versuch 2: Ungültige Operation\n",
    "try {\n",
    "  console.log(\"Versuche 10 / 0...\");\n",
    "  const resultat2 = dividiere(10, 0);\n",
    "  console.log(`Ergebnis: ${resultat2}`);\n",
    "} catch (fehler) {\n",
    "  console.error(`Ein Fehler ist aufgetreten: ${fehler.message}`);\n",
    "} finally {\n",
    "    console.log(\"Die Berechnung ist abgeschlossen (oder fehlgeschlagen).\");\n",
    "}\n",
    "\n",
    "console.log(\"Das Programm läuft trotz des Fehlers weiter!\");"
   ]
  },
  {
   "cell_type": "markdown",
   "metadata": {},
   "source": [
    "## 10. Zusammenfassende Aufgabe\n",
    "\n",
    "Jetzt kombinieren wir alles, was wir gelernt haben!\n",
    "\n",
    "**🎯 Deine Mission:**\n",
    "Schreibe eine Funktion `erstelleBericht`, die ein Array von Personen-Objekten als Parameter entgegennimmt. Jedes Personen-Objekt hat die Eigenschaften `name` (String) und `alter` (Number).\n",
    "\n",
    "Die Funktion soll:\n",
    "1. Über das Array mit einer Schleife iterieren.\n",
    "2. Für jede Person prüfen, ob sie volljährig ist (`alter >= 18`).\n",
    "3. Einen Bericht als String erstellen und zurückgeben. In dem Bericht soll für jede Person eine Zeile stehen, z.B.:\n",
    "   - \"Anna ist volljährig.\"\n",
    "   - \"Tom ist minderjährig.\"\n",
    "\n",
    "Unten findest du bereits ein Beispiel-Array, das du verwenden kannst."
   ]
  },
  {
   "cell_type": "code",
   "execution_count": null,
   "metadata": {},
   "outputs": [],
   "source": [
    "const personenListe = [\n",
    "  { name: \"Anna\", alter: 25 },\n",
    "  { name: \"Tom\", alter: 16 },\n",
    "  { name: \"Maria\", alter: 42 },\n",
    "  { name: \"Leo\", alter: 17 }\n",
    "];\n",
    "\n",
    "// Deine Funktion hier definieren\n",
    "function erstelleBericht(personen) {\n",
    "  let bericht = \"\"; // Starte mit einem leeren String\n",
    "\n",
    "  // 1. Schleife über das 'personen' Array\n",
    "  // Dein Code hier...\n",
    "\n",
    "  // 2. Innerhalb der Schleife: Prüfe das Alter\n",
    "  // Dein Code hier...\n",
    "\n",
    "  // 3. Füge die passende Zeile zum 'bericht' String hinzu\n",
    "  // (Tipp: benutze `bericht = bericht + 'neue Zeile\\n';`)\n",
    "  // Dein Code hier...\n",
    "\n",
    "  return bericht; // Gib den fertigen Bericht zurück\n",
    "}\n",
    "\n",
    "// Rufe deine Funktion auf und gib den Bericht aus\n",
    "const finalerBericht = erstelleBericht(personenListe);\n",
    "console.log(finalerBericht);"
   ]
  },
  {
   "cell_type": "markdown",
   "metadata": {},
   "source": [
    "## 🎉 Herzlichen Glückwunsch!\n",
    "\n",
    "Du hast die Grundlagen von JavaScript erfolgreich durchgearbeitet! Du kennst jetzt die wichtigsten Konzepte:\n",
    "\n",
    "- **Variablen** zum Speichern von Daten.\n",
    "- **Datentypen** wie Strings, Numbers und Booleans.\n",
    "- **Bedingungen** (`if/else`), um Entscheidungen zu treffen.\n",
    "- **Arrays und Objekte**, um Daten zu strukturieren.\n",
    "- **Schleifen** (`for/while`), um Code zu wiederholen.\n",
    "- **Funktionen**, um deinen Code wiederverwendbar und organisiert zu halten.\n",
    "- **Fehlerbehandlung** (`try/catch`), um dein Programm robuster zu machen.\n",
    "\n",
    "Das ist eine fantastische Grundlage. Programmieren lernt man am besten durch Üben. Versuche nun, eigene kleine Projekte zu starten. Viel Erfolg auf deiner weiteren Reise als Entwickler!"
   ]
  }
 ],
 "metadata": {
  "kernelspec": {
   "display_name": "JavaScript (Node.js)",
   "language": "javascript",
   "name": "javascript"
  },
  "language_info": {
   "codemirror_mode": "javascript",
   "file_extension": ".js",
   "mimetype": "text/javascript",
   "name": "javascript",
   "version": "18.15.0"
  }
 },
 "nbformat": 4,
 "nbformat_minor": 5
}