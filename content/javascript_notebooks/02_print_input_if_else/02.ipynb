{
 "cells": [
  {
   "cell_type": "markdown",
   "metadata": {},
   "source": [
    "## Strukturierter Leitfaden für JavaScript-Grundlagen - Kontrollstrukturen\n",
    "\n",
    "### Inhaltsverzeichnis\n",
    "1. [Ein- und Ausgabe](#ein--und-ausgabe)\n",
    "   - [Die `console.log()` Funktion und ihre Varianten](#die-console.log-funktion-und-ihre-varianten)\n",
    "   - [Die `prompt()` und `confirm()` Funktionen](#die-prompt-und-confirm-funktionen)\n",
    "   - [String-Formatierung mit Template Literals](#string-formatierung-mit-template-literals)\n",
    "2. [Bedingte Ausführung](#bedingte-ausführung)\n",
    "   - [if, if-else Anweisungen](#if-if-else-anweisungen)\n",
    "   - [Verschachtelte Bedingungen](#verschachtelte-bedingungen)\n",
    "3. [Mehrfachverzweigungen](#mehrfachverzweigungen)\n",
    "   - [if-else if-else Ketten](#if-else-if-else-ketten)\n",
    "   - [Switch-Case Anweisungen](#switch-case-anweisungen)\n",
    "   - [Logische Operatoren in Bedingungen](#logische-operatoren-in-bedingungen)\n",
    "4. [Fehlerbehebung in bedingten Anweisungen](#fehlerbehebung-in-bedingten-anweisungen)\n",
    "5. [Leitfragen](#leitfragen)"
   ]
  },
  {
   "cell_type": "markdown",
   "metadata": {},
   "source": [
    "## Ein- und Ausgabe\n",
    "\n",
    "### Die `console.log()` Funktion und ihre Varianten\n",
    "\n",
    "Die `console.log()`-Funktion ist die grundlegendste Methode zur Ausgabe in JavaScript. Sie wird verwendet, um Informationen in der Konsole anzuzeigen.\n",
    "\n",
    "#### 📝 Grundlegende Syntax\n",
    "```javascript\n",
    "console.log(wert1, wert2, ..., wertN)\n",
    "```\n",
    "\n",
    "Die `console.log()`-Funktion kann eine beliebige Anzahl von Argumenten (auch gar keine) akzeptieren. Jedes dieser Argumente wird in eine Zeichenkette umgewandelt und in der angegebenen Reihenfolge ausgegeben."
   ]
  },
  {
   "cell_type": "code",
   "execution_count": null,
   "metadata": {},
   "outputs": [],
   "source": [
    "console.log(\"Hello, World!\");  // Gibt \"Hello, World!\" aus\n",
    "console.log(42);               // Gibt \"42\" aus\n",
    "console.log(3.14);             // Gibt \"3.14\" aus\n",
    "console.log(true);             // Gibt \"true\" aus"
   ]
  },
  {
   "cell_type": "markdown",
   "metadata": {},
   "source": [
    "**Übung 1.1**: Schreibe ein Programm, das die Zahlen von 1 bis 5 ausgibt, aber mit folgenden Formatierungen:\n",
    "\n",
    "- Alle Zahlen sollen in einer Zeile erscheinen\n",
    "- Als Trennzeichen zwischen den Zahlen soll ein Pfeil (->) verwendet werden\n",
    "- Am Ende der Zeile soll \"Ende!\" stehen"
   ]
  },
  {
   "cell_type": "code",
   "execution_count": null,
   "metadata": {},
   "outputs": [],
   "source": [
    "// Deine Lösung hier\n"
   ]
  },
  {
   "cell_type": "markdown",
   "metadata": {},
   "source": [
    "#### 📝 Mehrere Argumente\n",
    "\n",
    "Wenn mehrere Argumente übergeben werden, werden diese standardmäßig durch ein Leerzeichen getrennt:"
   ]
  },
  {
   "cell_type": "code",
   "execution_count": null,
   "metadata": {},
   "outputs": [],
   "source": [
    "console.log(\"Hello,\", \"World!\");  // Gibt \"Hello, World!\" aus\n",
    "const name = \"Alice\";\n",
    "const age = 30;\n",
    "console.log(name, \"ist\", age, \"Jahre alt.\");  // Gibt \"Alice ist 30 Jahre alt.\" aus"
   ]
  },
  {
   "cell_type": "markdown",
   "metadata": {},
   "source": [
    "**Übung 1.2**: Erstelle ein Programm, das deinen Vor- und Nachnamen, dein Alter und deine Lieblingsfarbe in einer Zeile ausgibt, wobei jedes Element durch ein Sternchen (*) getrennt ist."
   ]
  },
  {
   "cell_type": "code",
   "execution_count": null,
   "metadata": {},
   "outputs": [],
   "source": [
    "// Deine Lösung hier\n"
   ]
  },
  {
   "cell_type": "markdown",
   "metadata": {},
   "source": [
    "#### 📝 Console-Varianten\n",
    "\n",
    "JavaScript bietet verschiedene Console-Methoden für unterschiedliche Zwecke:\n",
    "\n",
    "##### `console.info()`, `console.warn()`, `console.error()`\n",
    "\n",
    "Diese Methoden funktionieren ähnlich wie `console.log()`, aber mit verschiedenen Prioritätsstufen:"
   ]
  },
  {
   "cell_type": "code",
   "execution_count": null,
   "metadata": {},
   "outputs": [],
   "source": [
    "console.log(\"Normale Nachricht\");     // Standardausgabe\n",
    "console.info(\"Info-Nachricht\");       // Informationsnachricht (meist blau)\n",
    "console.warn(\"Warnung!\");             // Warnung (meist gelb)\n",
    "console.error(\"Fehler!\");             // Fehler (meist rot)"
   ]
  },
  {
   "cell_type": "markdown",
   "metadata": {},
   "source": [
    "##### `console.table()` für strukturierte Daten\n",
    "\n",
    "Zeigt Arrays und Objekte in Tabellenform an:"
   ]
  },
  {
   "cell_type": "code",
   "execution_count": null,
   "metadata": {},
   "outputs": [],
   "source": [
    "const users = [\n",
    "    { name: \"Alice\", age: 30, city: \"Berlin\" },\n",
    "    { name: \"Bob\", age: 25, city: \"München\" },\n",
    "    { name: \"Charlie\", age: 35, city: \"Hamburg\" }\n",
    "];\n",
    "\n",
    "console.table(users);  // Zeigt eine formatierte Tabelle"
   ]
  },
  {
   "cell_type": "markdown",
   "metadata": {},
   "source": [
    "##### `console.group()` für Gruppierung\n",
    "\n",
    "Gruppiert Ausgaben zusammen:"
   ]
  },
  {
   "cell_type": "code",
   "execution_count": null,
   "metadata": {},
   "outputs": [],
   "source": [
    "console.group(\"Benutzerinformationen\");\n",
    "console.log(\"Name: Alice\");\n",
    "console.log(\"Alter: 30\");\n",
    "console.log(\"Stadt: Berlin\");\n",
    "console.groupEnd();\n",
    "\n",
    "console.groupCollapsed(\"Eingeklappte Gruppe\");\n",
    "console.log(\"Diese Nachricht ist eingeklappt\");\n",
    "console.groupEnd();"
   ]
  },
  {
   "cell_type": "markdown",
   "metadata": {},
   "source": [
    "##### `console.time()` für Zeitmessung\n",
    "\n",
    "Misst die Ausführungszeit von Code:"
   ]
  },
  {
   "cell_type": "code",
   "execution_count": null,
   "metadata": {},
   "outputs": [],
   "source": [
    "console.time(\"Schleifenzeit\");\n",
    "for (let i = 0; i < 1000000; i++) {\n",
    "    // Simuliere zeitaufwändige Operation\n",
    "}\n",
    "console.timeEnd(\"Schleifenzeit\");  // Gibt die verstrichene Zeit aus"
   ]
  },
  {
   "cell_type": "markdown",
   "metadata": {},
   "source": [
    "**Übung 1.3**: Erstelle ein Programm, das verschiedene Console-Methoden demonstriert:\n",
    "- Verwende `console.group()` um Informationen über dich zu gruppieren\n",
    "- Nutze `console.info()` für deinen Namen\n",
    "- Nutze `console.warn()` für dein Alter (falls über 30)\n",
    "- Nutze `console.table()` für ein Array mit deinen Hobbys\n",
    "- Messe mit `console.time()` wie lange eine Schleife dauert"
   ]
  },
  {
   "cell_type": "code",
   "execution_count": null,
   "metadata": {},
   "outputs": [],
   "source": [
    "// Deine Lösung hier\n"
   ]
  },
  {
   "cell_type": "markdown",
   "metadata": {},
   "source": [
    "#### 📝 Escape-Sequenzen in Strings\n",
    "\n",
    "Beim Arbeiten mit der `console.log()`-Funktion sind Escape-Sequenzen in Strings wichtig:\n",
    "\n",
    "| Escape-Sequenz | Beschreibung |\n",
    "| --- | --- |\n",
    "| `\\n` | Zeilenumbruch |\n",
    "| `\\t` | Tabulator |\n",
    "| `\\\\` | Backslash |\n",
    "| `\\'` | Einfaches Anführungszeichen |\n",
    "| `\\\"` | Doppeltes Anführungszeichen |\n",
    "| `\\r` | Wagenrücklauf (Carriage Return) |\n",
    "| `\\b` | Rückschritt (Backspace) |\n",
    "| `\\f` | Seitenvorschub (Form Feed) |\n",
    "| `\\uXXXX` | Unicode-Zeichen |"
   ]
  },
  {
   "cell_type": "code",
   "execution_count": null,
   "metadata": {},
   "outputs": [],
   "source": [
    "console.log(\"Erste Zeile\\nZweite Zeile\");  // Zeilenumbruch\n",
    "console.log(\"Name:\\tWert\");                // Tabulator\n",
    "console.log(\"C:\\\\Programme\\\\JavaScript\");   // Backslashes\n",
    "console.log(\"Er sagte: \\\"Hallo\\\"\");        // Anführungszeichen\n",
    "console.log(\"Unicode: \\u0048\\u0065\\u006C\\u006C\\u006F\");  // \"Hello\""
   ]
  },
  {
   "cell_type": "markdown",
   "metadata": {},
   "source": [
    "**Übung 1.4**: Erstelle eine Textausgabe für einen Kassenbon mit:\n",
    "- Einem Titel (zentriert)\n",
    "- Mindestens 3 Artikeln mit Preis (linksbündig: Artikel, rechtsbündig: Preis)\n",
    "- Einer Trennlinie aus Bindestrichen\n",
    "- Einer Gesamtsumme\n",
    "Verwende dabei Tabulatoren und Zeilenumbrüche."
   ]
  },
  {
   "cell_type": "code",
   "execution_count": null,
   "metadata": {},
   "outputs": [],
   "source": [
    "// Deine Lösung hier\n"
   ]
  },
  {
   "cell_type": "markdown",
   "metadata": {},
   "source": [
    "### Die `prompt()` und `confirm()` Funktionen\n",
    "\n",
    "Die `prompt()`-Funktion wird verwendet, um Eingaben vom Benutzer über ein Dialogfeld zu lesen. Die `confirm()`-Funktion erstellt ein Ja/Nein-Dialogfeld.\n",
    "\n",
    "#### 📝 Grundlegende Syntax\n",
    "\n",
    "```javascript\n",
    "prompt(nachricht, [standardwert])\n",
    "confirm(nachricht)\n",
    "```\n",
    "\n",
    "**Hinweis**: `prompt()` und `confirm()` funktionieren nur in Browser-Umgebungen, nicht in Node.js."
   ]
  },
  {
   "cell_type": "code",
   "execution_count": null,
   "metadata": {},
   "outputs": [],
   "source": [
    "const name = prompt(\"Gib deinen Namen ein:\");\n",
    "console.log(\"Hallo,\", name + \"!\");\n",
    "\n",
    "const isStudent = confirm(\"Bist du Student?\");\n",
    "console.log(\"Student:\", isStudent);  // true oder false"
   ]
  },
  {
   "cell_type": "markdown",
   "metadata": {},
   "source": [
    "#### 📝 Wichtige Eigenschaften der Eingabefunktionen\n",
    "\n",
    "1. **Die `prompt()` Funktion gibt immer einen String zurück** (oder `null` wenn abgebrochen):\n"
   ]
  },
  {
   "cell_type": "code",
   "execution_count": null,
   "metadata": {},
   "outputs": [],
   "source": [
    "const userInput = prompt(\"Gib eine Zahl ein:\");\n",
    "console.log(typeof userInput);  // \"string\""
   ]
  },
  {
   "cell_type": "markdown",
   "metadata": {},
   "source": [
    "2. **Um numerische Eingaben zu verarbeiten, muss die Eingabe explizit konvertiert werden**:"
   ]
  },
  {
   "cell_type": "code",
   "execution_count": null,
   "metadata": {},
   "outputs": [],
   "source": [
    "// Konvertierung zu Number\n",
    "const age = Number(prompt(\"Gib dein Alter ein:\"));\n",
    "const nextYear = age + 1;\n",
    "console.log(\"Nächstes Jahr wirst du\", nextYear, \"Jahre alt sein.\");\n",
    "\n",
    "// Konvertierung zu parseInt/parseFloat\n",
    "const weight = parseFloat(prompt(\"Gib dein Gewicht in kg ein:\"));\n",
    "console.log(\"Das entspricht\", (weight * 2.20462).toFixed(2), \"Pfund.\");"
   ]
  },
  {
   "cell_type": "markdown",
   "metadata": {},
   "source": [
    "3. **Fehlerbehandlung ist wichtig**, da die Typkonvertierung fehlschlagen kann:"
   ]
  },
  {
   "cell_type": "code",
   "execution_count": null,
   "metadata": {},
   "outputs": [],
   "source": [
    "const input = prompt(\"Gib eine Ganzzahl ein:\");\n",
    "const number = parseInt(input);\n",
    "\n",
    "if (isNaN(number)) {\n",
    "    console.log(\"Das war keine gültige Ganzzahl!\");\n",
    "} else {\n",
    "    console.log(\"Die Zahl mal 2 ist:\", number * 2);\n",
    "}"
   ]
  },
  {
   "cell_type": "markdown",
   "metadata": {},
   "source": [
    "#### 📝 Alternative für Node.js: readline\n",
    "\n",
    "In Node.js-Umgebungen kann `readline` für Eingaben verwendet werden:"
   ]
  },
  {
   "cell_type": "code",
   "execution_count": null,
   "metadata": {},
   "outputs": [],
   "source": [
    "// Nur in Node.js verfügbar\n",
    "// const readline = require('readline');\n",
    "// const rl = readline.createInterface({\n",
    "//     input: process.stdin,\n",
    "//     output: process.stdout\n",
    "// });\n",
    "//\n",
    "// rl.question('Wie heißt du? ', (name) => {\n",
    "//     console.log(`Hallo, ${name}!`);\n",
    "//     rl.close();\n",
    "// });\n",
    "\n",
    "// Für Browser-Umgebung nutzen wir prompt()\n",
    "const name = prompt(\"Wie heißt du?\");\n",
    "console.log(`Hallo, ${name}! Schön, dich kennenzulernen.`);"
   ]
  },
  {
   "cell_type": "markdown",
   "metadata": {},
   "source": [
    "#### 📝 Beispiele für die Verwendung von Eingabefunktionen\n",
    "\n",
    "**Beispiel 1: Einfache Begrüßung**"
   ]
  },
  {
   "cell_type": "code",
   "execution_count": null,
   "metadata": {},
   "outputs": [],
   "source": [
    "const name = prompt(\"Wie heißt du?\");\n",
    "if (name) {  // Prüfe ob nicht null (Abbruch)\n",
    "    console.log(\"Hallo,\", name + \"! Schön, dich kennenzulernen.\");\n",
    "} else {\n",
    "    console.log(\"Eingabe wurde abgebrochen.\");\n",
    "}"
   ]
  },
  {
   "cell_type": "markdown",
   "metadata": {},
   "source": [
    "**Beispiel 2: Taschenrechner**"
   ]
  },
  {
   "cell_type": "code",
   "execution_count": null,
   "metadata": {},
   "outputs": [],
   "source": [
    "const num1 = parseFloat(prompt(\"Gib die erste Zahl ein:\"));\n",
    "const num2 = parseFloat(prompt(\"Gib die zweite Zahl ein:\"));\n",
    "const operation = prompt(\"Welche Operation? (+, -, *, /):\");\n",
    "\n",
    "let result;\n",
    "\n",
    "if (isNaN(num1) || isNaN(num2)) {\n",
    "    result = \"Ungültige Eingabe\";\n",
    "} else if (operation === \"+\") {\n",
    "    result = num1 + num2;\n",
    "} else if (operation === \"-\") {\n",
    "    result = num1 - num2;\n",
    "} else if (operation === \"*\") {\n",
    "    result = num1 * num2;\n",
    "} else if (operation === \"/\") {\n",
    "    if (num2 !== 0) {\n",
    "        result = num1 / num2;\n",
    "    } else {\n",
    "        result = \"Division durch Null nicht möglich\";\n",
    "    }\n",
    "} else {\n",
    "    result = \"Ungültige Operation\";\n",
    "}\n",
    "\n",
    "console.log(\"Ergebnis:\", result);"
   ]
  },
  {
   "cell_type": "markdown",
   "metadata": {},
   "source": [
    "**Beispiel 3: Datenvalidierung mit Schleife**"
   ]
  },
  {
   "cell_type": "code",
   "execution_count": null,
   "metadata": {},
   "outputs": [],
   "source": [
    "let age;\n",
    "let validInput = false;\n",
    "\n",
    "while (!validInput) {\n",
    "    const input = prompt(\"Gib dein Alter ein (0-120):\");\n",
    "    \n",
    "    if (input === null) {  // Benutzer hat abgebrochen\n",
    "        console.log(\"Eingabe wurde abgebrochen.\");\n",
    "        break;\n",
    "    }\n",
    "    \n",
    "    age = parseInt(input);\n",
    "    \n",
    "    if (isNaN(age)) {\n",
    "        alert(\"Bitte gib eine gültige Zahl ein!\");\n",
    "    } else if (age < 0 || age > 120) {\n",
    "        alert(\"Alter muss zwischen 0 und 120 liegen!\");\n",
    "    } else {\n",
    "        validInput = true;\n",
    "        console.log(\"Dein Alter ist:\", age);\n",
    "    }\n",
    "}"
   ]
  },
  {
   "cell_type": "markdown",
   "metadata": {},
   "source": [
    "**Übung 2.1**: Erstelle ein einfaches Temperaturumrechnungsprogramm, das den Benutzer nach einer Temperatur in Celsius fragt und diese in Fahrenheit umrechnet. Verwende die Formel: F = C * 9/5 + 32. Achte auf korrekte Typkonvertierung."
   ]
  },
  {
   "cell_type": "code",
   "execution_count": null,
   "metadata": {},
   "outputs": [],
   "source": [
    "// Deine Lösung hier\n"
   ]
  },
  {
   "cell_type": "markdown",
   "metadata": {},
   "source": [
    "**Übung 2.2**: Schreibe ein Programm, das den Benutzer nach Länge und Breite eines Rechtecks fragt und dann sowohl den Flächeninhalt als auch den Umfang berechnet und ausgibt."
   ]
  },
  {
   "cell_type": "code",
   "execution_count": null,
   "metadata": {},
   "outputs": [],
   "source": [
    "// Deine Lösung hier\n"
   ]
  },
  {
   "cell_type": "markdown",
   "metadata": {},
   "source": [
    "**Übung 2.3**: Erweitere das vorherige Programm, indem du eine Fehlerbehandlung hinzufügst, die sicherstellt, dass der Benutzer gültige numerische Werte für Länge und Breite eingibt. Wenn ungültige Werte eingegeben werden, soll das Programm eine freundliche Fehlermeldung ausgeben und erneut nach der Eingabe fragen."
   ]
  },
  {
   "cell_type": "code",
   "execution_count": null,
   "metadata": {},
   "outputs": [],
   "source": [
    "// Deine Lösung hier\n"
   ]
  },
  {
   "cell_type": "markdown",
   "metadata": {},
   "source": [
    "### String-Formatierung mit Template Literals\n",
    "\n",
    "Template Literals (Template Strings) sind die moderne Methode zur String-Formatierung in JavaScript und bieten viele Vorteile gegenüber traditioneller String-Konkatenation.\n",
    "\n",
    "#### 📝 1. String-Konkatenation (traditionell)\n",
    "\n",
    "Die einfachste Methode ist die String-Konkatenation mit dem `+`-Operator:"
   ]
  },
  {
   "cell_type": "code",
   "execution_count": null,
   "metadata": {},
   "outputs": [],
   "source": [
    "const name = \"Alice\";\n",
    "const age = 30;\n",
    "const greeting = \"Hallo, \" + name + \"! Du bist \" + age + \" Jahre alt.\";\n",
    "console.log(greeting);"
   ]
  },
  {
   "cell_type": "markdown",
   "metadata": {},
   "source": [
    "**Übung 3.1**: Erstelle ein Programm, das den Benutzer nach seinem Vornamen, Nachnamen und Geburtsjahr fragt. Verwende String-Konkatenation, um eine Begrüßung und das berechnete Alter in einem Satz auszugeben."
   ]
  },
  {
   "cell_type": "code",
   "execution_count": null,
   "metadata": {},
   "outputs": [],
   "source": [
    "// Deine Lösung hier\n"
   ]
  },
  {
   "cell_type": "markdown",
   "metadata": {},
   "source": [
    "#### 📝 2. Template Literals (moderne Methode)\n",
    "\n",
    "Template Literals verwenden Backticks (`) und ermöglichen Interpolation mit `${}`:"
   ]
  },
  {
   "cell_type": "code",
   "execution_count": null,
   "metadata": {},
   "outputs": [],
   "source": [
    "const name = \"Bob\";\n",
    "const age = 25;\n",
    "const greeting = `Hallo, ${name}! Du bist ${age} Jahre alt.`;\n",
    "console.log(greeting);"
   ]
  },
  {
   "cell_type": "markdown",
   "metadata": {},
   "source": [
    "#### 📝 Vorteile von Template Literals\n",
    "\n",
    "**1. Mehrzeilige Strings:**"
   ]
  },
  {
   "cell_type": "code",
   "execution_count": null,
   "metadata": {},
   "outputs": [],
   "source": [
    "// Traditionell (umständlich)\n",
    "const oldWay = \"Dies ist ein\\n\" +\n",
    "               \"mehrzeiliger String.\\n\" +\n",
    "               \"Er ist schwer zu lesen.\";\n",
    "\n",
    "// Mit Template Literals (einfach)\n",
    "const newWay = `Dies ist ein\n",
    "mehrzeiliger String.\n",
    "Er ist einfach zu lesen.`;\n",
    "\n",
    "console.log(\"Traditionell:\");\n",
    "console.log(oldWay);\n",
    "console.log(\"\\nTemplate Literals:\");\n",
    "console.log(newWay);"
   ]
  },
  {
   "cell_type": "markdown",
   "metadata": {},
   "source": [
    "**2. Ausdrücke in Template Literals:**"
   ]
  },
  {
   "cell_type": "code",
   "execution_count": null,
   "metadata": {},
   "outputs": [],
   "source": [
    "const a = 5;\n",
    "const b = 10;\n",
    "console.log(`${a} + ${b} = ${a + b}`);\n",
    "\n",
    "const name = \"Frank\";\n",
    "console.log(`Name in Großbuchstaben: ${name.toUpperCase()}`);\n",
    "\n",
    "const date = new Date();\n",
    "console.log(`Heute ist der ${date.toLocaleDateString()}, es ist ${date.toLocaleTimeString()} Uhr`);"
   ]
  },
  {
   "cell_type": "markdown",
   "metadata": {},
   "source": [
    "**3. Verschachtelte Template Literals:**"
   ]
  },
  {
   "cell_type": "code",
   "execution_count": null,
   "metadata": {},
   "outputs": [],
   "source": [
    "const users = [\n",
    "    { name: \"Alice\", age: 30 },\n",
    "    { name: \"Bob\", age: 25 },\n",
    "    { name: \"Charlie\", age: 35 }\n",
    "];\n",
    "\n",
    "const userList = `Benutzerliste:\n",
    "${users.map(user => `- ${user.name} (${user.age} Jahre)`).join('\\n')}`;\n",
    "\n",
    "console.log(userList);"
   ]
  },
  {
   "cell_type": "markdown",
   "metadata": {},
   "source": [
    "**Übung 3.2**: Schreibe ein Programm, das einen Artikel (Name, Einzelpreis) und eine Menge abfragt. Verwende Template Literals, um eine formatierte Ausgabe mit Artikelname, Menge, Einzelpreis und Gesamtpreis zu erstellen. Verwende zwei Dezimalstellen für die Preisangaben."
   ]
  },
  {
   "cell_type": "code",
   "execution_count": null,
   "metadata": {},
   "outputs": [],
   "source": [
    "// Deine Lösung hier\n"
   ]
  },
  {
   "cell_type": "markdown",
   "metadata": {},
   "source": [
    "#### 📝 3. Tagged Template Literals (Erweitert)\n",
    "\n",
    "Tagged Template Literals erlauben die Verarbeitung von Template Literals durch Funktionen:"
   ]
  },
  {
   "cell_type": "code",
   "execution_count": null,
   "metadata": {},
   "outputs": [],
   "source": [
    "// Einfacher Tag\n",
    "function highlight(strings, ...values) {\n",
    "    return strings.reduce((result, string, i) => {\n",
    "        const value = values[i] ? `<mark>${values[i]}</mark>` : '';\n",
    "        return result + string + value;\n",
    "    }, '');\n",
    "}\n",
    "\n",
    "const name = \"Alice\";\n",
    "const age = 30;\n",
    "const highlighted = highlight`Name: ${name}, Alter: ${age}`;\n",
    "console.log(highlighted);\n",
    "\n",
    "// Formatierungs-Tag\n",
    "function currency(strings, ...values) {\n",
    "    return strings.reduce((result, string, i) => {\n",
    "        const value = values[i] ? values[i].toFixed(2) + ' €' : '';\n",
    "        return result + string + value;\n",
    "    }, '');\n",
    "}\n",
    "\n",
    "const price = 19.9;\n",
    "const formattedPrice = currency`Der Preis beträgt ${price}`;\n",
    "console.log(formattedPrice);"
   ]
  },
  {
   "cell_type": "markdown",
   "metadata": {},
   "source": [
    "**Übung 3.3**: Erstelle ein Programm, das eine Tabelle mit den Quadrat- und Kubikzahlen für die Zahlen von 1 bis 5 ausgibt. Verwende Template Literals, um die Tabelle zu formatieren (mit Überschriften und ausgerichteten Zahlen)."
   ]
  },
  {
   "cell_type": "code",
   "execution_count": null,
   "metadata": {},
   "outputs": [],
   "source": [
    "// Deine Lösung hier\n"
   ]
  },
  {
   "cell_type": "markdown",
   "metadata": {},
   "source": [
    "#### 📝 4. Formatierungshilfen\n",
    "\n",
    "JavaScript bietet verschiedene Methoden zur Zahlenformatierung:"
   ]
  },
  {
   "cell_type": "code",
   "execution_count": null,
   "metadata": {},
   "outputs": [],
   "source": [
    "const value = 12345.6789;\n",
    "\n",
    "// Dezimalstellen begrenzen\n",
    "console.log(`Formatiert: ${value.toFixed(2)}`);      // 12345.68\n",
    "console.log(`Wissenschaftlich: ${value.toExponential(2)}`);  // 1.23e+4\n",
    "\n",
    "// Lokalisierte Formatierung\n",
    "console.log(`Deutsch: ${value.toLocaleString('de-DE')}`);    // 12.345,679\n",
    "console.log(`Englisch: ${value.toLocaleString('en-US')}`);   // 12,345.679\n",
    "\n",
    "// Währungsformatierung\n",
    "const formatter = new Intl.NumberFormat('de-DE', {\n",
    "    style: 'currency',\n",
    "    currency: 'EUR'\n",
    "});\n",
    "console.log(`Währung: ${formatter.format(value)}`);\n",
    "\n",
    "// Padding\n",
    "const number = 42;\n",
    "console.log(`Gepaddet: ${number.toString().padStart(5, '0')}`);  // 00042\n",
    "console.log(`Rechtsbündig: '${number.toString().padEnd(5, ' ')}'`);   // '42   '"
   ]
  },
  {
   "cell_type": "markdown",
   "metadata": {},
   "source": [
    "**Übung 3.4**: Erstelle ein Programm, das den Benutzer nach seinem Namen, Alter und Lieblingsfarbe fragt. Verwende Template Literals, um einen personalisierten Text zu generieren, der alle Informationen enthält und zusätzlich berechnet, in welchem Jahr der Benutzer 100 Jahre alt sein wird."
   ]
  },
  {
   "cell_type": "code",
   "execution_count": null,
   "metadata": {},
   "outputs": [],
   "source": [
    "// Deine Lösung hier\n"
   ]
  },
  {
   "cell_type": "markdown",
   "metadata": {},
   "source": [
    "## Bedingte Ausführung\n",
    "\n",
    "### if, if-else Anweisungen\n",
    "\n",
    "Bedingte Anweisungen ermöglichen es, Code basierend auf bestimmten Bedingungen auszuführen. Sie sind ein fundamentales Konzept in der Programmierung.\n",
    "\n",
    "#### 📝 Die if-Anweisung\n",
    "\n",
    "Die einfachste Form der bedingten Ausführung ist die `if`-Anweisung:\n",
    "\n",
    "```javascript\n",
    "if (bedingung) {\n",
    "    // Code, der ausgeführt wird, wenn die Bedingung true ist\n",
    "}\n",
    "```\n",
    "\n",
    "Die Bedingung wird ausgewertet und wenn sie zu `true` evaluiert, wird der Codeblock in den geschweiften Klammern ausgeführt."
   ]
  },
  {
   "cell_type": "code",
   "execution_count": null,
   "metadata": {},
   "outputs": [],
   "source": [
    "const age = 18;\n",
    "if (age >= 18) {\n",
    "    console.log(\"Du bist volljährig.\");\n",
    "}"
   ]
  },
  {
   "cell_type": "markdown",
   "metadata": {},
   "source": [
    "**Übung 4.1**: Schreibe ein Programm, das den Benutzer nach seinem Alter fragt und nur dann eine Glückwunschnachricht ausgibt, wenn das Alter mindestens 18 Jahre beträgt."
   ]
  },
  {
   "cell_type": "code",
   "execution_count": null,
   "metadata": {},
   "outputs": [],
   "source": [
    "// Deine Lösung hier\n"
   ]
  },
  {
   "cell_type": "markdown",
   "metadata": {},
   "source": [
    "#### 📝 Die if-else-Anweisung\n",
    "\n",
    "Mit der `if-else`-Anweisung können wir einen alternativen Codeblock ausführen, wenn die Bedingung nicht erfüllt ist:\n",
    "\n",
    "```javascript\n",
    "if (bedingung) {\n",
    "    // Code, der ausgeführt wird, wenn die Bedingung true ist\n",
    "} else {\n",
    "    // Code, der ausgeführt wird, wenn die Bedingung false ist\n",
    "}\n",
    "```"
   ]
  },
  {
   "cell_type": "code",
   "execution_count": null,
   "metadata": {},
   "outputs": [],
   "source": [
    "const age = 16;\n",
    "if (age >= 18) {\n",
    "    console.log(\"Du bist volljährig.\");\n",
    "} else {\n",
    "    console.log(\"Du bist noch minderjährig.\");\n",
    "}"
   ]
  },
  {
   "cell_type": "markdown",
   "metadata": {},
   "source": [
    "#### 📝 Wichtige Aspekte der bedingten Ausführung\n",
    "\n",
    "1. **Bedingungen**: Eine Bedingung ist ein Ausdruck, der zu einem booleschen Wert (`true` oder `false`) ausgewertet wird.\n",
    "2. **Geschweifte Klammern**: In JavaScript definieren geschweifte Klammern `{}` den Codeblock. Bei einzelnen Anweisungen können sie weggelassen werden, sind aber für die Lesbarkeit empfohlen."
   ]
  },
  {
   "cell_type": "code",
   "execution_count": null,
   "metadata": {},
   "outputs": [],
   "source": [
    "const age = 20;\n",
    "\n",
    "if (age >= 18) {\n",
    "    console.log(\"Du bist volljährig.\");\n",
    "    console.log(\"Du darfst wählen.\");\n",
    "}\n",
    "console.log(\"Diese Zeile wird immer ausgegeben.\");  // Nicht Teil des if-Blocks\n",
    "\n",
    "// Ohne geschweifte Klammern (nur bei einer Anweisung)\n",
    "if (age >= 18)\n",
    "    console.log(\"Kurze Form (nicht empfohlen).\");"
   ]
  },
  {
   "cell_type": "markdown",
   "metadata": {},
   "source": [
    "**Übung 4.2**: Schreibe ein Programm, das den Benutzer nach einer Zahl fragt und dann prüft, ob die Zahl gerade oder ungerade ist. Gib eine entsprechende Meldung aus."
   ]
  },
  {
   "cell_type": "code",
   "execution_count": null,
   "metadata": {},
   "outputs": [],
   "source": [
    "// Deine Lösung hier\n"
   ]
  },
  {
   "cell_type": "markdown",
   "metadata": {},
   "source": [
    "3. **Vergleichsoperatoren**: Die am häufigsten verwendeten Operatoren für Bedingungen sind:\n",
    "   - `===`: Strikt gleich (Typ und Wert)\n",
    "   - `!==`: Strikt ungleich\n",
    "   - `==`: Lose gleich (mit Type Coercion)\n",
    "   - `!=`: Lose ungleich\n",
    "   - `>`: Größer als\n",
    "   - `<`: Kleiner als\n",
    "   - `>=`: Größer oder gleich\n",
    "   - `<=`: Kleiner oder gleich"
   ]
  },
  {
   "cell_type": "code",
   "execution_count": null,
   "metadata": {},
   "outputs": [],
   "source": [
    "const a = 5;\n",
    "const b = 10;\n",
    "\n",
    "if (a === b) {\n",
    "    console.log(\"a ist strikt gleich b\");\n",
    "}\n",
    "if (a !== b) {\n",
    "    console.log(\"a ist strikt ungleich b\");\n",
    "}\n",
    "if (a > b) {\n",
    "    console.log(\"a ist größer als b\");\n",
    "}\n",
    "if (a < b) {\n",
    "    console.log(\"a ist kleiner als b\");\n",
    "}\n",
    "if (a >= b) {\n",
    "    console.log(\"a ist größer oder gleich b\");\n",
    "}\n",
    "if (a <= b) {\n",
    "    console.log(\"a ist kleiner oder gleich b\");\n",
    "}\n",
    "\n",
    "// Unterschied zwischen === und ==\n",
    "console.log(\"\\nVergleich === vs ==\");\n",
    "console.log(`5 === \\\"5\\\": ${5 === \"5\"}`);  // false\n",
    "console.log(`5 == \\\"5\\\": ${5 == \"5\"}`);    // true (Type Coercion)"
   ]
  },
  {
   "cell_type": "markdown",
   "metadata": {},
   "source": [
    "**Übung 4.3**: Erstelle ein Programm, das zwei Zahlen einliest und dann alle zutreffenden Vergleiche ausgibt (ist gleich, ungleich, größer, kleiner, größer gleich, kleiner gleich)."
   ]
  },
  {
   "cell_type": "code",
   "execution_count": null,
   "metadata": {},
   "outputs": [],
   "source": [
    "// Deine Lösung hier\n"
   ]
  },
  {
   "cell_type": "markdown",
   "metadata": {},
   "source": [
    "4. **Bedingter Ausdruck (Ternary Operator)**: JavaScript unterstützt auch eine Kurzschreibweise für einfache if-else-Anweisungen:\n",
    "\n",
    "```javascript\n",
    "ergebnis = bedingung ? wert_wenn_wahr : wert_wenn_falsch\n",
    "```"
   ]
  },
  {
   "cell_type": "code",
   "execution_count": null,
   "metadata": {},
   "outputs": [],
   "source": [
    "const age = 20;\n",
    "const status = age >= 18 ? \"volljährig\" : \"minderjährig\";\n",
    "console.log(status);  // \"volljährig\"\n",
    "\n",
    "// Verschachtelte ternary operators (nicht empfohlen)\n",
    "const score = 85;\n",
    "const grade = score >= 90 ? \"A\" : score >= 80 ? \"B\" : score >= 70 ? \"C\" : \"F\";\n",
    "console.log(`Note: ${grade}`);\n",
    "\n",
    "// Besser lesbar mit if-else if\n",
    "let betterGrade;\n",
    "if (score >= 90) {\n",
    "    betterGrade = \"A\";\n",
    "} else if (score >= 80) {\n",
    "    betterGrade = \"B\";\n",
    "} else if (score >= 70) {\n",
    "    betterGrade = \"C\";\n",
    "} else {\n",
    "    betterGrade = \"F\";\n",
    "}\n",
    "console.log(`Bessere Note: ${betterGrade}`);"
   ]
  },
  {
   "cell_type": "markdown",
   "metadata": {},
   "source": [
    "**Übung 4.4**: Schreibe ein Programm, das eine Punktzahl (0-100) einliest und mit Hilfe des Ternary Operators ausgibt, ob der Test bestanden (>= 60 Punkte) oder nicht bestanden wurde. Verwende nur eine Zeile Code für diese Logik."
   ]
  },
  {
   "cell_type": "code",
   "execution_count": null,
   "metadata": {},
   "outputs": [],
   "source": [
    "// Deine Lösung hier\n"
   ]
  },
  {
   "cell_type": "markdown",
   "metadata": {},
   "source": [
    "#### 📝 Beispiele für if-else-Anweisungen\n",
    "\n",
    "**Beispiel 1: Notenberechnung**"
   ]
  },
  {
   "cell_type": "code",
   "execution_count": null,
   "metadata": {},
   "outputs": [],
   "source": [
    "const points = parseInt(prompt(\"Gib die erreichten Punkte ein (0-100):\"));\n",
    "let grade;\n",
    "\n",
    "if (points >= 90) {\n",
    "    grade = \"sehr gut\";\n",
    "} else {\n",
    "    if (points >= 80) {\n",
    "        grade = \"gut\";\n",
    "    } else {\n",
    "        if (points >= 70) {\n",
    "            grade = \"befriedigend\";\n",
    "        } else {\n",
    "            if (points >= 60) {\n",
    "                grade = \"ausreichend\";\n",
    "            } else {\n",
    "                if (points >= 50) {\n",
    "                    grade = \"mangelhaft\";\n",
    "                } else {\n",
    "                    grade = \"ungenügend\";\n",
    "                }\n",
    "            }\n",
    "        }\n",
    "    }\n",
    "}\n",
    "\n",
    "console.log(`Note: ${grade}`);"
   ]
  },
  {
   "cell_type": "markdown",
   "metadata": {},
   "source": [
    "**Beispiel 2: Rabattberechnung**"
   ]
  },
  {
   "cell_type": "code",
   "execution_count": null,
   "metadata": {},
   "outputs": [],
   "source": [
    "const amount = parseFloat(prompt(\"Gib den Einkaufsbetrag ein:\"));\n",
    "let discount;\n",
    "\n",
    "if (amount > 100) {\n",
    "    discount = 0.1;  // 10% Rabatt\n",
    "} else {\n",
    "    discount = 0.05;  // 5% Rabatt\n",
    "}\n",
    "\n",
    "const discountAmount = amount * discount;\n",
    "const toPay = amount - discountAmount;\n",
    "\n",
    "console.log(`Einkaufsbetrag: ${amount.toFixed(2)} €`);\n",
    "console.log(`Rabatt (${(discount * 100).toFixed(0)}%): ${discountAmount.toFixed(2)} €`);\n",
    "console.log(`Zu zahlen: ${toPay.toFixed(2)} €`);"
   ]
  },
  {
   "cell_type": "markdown",
   "metadata": {},
   "source": [
    "### Verschachtelte Bedingungen\n",
    "\n",
    "Verschachtelte Bedingungen sind bedingte Anweisungen innerhalb anderer bedingter Anweisungen. Sie ermöglichen es, komplexere Entscheidungsstrukturen zu erstellen.\n",
    "\n",
    "#### 📝 Syntax für verschachtelte Bedingungen\n",
    "\n",
    "```javascript\n",
    "if (äußere_bedingung) {\n",
    "    // Code für äußere Bedingung\n",
    "    if (innere_bedingung) {\n",
    "        // Code für innere Bedingung\n",
    "    } else {\n",
    "        // Code, wenn innere Bedingung nicht erfüllt ist\n",
    "    }\n",
    "} else {\n",
    "    // Code, wenn äußere Bedingung nicht erfüllt ist\n",
    "}\n",
    "```\n",
    "\n",
    "#### 📝 Beispiele für verschachtelte Bedingungen\n",
    "\n",
    "**Beispiel 1: Zahlenklassifikation**"
   ]
  },
  {
   "cell_type": "code",
   "execution_count": null,
   "metadata": {},
   "outputs": [],
   "source": [
    "const number = parseInt(prompt(\"Gib eine ganze Zahl ein:\"));\n",
    "\n",
    "if (number > 0) {\n",
    "    console.log(\"Die Zahl ist positiv.\");\n",
    "    if (number % 2 === 0) {\n",
    "        console.log(\"Die Zahl ist gerade.\");\n",
    "    } else {\n",
    "        console.log(\"Die Zahl ist ungerade.\");\n",
    "    }\n",
    "} else {\n",
    "    if (number < 0) {\n",
    "        console.log(\"Die Zahl ist negativ.\");\n",
    "        if (number % 2 === 0) {\n",
    "            console.log(\"Die Zahl ist gerade.\");\n",
    "        } else {\n",
    "            console.log(\"Die Zahl ist ungerade.\");\n",
    "        }\n",
    "    } else {\n",
    "        console.log(\"Die Zahl ist Null.\");\n",
    "    }\n",
    "}"
   ]
  },
  {
   "cell_type": "markdown",
   "metadata": {},
   "source": [
    "**Beispiel 2: Benutzerauthentifizierung**"
   ]
  },
  {
   "cell_type": "code",
   "execution_count": null,
   "metadata": {},
   "outputs": [],
   "source": [
    "const username = prompt(\"Benutzername:\");\n",
    "const password = prompt(\"Passwort:\");\n",
    "\n",
    "if (username === \"admin\") {\n",
    "    if (password === \"12345\") {\n",
    "        console.log(\"Administratorzugriff gewährt.\");\n",
    "    } else {\n",
    "        console.log(\"Falsches Passwort für Administrator.\");\n",
    "    }\n",
    "} else {\n",
    "    if (username === \"gast\") {\n",
    "        if (password === \"gast\") {\n",
    "            console.log(\"Gastzugriff gewährt.\");\n",
    "        } else {\n",
    "            console.log(\"Falsches Passwort für Gast.\");\n",
    "        }\n",
    "    } else {\n",
    "        console.log(\"Unbekannter Benutzer.\");\n",
    "    }\n",
    "}"
   ]
  },
  {
   "cell_type": "markdown",
   "metadata": {},
   "source": [
    "#### 📝 Tipps zur Verwendung verschachtelter Bedingungen\n",
    "\n",
    "1. **Lesbarkeit**: Verschachtelte Bedingungen können schnell komplex und schwer zu lesen werden. Verwenden Sie sie mit Bedacht.\n",
    "2. **Einrückung**: Achten Sie besonders auf die korrekte Einrückung bei verschachtelten Bedingungen.\n",
    "3. **Alternativen**: Oft können verschachtelte Bedingungen durch die Verwendung von logischen Operatoren oder else if-Anweisungen vereinfacht werden.\n",
    "\n",
    "Beispiel für Vereinfachung einer verschachtelten Bedingung:"
   ]
  },
  {
   "cell_type": "code",
   "execution_count": null,
   "metadata": {},
   "outputs": [],
   "source": [
    "const age = 20;\n",
    "const hasLicense = true;\n",
    "\n",
    "// Verschachtelte Bedingung\n",
    "if (age >= 18) {\n",
    "    if (hasLicense) {\n",
    "        console.log(\"Du darfst Auto fahren.\");\n",
    "    } else {\n",
    "        console.log(\"Du brauchst einen Führerschein.\");\n",
    "    }\n",
    "} else {\n",
    "    console.log(\"Du bist zu jung zum Autofahren.\");\n",
    "}\n",
    "\n",
    "// Vereinfacht mit logischem Operator\n",
    "if (age >= 18 && hasLicense) {\n",
    "    console.log(\"Du darfst Auto fahren.\");\n",
    "} else if (age >= 18) {\n",
    "    console.log(\"Du brauchst einen Führerschein.\");\n",
    "} else {\n",
    "    console.log(\"Du bist zu jung zum Autofahren.\");\n",
    "}"
   ]
  },
  {
   "cell_type": "markdown",
   "metadata": {},
   "source": [
    "**Übung 5.1**: Erstelle ein Programm, das den Benutzer nach seiner Punktzahl in einem Test (0-100) fragt. Das Programm soll dann:\n",
    "- Bei Punkten von 90-100: \"Sehr gut\" ausgeben\n",
    "- Bei Punkten von 80-89: \"Gut\" ausgeben\n",
    "- Bei Punkten von 70-79: \"Befriedigend\" ausgeben\n",
    "- Bei Punkten von 60-69: \"Ausreichend\" ausgeben\n",
    "- Bei Punkten von 0-59: \"Nicht bestanden\" ausgeben\n",
    "\n",
    "Zusätzlich soll für bestandene Tests (ab 60 Punkten) ausgegeben werden, wie viele Punkte über der Bestehensgrenze erreicht wurden."
   ]
  },
  {
   "cell_type": "code",
   "execution_count": null,
   "metadata": {},
   "outputs": [],
   "source": [
    "// Deine Lösung hier\n"
   ]
  },
  {
   "cell_type": "markdown",
   "metadata": {},
   "source": [
    "**Übung 5.2**: Schreibe ein Programm zur Berechnung des Ticketpreises für ein Kino mit folgenden Regeln:\n",
    "- Grundpreis: 10 €\n",
    "- Ermäßigungen:\n",
    "  - Kinder unter 12 Jahren: 50% Rabatt\n",
    "  - Senioren ab 65 Jahren: 30% Rabatt\n",
    "  - Schüler und Studenten: 20% Rabatt (benötigt Nachweis)\n",
    "- Zuschläge:\n",
    "  - 3D-Film: +3 €\n",
    "  - Premium-Sitzplatz: +5 €\n",
    "\n",
    "Frage den Benutzer nach Alter, ob Schüler/Student (j/n), ob 3D-Film (j/n) und ob Premium-Sitzplatz (j/n) und berechne den Ticketpreis. Verwende verschachtelte Bedingungen für die Ermittlung der Ermäßigung."
   ]
  },
  {
   "cell_type": "code",
   "execution_count": null,
   "metadata": {},
   "outputs": [],
   "source": [
    "// Deine Lösung hier\n"
   ]
  },
  {
   "cell_type": "markdown",
   "metadata": {},
   "source": [
    "## Mehrfachverzweigungen\n",
    "\n",
    "### if-else if-else Ketten\n",
    "\n",
    "Die `if-else if-else`-Struktur ermöglicht es, mehrere Bedingungen nacheinander zu prüfen und den Code für die erste erfüllte Bedingung auszuführen.\n",
    "\n",
    "#### 📝 Syntax für if-else if-else Ketten\n",
    "\n",
    "```javascript\n",
    "if (bedingung1) {\n",
    "    // Code, wenn bedingung1 true ist\n",
    "} else if (bedingung2) {\n",
    "    // Code, wenn bedingung1 false und bedingung2 true ist\n",
    "} else if (bedingung3) {\n",
    "    // Code, wenn bedingung1 und bedingung2 false und bedingung3 true ist\n",
    "} else {\n",
    "    // Code, wenn keine der Bedingungen true ist\n",
    "}\n",
    "```\n",
    "\n",
    "Die `else if`- und `else`-Klauseln sind optional. Es kann beliebig viele `else if`-Klauseln geben.\n",
    "\n",
    "#### 📝 Beispiele für if-else if-else Ketten\n",
    "\n",
    "**Beispiel 1: Verbesserte Notenberechnung**"
   ]
  },
  {
   "cell_type": "code",
   "execution_count": null,
   "metadata": {},
   "outputs": [],
   "source": [
    "const points = parseInt(prompt(\"Gib die erreichten Punkte ein (0-100):\"));\n",
    "let grade;\n",
    "\n",
    "if (points >= 90) {\n",
    "    grade = \"sehr gut\";\n",
    "} else if (points >= 80) {\n",
    "    grade = \"gut\";\n",
    "} else if (points >= 70) {\n",
    "    grade = \"befriedigend\";\n",
    "} else if (points >= 60) {\n",
    "    grade = \"ausreichend\";\n",
    "} else if (points >= 50) {\n",
    "    grade = \"mangelhaft\";\n",
    "} else {\n",
    "    grade = \"ungenügend\";\n",
    "}\n",
    "\n",
    "console.log(`Note: ${grade}`);"
   ]
  },
  {
   "cell_type": "markdown",
   "metadata": {},
   "source": [
    "**Übung 6.1**: Programmiere einen einfachen Taschenrechner, der zwei Zahlen und eine Operation ('+', '-', '*', '/') vom Benutzer entgegennimmt und das Ergebnis ausgibt. Verwende eine if-else if-else Kette für die verschiedenen Operationen und behandle die Division durch Null als Sonderfall."
   ]
  },
  {
   "cell_type": "code",
   "execution_count": null,
   "metadata": {},
   "outputs": [],
   "source": [
    "// Deine Lösung hier\n"
   ]
  },
  {
   "cell_type": "markdown",
   "metadata": {},
   "source": [
    "**Beispiel 2: Wochentage**"
   ]
  },
  {
   "cell_type": "code",
   "execution_count": null,
   "metadata": {},
   "outputs": [],
   "source": [
    "const dayNumber = parseInt(prompt(\"Gib eine Zahl zwischen 1 und 7 ein:\"));\n",
    "let day;\n",
    "\n",
    "if (dayNumber === 1) {\n",
    "    day = \"Montag\";\n",
    "} else if (dayNumber === 2) {\n",
    "    day = \"Dienstag\";\n",
    "} else if (dayNumber === 3) {\n",
    "    day = \"Mittwoch\";\n",
    "} else if (dayNumber === 4) {\n",
    "    day = \"Donnerstag\";\n",
    "} else if (dayNumber === 5) {\n",
    "    day = \"Freitag\";\n",
    "} else if (dayNumber === 6) {\n",
    "    day = \"Samstag\";\n",
    "} else if (dayNumber === 7) {\n",
    "    day = \"Sonntag\";\n",
    "} else {\n",
    "    day = \"Ungültige Eingabe\";\n",
    "}\n",
    "\n",
    "console.log(`Tag: ${day}`);"
   ]
  },
  {
   "cell_type": "markdown",
   "metadata": {},
   "source": [
    "**Übung 6.2**: Schreibe ein Programm, das einen Monatsnamen einliest und die Anzahl der Tage in diesem Monat ausgibt (ignoriere Schaltjahre für Februar). Verwende eine if-else if-else Kette."
   ]
  },
  {
   "cell_type": "code",
   "execution_count": null,
   "metadata": {},
   "outputs": [],
   "source": [
    "// Deine Lösung hier\n"
   ]
  },
  {
   "cell_type": "markdown",
   "metadata": {},
   "source": [
    "#### 📝 Wichtige Hinweise zu if-else if-else Ketten\n",
    "\n",
    "1. **Reihenfolge**: Die Bedingungen werden in der angegebenen Reihenfolge geprüft. Sobald eine Bedingung true ist, wird der entsprechende Codeblock ausgeführt und die restlichen Bedingungen werden nicht mehr geprüft.\n",
    "2. **Effizienz**: Bei vielen Bedingungen kann es effizienter sein, Datenstrukturen wie Objekte oder Maps zu verwenden, anstatt lange if-else if-else Ketten."
   ]
  },
  {
   "cell_type": "code",
   "execution_count": null,
   "metadata": {},
   "outputs": [],
   "source": [
    "// Mit if-else if-else\n",
    "const dayNumber = parseInt(prompt(\"Gib eine Zahl zwischen 1 und 7 ein:\"));\n",
    "let day;\n",
    "if (dayNumber === 1) {\n",
    "    day = \"Montag\";\n",
    "} else if (dayNumber === 2) {\n",
    "    day = \"Dienstag\";\n",
    "}\n",
    "// ... weitere else if-Anweisungen ...\n",
    "\n",
    "// Mit Objekt (effizienter)\n",
    "const dayNumber2 = parseInt(prompt(\"Gib eine Zahl zwischen 1 und 7 ein:\"));\n",
    "const weekdays = {\n",
    "    1: \"Montag\",\n",
    "    2: \"Dienstag\",\n",
    "    3: \"Mittwoch\",\n",
    "    4: \"Donnerstag\",\n",
    "    5: \"Freitag\",\n",
    "    6: \"Samstag\",\n",
    "    7: \"Sonntag\"\n",
    "};\n",
    "const day2 = weekdays[dayNumber2] || \"Ungültige Eingabe\";\n",
    "console.log(`Tag: ${day2}`);\n",
    "\n",
    "// Mit Array (noch effizienter für aufeinanderfolgende Indizes)\n",
    "const weekdaysArray = [\"Montag\", \"Dienstag\", \"Mittwoch\", \"Donnerstag\", \"Freitag\", \"Samstag\", \"Sonntag\"];\n",
    "const day3 = weekdaysArray[dayNumber2 - 1] || \"Ungültige Eingabe\";\n",
    "console.log(`Tag (Array): ${day3}`);"
   ]
  },
  {
   "cell_type": "markdown",
   "metadata": {},
   "source": [
    "3. **Überlappende Bedingungen**: Bei überlappenden Bedingungen wird nur der Codeblock der ersten erfüllten Bedingung ausgeführt."
   ]
  },
  {
   "cell_type": "code",
   "execution_count": null,
   "metadata": {},
   "outputs": [],
   "source": [
    "const number = 15;\n",
    "\n",
    "if (number > 0) {\n",
    "    console.log(\"Positiv\");  // Wird ausgegeben\n",
    "} else if (number > 10) {\n",
    "    console.log(\"Größer als 10\");  // Wird nicht ausgegeben, obwohl die Bedingung true ist\n",
    "}"
   ]
  },
  {
   "cell_type": "markdown",
   "metadata": {},
   "source": [
    "**Übung 6.3**: Implementiere die vorherige Aufgabe zur Bestimmung der Tage im Monat noch einmal, aber verwende diesmal ein Objekt anstelle einer if-else if-else Kette. Vergleiche die beiden Lösungen - welche ist lesbarer?"
   ]
  },
  {
   "cell_type": "code",
   "execution_count": null,
   "metadata": {},
   "outputs": [],
   "source": [
    "// Deine Lösung hier\n"
   ]
  },
  {
   "cell_type": "markdown",
   "metadata": {},
   "source": [
    "### Switch-Case Anweisungen\n",
    "\n",
    "Die `switch`-Anweisung ist eine Alternative zu if-else if-else Ketten, besonders wenn eine Variable gegen mehrere Werte geprüft wird.\n",
    "\n",
    "#### 📝 Syntax der switch-Anweisung\n",
    "\n",
    "```javascript\n",
    "switch (ausdruck) {\n",
    "    case wert1:\n",
    "        // Code für wert1\n",
    "        break;\n",
    "    case wert2:\n",
    "        // Code für wert2\n",
    "        break;\n",
    "    case wert3:\n",
    "    case wert4:\n",
    "        // Code für wert3 oder wert4\n",
    "        break;\n",
    "    default:\n",
    "        // Code, wenn kein case zutrifft\n",
    "        break;\n",
    "}\n",
    "```"
   ]
  },
  {
   "cell_type": "code",
   "execution_count": null,
   "metadata": {},
   "outputs": [],
   "source": [
    "const dayNumber = parseInt(prompt(\"Gib eine Zahl zwischen 1 und 7 ein:\"));\n",
    "let day;\n",
    "\n",
    "switch (dayNumber) {\n",
    "    case 1:\n",
    "        day = \"Montag\";\n",
    "        break;\n",
    "    case 2:\n",
    "        day = \"Dienstag\";\n",
    "        break;\n",
    "    case 3:\n",
    "        day = \"Mittwoch\";\n",
    "        break;\n",
    "    case 4:\n",
    "        day = \"Donnerstag\";\n",
    "        break;\n",
    "    case 5:\n",
    "        day = \"Freitag\";\n",
    "        break;\n",
    "    case 6:\n",
    "    case 7:\n",
    "        day = dayNumber === 6 ? \"Samstag\" : \"Sonntag\";\n",
    "        break;\n",
    "    default:\n",
    "        day = \"Ungültige Eingabe\";\n",
    "        break;\n",
    "}\n",
    "\n",
    "console.log(`Tag: ${day}`);"
   ]
  },
  {
   "cell_type": "markdown",
   "metadata": {},
   "source": [
    "#### 📝 Wichtige Punkte zu switch-case\n",
    "\n",
    "1. **break-Anweisungen**: Ohne `break` wird die Ausführung mit dem nächsten `case` fortgesetzt (\"fall-through\").\n",
    "2. **Strikte Gleichheit**: Switch verwendet strikte Gleichheit (`===`) für Vergleiche.\n",
    "3. **default-Fall**: Optional, wird ausgeführt wenn kein `case` zutrifft."
   ]
  },
  {
   "cell_type": "code",
   "execution_count": null,
   "metadata": {},
   "outputs": [],
   "source": [
    "// Beispiel für fall-through Verhalten\n",
    "const grade = 'B';\n",
    "\n",
    "switch (grade) {\n",
    "    case 'A':\n",
    "        console.log(\"Exzellent!\");\n",
    "        break;\n",
    "    case 'B':\n",
    "        console.log(\"Gut!\");\n",
    "        // Kein break - fällt durch zum nächsten case\n",
    "    case 'C':\n",
    "        console.log(\"Bestanden.\");\n",
    "        break;\n",
    "    case 'D':\n",
    "    case 'F':\n",
    "        console.log(\"Nicht bestanden.\");\n",
    "        break;\n",
    "    default:\n",
    "        console.log(\"Ungültige Note.\");\n",
    "}\n",
    "// Ausgabe: \"Gut!\" und \"Bestanden.\""
   ]
  },
  {
   "cell_type": "markdown",
   "metadata": {},
   "source": [
    "#### 📝 Switch vs. if-else if-else\n",
    "\n",
    "**Vorteile von switch:**\n",
    "- Übersichtlicher bei vielen exakten Wertvergleichen\n",
    "- Kann effizienter sein bei vielen cases\n",
    "- Fall-through Verhalten kann nützlich sein\n",
    "\n",
    "**Nachteile von switch:**\n",
    "- Nur exakte Wertvergleiche möglich\n",
    "- Keine Bereichsprüfungen\n",
    "- break-Anweisungen können vergessen werden"
   ]
  },
  {
   "cell_type": "code",
   "execution_count": null,
   "metadata": {},
   "outputs": [],
   "source": [
    "// Switch ist gut für exakte Werte\n",
    "const operation = prompt(\"Operation (+, -, *, /):\");\n",
    "const a = 10, b = 5;\n",
    "let result;\n",
    "\n",
    "switch (operation) {\n",
    "    case '+':\n",
    "        result = a + b;\n",
    "        break;\n",
    "    case '-':\n",
    "        result = a - b;\n",
    "        break;\n",
    "    case '*':\n",
    "        result = a * b;\n",
    "        break;\n",
    "    case '/':\n",
    "        result = b !== 0 ? a / b : 'Division durch Null';\n",
    "        break;\n",
    "    default:\n",
    "        result = 'Ungültige Operation';\n",
    "}\n",
    "\n",
    "console.log(`Ergebnis: ${result}`);\n",
    "\n",
    "// if-else if ist besser für Bereiche\n",
    "const score = 85;\n",
    "let letterGrade;\n",
    "\n",
    "if (score >= 90) {\n",
    "    letterGrade = 'A';\n",
    "} else if (score >= 80) {\n",
    "    letterGrade = 'B';\n",
    "} else if (score >= 70) {\n",
    "    letterGrade = 'C';\n",
    "} else {\n",
    "    letterGrade = 'F';\n",
    "}\n",
    "\n",
    "console.log(`Note: ${letterGrade}`);"
   ]
  },
  {
   "cell_type": "markdown",
   "metadata": {},
   "source": [
    "### Logische Operatoren in Bedingungen\n",
    "\n",
    "Logische Operatoren ermöglichen es, mehrere Bedingungen zu kombinieren und komplexere Ausdrücke zu erstellen.\n",
    "\n",
    "#### 📝 Die drei logischen Operatoren\n",
    "\n",
    "1. **&&** (AND): Wahr, wenn beide Operanden wahr sind\n",
    "2. **||** (OR): Wahr, wenn mindestens ein Operand wahr ist  \n",
    "3. **!** (NOT): Kehrt den Wahrheitswert des Operanden um\n",
    "\n",
    "#### 📝 Wahrheitstabellen\n",
    "\n",
    "**&&-Operator**:\n",
    "\n",
    "| A | B | A && B |\n",
    "| --- | --- | --- |\n",
    "| true | true | true |\n",
    "| true | false | false |\n",
    "| false | true | false |\n",
    "| false | false | false |\n",
    "\n",
    "**||-Operator**:\n",
    "\n",
    "| A | B | A \\|\\| B |\n",
    "| --- | --- | --- |\n",
    "| true | true | true |\n",
    "| true | false | true |\n",
    "| false | true | true |\n",
    "| false | false | false |\n",
    "\n",
    "**!-Operator**:\n",
    "\n",
    "| A | !A |\n",
    "| --- | --- |\n",
    "| true | false |\n",
    "| false | true |\n",
    "\n",
    "#### 📝 Beispiele für logische Operatoren in Bedingungen\n",
    "\n",
    "**Beispiel 1: Altersüberprüfung**"
   ]
  },
  {
   "cell_type": "code",
   "execution_count": null,
   "metadata": {},
   "outputs": [],
   "source": [
    "const age = parseInt(prompt(\"Wie alt bist du?\"));\n",
    "const withParents = confirm(\"Bist du mit deinen Eltern hier?\");\n",
    "\n",
    "if (age >= 18 || (age >= 12 && withParents)) {\n",
    "    console.log(\"Du darfst den Film sehen.\");\n",
    "} else {\n",
    "    console.log(\"Du darfst den Film nicht sehen.\");\n",
    "}"
   ]
  },
  {
   "cell_type": "markdown",
   "metadata": {},
   "source": [
    "**Beispiel 2: Passwortvalidierung**"
   ]
  },
  {
   "cell_type": "code",
   "execution_count": null,
   "metadata": {},
   "outputs": [],
   "source": [
    "const password = prompt(\"Gib ein Passwort ein:\");\n",
    "\n",
    "const hasLength = password.length >= 8;\n",
    "const hasUpper = /[A-Z]/.test(password);\n",
    "const hasLower = /[a-z]/.test(password);\n",
    "const hasDigit = /[0-9]/.test(password);\n",
    "\n",
    "if (hasLength && hasUpper && hasLower && hasDigit) {\n",
    "    console.log(\"Das Passwort ist stark.\");\n",
    "} else {\n",
    "    console.log(\"Das Passwort ist zu schwach.\");\n",
    "    \n",
    "    if (!hasLength) console.log(\"- Mindestens 8 Zeichen erforderlich\");\n",
    "    if (!hasUpper) console.log(\"- Mindestens ein Großbuchstabe erforderlich\");\n",
    "    if (!hasLower) console.log(\"- Mindestens ein Kleinbuchstabe erforderlich\");\n",
    "    if (!hasDigit) console.log(\"- Mindestens eine Ziffer erforderlich\");\n",
    "}"
   ]
  },
  {
   "cell_type": "markdown",
   "metadata": {},
   "source": [
    "**Beispiel 3: Zahlenbereichsprüfung**"
   ]
  },
  {
   "cell_type": "code",
   "execution_count": null,
   "metadata": {},
   "outputs": [],
   "source": [
    "const number = parseInt(prompt(\"Gib eine Zahl ein:\"));\n",
    "\n",
    "// Nicht im Bereich 0-100\n",
    "if (!(number >= 0 && number <= 100)) {\n",
    "    console.log(\"Die Zahl liegt außerhalb des Bereichs 0-100.\");\n",
    "} else {\n",
    "    console.log(\"Die Zahl liegt im Bereich 0-100.\");\n",
    "}\n",
    "\n",
    "// Äquivalent mit De Morgan'schen Gesetzen\n",
    "if (number < 0 || number > 100) {\n",
    "    console.log(\"Die Zahl liegt außerhalb des Bereichs 0-100.\");\n",
    "} else {\n",
    "    console.log(\"Die Zahl liegt im Bereich 0-100.\");\n",
    "}"
   ]
  },
  {
   "cell_type": "markdown",
   "metadata": {},
   "source": [
    "**Übung 7.1**: Schreibe ein Programm, das prüft, ob eine eingegebene Zahl:\n",
    "- Durch 2 UND 3 teilbar ist, oder\n",
    "- Durch 5 ODER 7 teilbar ist\n",
    "\n",
    "Gib für jede dieser Bedingungen eine entsprechende Meldung aus, oder falls keine der Bedingungen zutrifft, dass die Zahl keine der speziellen Eigenschaften hat."
   ]
  },
  {
   "cell_type": "code",
   "execution_count": null,
   "metadata": {},
   "outputs": [],
   "source": [
    "// Deine Lösung hier\n"
   ]
  },
  {
   "cell_type": "markdown",
   "metadata": {},
   "source": [
    "#### 📝 Kurzschlussauswertung (Short-circuit Evaluation)\n",
    "\n",
    "JavaScript verwendet Kurzschlussauswertung für logische Operatoren:\n",
    "\n",
    "- Bei `&&`: Wenn der erste Operand `false` ist, wird der zweite Operand nicht ausgewertet\n",
    "- Bei `||`: Wenn der erste Operand `true` ist, wird der zweite Operand nicht ausgewertet"
   ]
  },
  {
   "cell_type": "code",
   "execution_count": null,
   "metadata": {},
   "outputs": [],
   "source": [
    "// Beispiel für &&-Kurzschluss\n",
    "const x = 5;\n",
    "if (x > 10 && someUndefinedFunction()) {  // someUndefinedFunction wird nicht aufgerufen\n",
    "    console.log(\"Bedingung erfüllt\");\n",
    "}\n",
    "\n",
    "// Beispiel für ||-Kurzschluss\n",
    "const y = 15;\n",
    "if (y > 10 || someUndefinedFunction()) {  // someUndefinedFunction wird nicht aufgerufen\n",
    "    console.log(\"Bedingung erfüllt\");\n",
    "}\n",
    "\n",
    "// Praktische Anwendung: Null-Check\n",
    "const user = { name: \"Alice\" };\n",
    "if (user && user.name) {\n",
    "    console.log(`Willkommen, ${user.name}!`);\n",
    "}\n",
    "\n",
    "// Default-Werte mit ||\n",
    "const userName = prompt(\"Name:\") || \"Gast\";\n",
    "console.log(`Hallo, ${userName}!`);"
   ]
  },
  {
   "cell_type": "markdown",
   "metadata": {},
   "source": [
    "**Übung 7.2**: Schreibe ein Programm, das den Benutzer nach einem Benutzernamen und einem Passwort fragt. Das Programm soll:\n",
    "- Prüfen, ob der Benutzername \"admin\" ist und wenn ja, dann prüfen, ob das Passwort \"geheim\" ist\n",
    "- Wenn beides zutrifft, eine Willkommensnachricht ausgeben\n",
    "- Wenn der Benutzername falsch ist, eine Meldung \"Unbekannter Benutzer\" ausgeben\n",
    "- Wenn nur das Passwort falsch ist, eine Meldung \"Falsches Passwort\" ausgeben\n",
    "\n",
    "Nutze die Kurzschlussauswertung von logischen Operatoren, um unnötige Prüfungen zu vermeiden."
   ]
  },
  {
   "cell_type": "code",
   "execution_count": null,
   "metadata": {},
   "outputs": [],
   "source": [
    "// Deine Lösung hier\n"
   ]
  },
  {
   "cell_type": "markdown",
   "metadata": {},
   "source": [
    "#### 📝 Priorität der logischen Operatoren\n",
    "\n",
    "Die Reihenfolge der Auswertung ist: `!` (höchste Priorität), dann `&&`, dann `||` (niedrigste Priorität)."
   ]
  },
  {
   "cell_type": "code",
   "execution_count": null,
   "metadata": {},
   "outputs": [],
   "source": [
    "const a = true, b = false, c = true, d = false;\n",
    "\n",
    "// Ohne Klammern\n",
    "if (a || b && c || d) {\n",
    "    // Wird interpretiert als: a || (b && c) || d\n",
    "    console.log(\"Bedingung 1 erfüllt\");\n",
    "}\n",
    "\n",
    "// Mit Klammern zur Verdeutlichung\n",
    "if (a || (b && c) || d) {\n",
    "    console.log(\"Bedingung 2 erfüllt\");\n",
    "}\n",
    "\n",
    "// Andere Gruppierung\n",
    "if ((a || b) && (c || d)) {\n",
    "    console.log(\"Bedingung 3 erfüllt\");\n",
    "}\n",
    "\n",
    "// NOT hat höchste Priorität\n",
    "const result1 = !a && b;  // (!a) && b\n",
    "const result2 = !(a && b); // Explizite Klammern nötig für andere Bedeutung\n",
    "\n",
    "console.log(`!a && b = ${result1}`);\n",
    "console.log(`!(a && b) = ${result2}`);"
   ]
  },
  {
   "cell_type": "markdown",
   "metadata": {},
   "source": [
    "**Übung 7.3**: Schreibe ein Programm, das drei Zahlen a, b und c vom Benutzer einliest und dann folgende Bedingung prüft:\n",
    "\"a ist größer als b ODER a ist größer als c UND c ist größer als b\"\n",
    "\n",
    "Setze Klammern, um die Auswertungsreihenfolge explizit zu machen, und gib aus, ob die Bedingung erfüllt ist oder nicht."
   ]
  },
  {
   "cell_type": "code",
   "execution_count": null,
   "metadata": {},
   "outputs": [],
   "source": [
    "// Deine Lösung hier\n"
   ]
  },
  {
   "cell_type": "markdown",
   "metadata": {},
   "source": [
    "## Fehlerbehebung in bedingten Anweisungen\n",
    "\n",
    "### Häufige Fehler und deren Behebung\n",
    "\n",
    "1. **Falscher Vergleichsoperator**"
   ]
  },
  {
   "cell_type": "code",
   "execution_count": null,
   "metadata": {},
   "outputs": [],
   "source": [
    "// Fehler\n",
    "let age = 18;\n",
    "if (age = 18) {  // Zuweisung statt Vergleich\n",
    "    console.log(\"Du bist 18 Jahre alt.\");\n",
    "}\n",
    "\n",
    "// Korrektur\n",
    "if (age === 18) {  // Korrekter Vergleichsoperator\n",
    "    console.log(\"Du bist 18 Jahre alt.\");\n",
    "}"
   ]
  },
  {
   "cell_type": "markdown",
   "metadata": {},
   "source": [
    "**Übung 8.1**: Der folgende Code enthält einen häufigen Fehler. Finde und korrigiere ihn:\n",
    "\n",
    "```javascript\n",
    "const points = parseInt(prompt(\"Wie viele Punkte hast du erreicht?\"));\n",
    "if (points = 100) {\n",
    "    console.log(\"Perfekte Punktzahl!\");\n",
    "} else {\n",
    "    console.log(\"Weiter üben!\");\n",
    "}\n",
    "```"
   ]
  },
  {
   "cell_type": "code",
   "execution_count": null,
   "metadata": {},
   "outputs": [],
   "source": [
    "// Deine Lösung hier\n"
   ]
  },
  {
   "cell_type": "markdown",
   "metadata": {},
   "source": [
    "2. **Fehlende geschweifte Klammern bei mehrzeiligen Blöcken**"
   ]
  },
  {
   "cell_type": "code",
   "execution_count": null,
   "metadata": {},
   "outputs": [],
   "source": [
    "// Fehler\n",
    "if (age >= 18)\n",
    "    console.log(\"Du bist volljährig.\");\n",
    "    console.log(\"Du darfst wählen.\");  // Wird immer ausgeführt!\n",
    "\n",
    "// Korrektur\n",
    "if (age >= 18) {\n",
    "    console.log(\"Du bist volljährig.\");\n",
    "    console.log(\"Du darfst wählen.\");\n",
    "}"
   ]
  },
  {
   "cell_type": "markdown",
   "metadata": {},
   "source": [
    "**Übung 8.2**: Dieser Code hat Probleme mit den geschweiften Klammern. Korrigiere ihn:\n",
    "\n",
    "```javascript\n",
    "const number = parseInt(prompt(\"Gib eine Zahl ein:\"));\n",
    "if (number > 0)\n",
    "    console.log(\"Die Zahl ist positiv\");\n",
    "    if (number % 2 === 0)\n",
    "        console.log(\"Die Zahl ist gerade\");\n",
    "    else\n",
    "        console.log(\"Die Zahl ist ungerade\");\n",
    "```"
   ]
  },
  {
   "cell_type": "code",
   "execution_count": null,
   "metadata": {},
   "outputs": [],
   "source": [
    "// Deine Lösung hier\n"
   ]
  },
  {
   "cell_type": "markdown",
   "metadata": {},
   "source": [
    "3. **Vergessen der Klammern bei Bedingungen**"
   ]
  },
  {
   "cell_type": "code",
   "execution_count": null,
   "metadata": {},
   "outputs": [],
   "source": [
    "// Fehler\n",
    "// if age >= 18 {  // Syntaxfehler\n",
    "//     console.log(\"Du bist volljährig.\");\n",
    "// }\n",
    "\n",
    "// Korrektur\n",
    "if (age >= 18) {\n",
    "    console.log(\"Du bist volljährig.\");\n",
    "}"
   ]
  },
  {
   "cell_type": "markdown",
   "metadata": {},
   "source": [
    "**Übung 8.3**: Dieser Code enthält einen syntaktischen Fehler. Finde und korrigiere ihn:\n",
    "\n",
    "```javascript\n",
    "const weather = prompt(\"Wie ist das Wetter? (sonnig/regnerisch/bewölkt):\");\n",
    "if weather === \"sonnig\" {\n",
    "    console.log(\"Vergiss die Sonnenbrille nicht!\");\n",
    "} else if weather === \"regnerisch\" {\n",
    "    console.log(\"Nimm einen Regenschirm mit!\");\n",
    "} else {\n",
    "    console.log(\"Ein normaler Tag!\");\n",
    "}\n",
    "```"
   ]
  },
  {
   "cell_type": "code",
   "execution_count": null,
   "metadata": {},
   "outputs": [],
   "source": [
    "// Deine Lösung hier\n"
   ]
  },
  {
   "cell_type": "markdown",
   "metadata": {},
   "source": [
    "4. **Falsche logische Operatoren**"
   ]
  },
  {
   "cell_type": "code",
   "execution_count": null,
   "metadata": {},
   "outputs": [],
   "source": [
    "// Fehler (aus anderen Sprachen übernommen)\n",
    "// if (age >= 18 & hasID) {  // Bitweise UND statt logische UND\n",
    "//     console.log(\"Du darfst Alkohol kaufen.\");\n",
    "// }\n",
    "\n",
    "// Korrektur\n",
    "const hasID = true;\n",
    "if (age >= 18 && hasID) {\n",
    "    console.log(\"Du darfst Alkohol kaufen.\");\n",
    "}"
   ]
  },
  {
   "cell_type": "markdown",
   "metadata": {},
   "source": [
    "5. **Typprobleme bei Vergleichen**"
   ]
  },
  {
   "cell_type": "code",
   "execution_count": null,
   "metadata": {},
   "outputs": [],
   "source": [
    "// Fehler\n",
    "const userAge = prompt(\"Wie alt bist du?\");  // userAge ist ein String\n",
    "if (userAge >= 18) {  // String-Vergleich kann zu unerwarteten Ergebnissen führen\n",
    "    console.log(\"Du bist volljährig.\");\n",
    "}\n",
    "console.log(`\\\"18\\\" >= 18: ${\"18\" >= 18}`);  // true (Typ-Coercion)\n",
    "console.log(`\\\"5\\\" >= 18: ${\"5\" >= 18}`);    // false (String-Vergleich: \"5\" < \"18\")\n",
    "console.log(`\\\"9\\\" >= 18: ${\"9\" >= 18}`);    // true (String-Vergleich: \"9\" > \"18\"!)\n",
    "\n",
    "// Korrektur\n",
    "const userAge2 = parseInt(prompt(\"Wie alt bist du?\"));\n",
    "if (!isNaN(userAge2) && userAge2 >= 18) {\n",
    "    console.log(\"Du bist volljährig.\");\n",
    "} else if (isNaN(userAge2)) {\n",
    "    console.log(\"Bitte gib eine gültige Zahl ein.\");\n",
    "} else {\n",
    "    console.log(\"Du bist minderjährig.\");\n",
    "}"
   ]
  },
  {
   "cell_type": "markdown",
   "metadata": {},
   "source": [
    "**Übung 8.4**: Der folgende Code enthält mehrere Fehler. Korrigiere ihn, damit er richtig funktioniert:\n",
    "\n",
    "```javascript\n",
    "const age = prompt(\"Wie alt bist du?\");\n",
    "if age >= 18 {\n",
    "    console.log(\"Du darfst den Film sehen\");\n",
    "} else {\n",
    "    console.log(\"Du bist leider zu jung für diesen Film);\n",
    "    const yearsUntil18 = 18 - age;\n",
    "    console.log(\"Du musst noch\", yearsUntil18, \"Jahre warten\");\n",
    "}\n",
    "```\n",
    "Korrigiere den Code und erkläre, welche Fehler du gefunden hast."
   ]
  },
  {
   "cell_type": "code",
   "execution_count": null,
   "metadata": {},
   "outputs": [],
   "source": [
    "// Deine Lösung hier\n"
   ]
  },
  {
   "cell_type": "markdown",
   "metadata": {},
   "source": [
    "6. **Fehlende Klammern bei komplexen Bedingungen**"
   ]
  },
  {
   "cell_type": "code",
   "execution_count": null,
   "metadata": {},
   "outputs": [],
   "source": [
    "const a = true, b = false, c = true, d = false;\n",
    "\n",
    "// Fehler (unklare Priorität)\n",
    "if (a || b && c || d) {\n",
    "    console.log(\"Bedingung erfüllt (aber welche?).\");\n",
    "}\n",
    "\n",
    "// Korrektur (explizite Klammern)\n",
    "if (a || (b && c) || d) {\n",
    "    console.log(\"Bedingung erfüllt (klar definiert).\");\n",
    "}\n",
    "\n",
    "// Oder eine andere Interpretation\n",
    "if ((a || b) && (c || d)) {\n",
    "    console.log(\"Alternative Interpretation.\");\n",
    "}"
   ]
  },
  {
   "cell_type": "markdown",
   "metadata": {},
   "source": [
    "7. **Vergessenes break in switch-Anweisungen**"
   ]
  },
  {
   "cell_type": "code",
   "execution_count": null,
   "metadata": {},
   "outputs": [],
   "source": [
    "const grade = 'B';\n",
    "\n",
    "// Fehler (vergessenes break)\n",
    "switch (grade) {\n",
    "    case 'A':\n",
    "        console.log(\"Exzellent!\");\n",
    "        // break vergessen!\n",
    "    case 'B':\n",
    "        console.log(\"Gut!\");\n",
    "        // break vergessen!\n",
    "    case 'C':\n",
    "        console.log(\"Befriedigend.\");\n",
    "        break;\n",
    "    default:\n",
    "        console.log(\"Verbesserung nötig.\");\n",
    "}\n",
    "// Ausgabe für 'B': \"Gut!\" und \"Befriedigend.\"\n",
    "\n",
    "console.log(\"\\nKorrigierte Version:\");\n",
    "// Korrektur\n",
    "switch (grade) {\n",
    "    case 'A':\n",
    "        console.log(\"Exzellent!\");\n",
    "        break;\n",
    "    case 'B':\n",
    "        console.log(\"Gut!\");\n",
    "        break;\n",
    "    case 'C':\n",
    "        console.log(\"Befriedigend.\");\n",
    "        break;\n",
    "    default:\n",
    "        console.log(\"Verbesserung nötig.\");\n",
    "}\n",
    "// Ausgabe für 'B': nur \"Gut!\""
   ]
  },
  {
   "cell_type": "markdown",
   "metadata": {},
   "source": [
    "### 📝 Debugging-Strategien\n",
    "\n",
    "**1. Console.log für Debugging verwenden:**"
   ]
  },
  {
   "cell_type": "code",
   "execution_count": null,
   "metadata": {},
   "outputs": [],
   "source": [
    "function calculateShippingCost(orderValue, country) {\n",
    "    // Debug-Ausgaben zur Fehlerbehebung\n",
    "    console.log(`Debug: Bestellwert = ${orderValue}, Land = ${country}`);\n",
    "    console.log(`Debug: Typ von orderValue = ${typeof orderValue}`);\n",
    "    \n",
    "    // Validierung der Eingaben\n",
    "    if (typeof orderValue !== 'number' || orderValue < 0) {\n",
    "        console.log(\"Debug: Ungültiger Bestellwert\");\n",
    "        return \"Fehler: Bestellwert muss eine positive Zahl sein.\";\n",
    "    }\n",
    "\n",
    "    if (typeof country !== 'string' || !country) {\n",
    "        console.log(\"Debug: Ungültiges Land\");\n",
    "        return \"Fehler: Land muss angegeben werden.\";\n",
    "    }\n",
    "\n",
    "    const normalizedCountry = country.toLowerCase();\n",
    "    console.log(`Debug: Normalisiertes Land = ${normalizedCountry}`);\n",
    "\n",
    "    // Entscheidungslogik\n",
    "    if (normalizedCountry === \"deutschland\") {\n",
    "        console.log(\"Debug: Deutschland erkannt\");\n",
    "        if (orderValue >= 50) {\n",
    "            console.log(\"Debug: Kostenloser Versand (Deutschland)\");\n",
    "            return 0;\n",
    "        } else {\n",
    "            console.log(\"Debug: Versandkosten Deutschland\");\n",
    "            return 4.99;\n",
    "        }\n",
    "    } else if ([\"frankreich\", \"italien\", \"spanien\", \"niederlande\", \"belgien\", \"österreich\"].includes(normalizedCountry)) {\n",
    "        console.log(\"Debug: EU-Land erkannt\");\n",
    "        if (orderValue >= 100) {\n",
    "            console.log(\"Debug: Kostenloser Versand (EU)\");\n",
    "            return 0;\n",
    "        } else {\n",
    "            console.log(\"Debug: Versandkosten EU\");\n",
    "            return 9.99;\n",
    "        }\n",
    "    } else {\n",
    "        console.log(\"Debug: Restliche Welt\");\n",
    "        return 19.99;\n",
    "    }\n",
    "}\n",
    "\n",
    "// Testfälle\n",
    "const testCases = [\n",
    "    [30, \"Deutschland\"],\n",
    "    [60, \"Deutschland\"],\n",
    "    [80, \"Frankreich\"],\n",
    "    [120, \"Italien\"],\n",
    "    [50, \"USA\"],\n",
    "    [-10, \"Deutschland\"],\n",
    "    [100, \"\"]\n",
    "];\n",
    "\n",
    "testCases.forEach(([orderValue, country]) => {\n",
    "    console.log(`\\n=== Test: ${orderValue} €, ${country} ===`);\n",
    "    const cost = calculateShippingCost(orderValue, country);\n",
    "    console.log(`Ergebnis: ${cost}`);\n",
    "});"
   ]
  },
  {
   "cell_type": "markdown",
   "metadata": {},
   "source": [
    "**2. Verwendung von Browser-Entwicklertools:**"
   ]
  },
  {
   "cell_type": "code",
   "execution_count": null,
   "metadata": {},
   "outputs": [],
   "source": [
    "// Verwende debugger; um Breakpoints zu setzen\n",
    "function complexCondition(a, b, c) {\n",
    "    debugger;  // Execution stoppt hier in den Entwicklertools\n",
    "    \n",
    "    if (a > b) {\n",
    "        debugger;  // Weiterer Breakpoint\n",
    "        if (b > c) {\n",
    "            return \"a > b > c\";\n",
    "        } else {\n",
    "            return \"a > b, aber b <= c\";\n",
    "        }\n",
    "    } else {\n",
    "        return \"a <= b\";\n",
    "    }\n",
    "}\n",
    "\n",
    "// Test der Funktion\n",
    "console.log(complexCondition(5, 3, 1));"
   ]
  },
  {
   "cell_type": "markdown",
   "metadata": {},
   "source": [
    "**3. Verwendung von Assertions:**"
   ]
  },
  {
   "cell_type": "code",
   "execution_count": null,
   "metadata": {},
   "outputs": [],
   "source": [
    "// Einfache Assertion-Funktion\n",
    "function assert(condition, message) {\n",
    "    if (!condition) {\n",
    "        throw new Error(`Assertion failed: ${message}`);\n",
    "    }\n",
    "}\n",
    "\n",
    "// Verwendung in Funktionen\n",
    "function divide(a, b) {\n",
    "    assert(typeof a === 'number', 'a muss eine Zahl sein');\n",
    "    assert(typeof b === 'number', 'b muss eine Zahl sein');\n",
    "    assert(b !== 0, 'Division durch Null ist nicht erlaubt');\n",
    "    \n",
    "    return a / b;\n",
    "}\n",
    "\n",
    "// Tests\n",
    "try {\n",
    "    console.log(divide(10, 2));  // 5\n",
    "    console.log(divide(10, 0));  // Wirft Fehler\n",
    "} catch (error) {\n",
    "    console.error(`Fehler: ${error.message}`);\n",
    "}"
   ]
  },
  {
   "cell_type": "markdown",
   "metadata": {},
   "source": [
    "## Leitfragen\n",
    "\n",
    "Beantworte diese Fragen, um dein Verständnis zu testen:\n",
    "\n",
    "1. **Ein- und Ausgabe:**\n",
    "   - Welche verschiedenen Console-Methoden gibt es in JavaScript und wofür werden sie verwendet?\n",
    "   - Warum gibt die `prompt()`-Funktion immer einen String zurück und wie kannst du mit diesem Verhalten umgehen?\n",
    "   - Was sind die Vorteile von Template Literals gegenüber String-Konkatenation?\n",
    "\n",
    "2. **Bedingte Ausführung:**\n",
    "   - Was ist der Unterschied zwischen `===` und `==` in JavaScript-Bedingungen?\n",
    "   - Warum sind geschweifte Klammern bei if-Anweisungen wichtig, auch wenn sie bei einzelnen Anweisungen optional sind?\n",
    "   - Was ist der Ternary Operator und wann sollte man ihn verwenden?\n",
    "\n",
    "3. **Mehrfachverzweigungen:**\n",
    "   - Wann sollte man switch-case anstelle von if-else if-else verwenden?\n",
    "   - Was passiert, wenn man `break` in einer switch-Anweisung vergisst?\n",
    "   - Welche Vorteile bietet die Verwendung von logischen Operatoren gegenüber verschachtelten if-Anweisungen?\n",
    "   - Was bedeutet Kurzschlussauswertung und warum ist sie nützlich?\n",
    "\n",
    "4. **Fehlerbehebung:**\n",
    "   - Was sind typische Fehler bei der Verwendung von bedingten Anweisungen in JavaScript?\n",
    "   - Wie kannst du Typprobleme bei Benutzereingaben vermeiden?\n",
    "   - Warum ist es wichtig, komplexe Bedingungen mit Klammern zu verdeutlichen?\n",
    "   - Welche Debugging-Strategien kannst du in JavaScript verwenden?"
   ]
  },
  {
   "cell_type": "markdown",
   "metadata": {},
   "source": [
    "#### Beantwortung der Leitfragen\n",
    "... Hier könnten deine Antworten stehen ⛳"
   ]
  },
  {
   "cell_type": "markdown",
   "metadata": {},
   "source": [
    "## Zusammenfassung\n",
    "\n",
    "### Ein- und Ausgabe\n",
    "\n",
    "- **Console-Methoden**: `console.log()`, `console.info()`, `console.warn()`, `console.error()`, `console.table()`, `console.group()`, `console.time()` bieten verschiedene Ausgabemöglichkeiten\n",
    "- **Eingabe**: `prompt()` und `confirm()` für Browser-Eingaben (geben String bzw. Boolean zurück)\n",
    "- **Template Literals**: Moderne String-Formatierung mit Backticks und `${}` für Interpolation\n",
    "- **Mehrzeilige Strings**: Template Literals unterstützen mehrzeilige Strings ohne Escape-Sequenzen\n",
    "\n",
    "### Bedingte Ausführung\n",
    "\n",
    "- **if-Anweisung**: Führt Code aus, wenn eine Bedingung erfüllt ist\n",
    "- **if-else-Anweisung**: Bietet eine Alternative, wenn die Bedingung nicht erfüllt ist\n",
    "- **Vergleichsoperatoren**: `===` (strikt) vs `==` (mit Type Coercion) - `===` ist meist bevorzugt\n",
    "- **Ternary Operator**: Kurze Form für einfache if-else-Entscheidungen\n",
    "- **Geschweifte Klammern**: Definieren Codeblöcke, auch bei einzelnen Anweisungen empfohlen\n",
    "\n",
    "### Mehrfachverzweigungen\n",
    "\n",
    "- **if-else if-else**: Prüft mehrere Bedingungen nacheinander\n",
    "- **switch-case**: Effizienter für exakte Wertvergleiche, benötigt `break`-Anweisungen\n",
    "- **Logische Operatoren**: `&&` (AND), `||` (OR), `!` (NOT) für komplexe Bedingungen\n",
    "- **Kurzschlussauswertung**: Optimierung und praktische Anwendung für Default-Werte\n",
    "- **Operatorpriorität**: `!` > `&&` > `||`, Klammern für Klarheit verwenden\n",
    "\n",
    "### Fehlerbehebung\n",
    "\n",
    "- **Häufige Fehler**: Zuweisung statt Vergleich (`=` vs `===`), fehlende Klammern, Typprobleme\n",
    "- **Debugging**: `console.log()`, Browser-Entwicklertools, `debugger`-Statement\n",
    "- **Validierung**: Eingaben prüfen, Typen konvertieren, Assertions verwenden\n",
    "- **Best Practices**: Explizite Klammern, strikte Vergleiche, Fehlerbehandlung\n",
    "\n",
    "### Wichtige Erkenntnisse\n",
    "\n",
    "- **Type Safety**: JavaScript ist dynamisch typisiert - explizite Typprüfung ist wichtig\n",
    "- **Truthy/Falsy**: Verstehe welche Werte als `true`/`false` behandelt werden\n",
    "- **Lesbarkeit**: Code sollte selbsterklärend sein - verwende Klammern und aussagekräftige Variablennamen\n",
    "- **Template Literals**: Moderne Alternative zu String-Konkatenation für bessere Lesbarkeit\n",
    "- **Console Tools**: Nutze verschiedene Console-Methoden für besseres Debugging\n",
    "\n",
    "Mit diesem Wissen hast du eine solide Grundlage für JavaScript-Kontrollstrukturen und kannst komplexe Entscheidungslogik implementieren sowie häufige Fehler vermeiden."
   ]
  }
 ],
 "metadata": {
  "kernelspec": {
   "display_name": "JavaScript (Node.js)",
   "language": "javascript",
   "name": "javascript"
  },
  "language_info": {
   "codemirror_mode": "javascript",
   "file_extension": ".js",
   "mimetype": "text/javascript",
   "name": "javascript",
   "version": "18.15.0"
  }
 },
 "nbformat": 4,
 "nbformat_minor": 5
}