{
    "cells": [
        {
            "cell_type": "markdown",
            "metadata": {},
            "source": [
                "# JavaScript Kontrollstrukturen II: Schleifen\n",
                "\n",
                "## Interaktives Lernmaterial für JavaScript-Grundlagen\n",
                "\n",
                "Dieses Jupyter Notebook dient als interaktive Lernumgebung zum Thema Schleifen in JavaScript. Du kannst die Code-Beispiele direkt ausführen, modifizieren und mit den Übungsaufgaben dein Verständnis vertiefen.\n",
                "\n",
                "### Inhaltsverzeichnis\n",
                "1. [While-Schleifen](#1.-While-Schleifen)\n",
                "2. [For-Schleifen](#2.-For-Schleifen)\n",
                "3. [Verschachtelte Schleifen](#3.-Verschachtelte-Schleifen)\n",
                "4. [Praktische Beispiele](#4.-Praktische-Beispiele)\n",
                "5. [Effizienz bei Schleifen](#5.-Effizienz-bei-Schleifen)\n",
                "6. [Übungsaufgaben](#6.-Übungsaufgaben)"
            ]
        },
        {
            "cell_type": "markdown",
            "metadata": {},
            "source": [
                "## 1. While-Schleifen\n",
                "\n",
                "Eine `while`-Schleife führt einen Codeblock aus, solange eine bestimmte Bedingung erfüllt ist.\n",
                "\n",
                "### Syntax\n",
                "```javascript\n",
                "while (bedingung) {\n",
                "    // Anweisungen, die ausgeführt werden,\n",
                "    // solange die Bedingung true ist\n",
                "}\n",
                "```\n",
                "\n",
                "### 💡 Leitfrage: \n",
                "Wann ist eine while-Schleife einer for-Schleife vorzuziehen?"
            ]
        },
        {
            "cell_type": "markdown",
            "metadata": {},
            "source": [
                "### 1.1 Einfache Beispiele"
            ]
        },
        {
            "cell_type": "code",
            "execution_count": null,
            "metadata": {},
            "outputs": [],
            "source": [
                "// Beispiel 1: Zählen von 1 bis 5\n",
                "let count = 1;\n",
                "while (count <= 5) {\n",
                "    console.log(count);\n",
                "    count++; // Wichtig: Zähler inkrementieren, sonst entsteht eine Endlosschleife!\n",
                "}"
            ]
        },
        {
            "cell_type": "markdown",
            "metadata": {},
            "source": [
                "**Übung 1.1a**: Modifiziere den obigen Code, um rückwärts von 10 bis 1 zu zählen."
            ]
        },
        {
            "cell_type": "code",
            "execution_count": null,
            "metadata": {},
            "outputs": [],
            "source": [
                "// Deine Lösung hier\n"
            ]
        },
        {
            "cell_type": "markdown",
            "metadata": {},
            "source": [
                "### 1.2 Summe berechnen"
            ]
        },
        {
            "cell_type": "code",
            "execution_count": null,
            "metadata": {},
            "outputs": [],
            "source": [
                "// Beispiel 2: Summe der Zahlen von 1 bis n\n",
                "const n = 10;\n",
                "let sumResult = 0;\n",
                "let i = 1;\n",
                "\n",
                "while (i <= n) {\n",
                "    sumResult += i;\n",
                "    i++;\n",
                "}\n",
                "\n",
                "console.log(`Die Summe der Zahlen von 1 bis ${n} ist: ${sumResult}`);"
            ]
        },
        {
            "cell_type": "markdown",
            "metadata": {},
            "source": [
                "**Übung 1.2a**: Ändere den Code so, dass nur die Summe der geraden Zahlen von 1 bis n berechnet wird."
            ]
        },
        {
            "cell_type": "code",
            "execution_count": null,
            "metadata": {},
            "outputs": [],
            "source": [
                "// Deine Lösung hier\n"
            ]
        },
        {
            "cell_type": "markdown",
            "metadata": {},
            "source": [
                "### 1.3 While mit Benutzereingabe\n",
                "Eine häufige Anwendung von `while`-Schleifen ist die Validierung von Benutzereingaben."
            ]
        },
        {
            "cell_type": "code",
            "execution_count": null,
            "metadata": {},
            "outputs": [],
            "source": [
                "// Validierungsfunktion für positive Zahlen\n",
                "function validatePositiveNumber(inputValue) {\n",
                "    const number = parseFloat(inputValue);\n",
                "    if (isNaN(number)) {\n",
                "        return { valid: false, message: \"Die Eingabe muss eine Zahl sein.\" };\n",
                "    }\n",
                "    if (number <= 0) {\n",
                "        return { valid: false, message: \"Die Eingabe muss eine positive Zahl sein.\" };\n",
                "    }\n",
                "    return { valid: true, value: number };\n",
                "}\n",
                "\n",
                "// Simulierte Eingaben zum Testen\n",
                "const testInputs = [\"abc\", \"-5\", \"0\", \"42.5\"];\n",
                "\n",
                "testInputs.forEach(testInput => {\n",
                "    console.log(`\\nTeste Eingabe: ${testInput}`);\n",
                "    const result = validatePositiveNumber(testInput);\n",
                "    if (result.valid) {\n",
                "        console.log(`Gültige Eingabe: ${result.value}`);\n",
                "    } else {\n",
                "        console.log(`Fehler: ${result.message}`);\n",
                "    }\n",
                "});"
            ]
        },
        {
            "cell_type": "markdown",
            "metadata": {},
            "source": [
                "**Übung 1.3a**: Schreibe eine Funktion, die eine Eingabe validiert und sicherstellt, dass sie eine ganze Zahl zwischen 1 und 100 ist."
            ]
        },
        {
            "cell_type": "code",
            "execution_count": null,
            "metadata": {},
            "outputs": [],
            "source": [
                "// Deine Lösung hier\n"
            ]
        },
        {
            "cell_type": "markdown",
            "metadata": {},
            "source": [
                "### 1.4 Do-While-Schleifen\n",
                "\n",
                "JavaScript bietet auch `do-while`-Schleifen, die den Codeblock mindestens einmal ausführen, bevor die Bedingung geprüft wird."
            ]
        },
        {
            "cell_type": "code",
            "execution_count": null,
            "metadata": {},
            "outputs": [],
            "source": [
                "// Do-while Beispiel\n",
                "let count = 1;\n",
                "do {\n",
                "    console.log(`Do-while: ${count}`);\n",
                "    count++;\n",
                "} while (count <= 5);\n",
                "\n",
                "console.log(\"\\nVergleich: Do-while wird mindestens einmal ausgeführt:\");\n",
                "let falseCondition = 1;\n",
                "do {\n",
                "    console.log(`Wird ausgeführt, obwohl Bedingung false ist: ${falseCondition}`);\n",
                "    falseCondition++;\n",
                "} while (falseCondition < 1); // Bedingung ist sofort false\n",
                "\n",
                "// Vergleich mit normaler while-Schleife\n",
                "let whileTest = 1;\n",
                "while (whileTest < 1) {\n",
                "    console.log(\"Diese Nachricht wird nicht ausgegeben\");\n",
                "    whileTest++;\n",
                "}\n",
                "console.log(\"While-Schleife wurde übersprungen\");"
            ]
        },
        {
            "cell_type": "markdown",
            "metadata": {},
            "source": [
                "**Übung 1.4a**: Schreibe eine do-while-Schleife, die Zahlen von 1 bis 20 ausgibt. Wenn eine Primzahl gefunden wird, soll \"Primzahl gefunden!\" ausgegeben werden. Am Ende soll die Anzahl der gefundenen Primzahlen ausgegeben werden."
            ]
        },
        {
            "cell_type": "code",
            "execution_count": null,
            "metadata": {},
            "outputs": [],
            "source": [
                "// Deine Lösung hier\n"
            ]
        },
        {
            "cell_type": "markdown",
            "metadata": {},
            "source": [
                "### 1.5 Endlosschleifen und wie man sie vermeidet\n",
                "Eine Endlosschleife ist eine Schleife, deren Bedingung niemals `false` wird. Hier ein Beispiel (nicht ausführen!):"
            ]
        },
        {
            "cell_type": "code",
            "execution_count": null,
            "metadata": {},
            "outputs": [],
            "source": [
                "// NICHT AUSFÜHREN - Endlosschleife!\n",
                "// while (true) {\n",
                "//     console.log(\"Diese Nachricht wird endlos wiederholt.\");\n",
                "//     // Kein Break-Statement oder anderer Ausstiegsmechanismus\n",
                "// }\n",
                "\n",
                "console.log(\"Endlosschleifen-Beispiel wurde als Kommentar belassen.\");"
            ]
        },
        {
            "cell_type": "markdown",
            "metadata": {},
            "source": [
                "#### Häufige Ursachen für unbeabsichtigte Endlosschleifen\n",
                "\n",
                "1. **Vergessen, den Zähler zu inkrementieren/dekrementieren**\n",
                "2. **Falsche Schleifenbedingung**\n",
                "3. **Falsche Logik innerhalb der Schleife**\n",
                "\n",
                "#### Vermeidung von Endlosschleifen\n",
                "\n",
                "1. **Sicherstellen, dass sich die Schleifenbedingung ändern kann**\n",
                "2. **Notbremse mit Zähler einbauen**"
            ]
        },
        {
            "cell_type": "code",
            "execution_count": null,
            "metadata": {},
            "outputs": [],
            "source": [
                "// Beispiel mit Notbremse\n",
                "const maxIterations = 1000;\n",
                "let count = 0;\n",
                "let i = 1;\n",
                "\n",
                "// Absichtlich problematische Bedingung (i immer > 0)\n",
                "while (i > 0 && count < maxIterations) {\n",
                "    i++; // i wird immer größer, Bedingung bleibt immer true\n",
                "    count++; // Zählt, wie oft die Schleife durchlaufen wurde\n",
                "}\n",
                "\n",
                "if (count >= maxIterations) {\n",
                "    console.log(`Schleife wurde nach ${maxIterations} Durchläufen abgebrochen (potenzielle Endlosschleife).`);\n",
                "    console.log(`Letzter Wert von i: ${i}`);\n",
                "} else {\n",
                "    console.log(`Schleife normal beendet nach ${count} Durchläufen.`);\n",
                "}"
            ]
        },
        {
            "cell_type": "markdown",
            "metadata": {},
            "source": [
                "**Übung 1.5a**: Finde und korrigiere den Fehler im folgenden Code, der zu einer Endlosschleife führen würde:"
            ]
        },
        {
            "cell_type": "code",
            "execution_count": null,
            "metadata": {},
            "outputs": [],
            "source": [
                "function countdown(start) {\n",
                "    /**\n",
                "     * Zählt von start bis 0 runter.\n",
                "     * ACHTUNG: Enthält einen Fehler, der zu einer Endlosschleife führt!\n",
                "     */\n",
                "    while (start > 0) {\n",
                "        console.log(start);\n",
                "        // Fehler: start wird nie verändert!\n",
                "    }\n",
                "    console.log(\"Fertig!\");\n",
                "}\n",
                "\n",
                "// Nicht ausführen! Korrigiere zuerst den Fehler\n",
                "// countdown(5);\n",
                "\n",
                "console.log(\"Countdown-Funktion hat einen Fehler - korrigiere ihn!\");"
            ]
        },
        {
            "cell_type": "code",
            "execution_count": null,
            "metadata": {},
            "outputs": [],
            "source": [
                "// Deine korrigierte Version hier\n"
            ]
        },
        {
            "cell_type": "markdown",
            "metadata": {},
            "source": [
                "### 💡 Leitfrage zur Selbstreflexion: \n",
                "Hast du schon einmal versehentlich eine Endlosschleife erstellt? Was war die Ursache und wie hast du das Problem gelöst?"
            ]
        },
        {
            "cell_type": "markdown",
            "metadata": {},
            "source": [
                "### 1.6 Absichtliche Endlosschleifen mit Ausstiegsbedingung\n",
                "\n",
                "Manchmal ist eine Endlosschleife gewollt, z.B. bei interaktiven Programmen. In solchen Fällen muss eine klare Ausstiegsbedingung definiert werden:"
            ]
        },
        {
            "cell_type": "code",
            "execution_count": null,
            "metadata": {},
            "outputs": [],
            "source": [
                "function showMenu() {\n",
                "    console.log(\"\\n==== Menü ====\");\n",
                "    console.log(\"1. Option 1\");\n",
                "    console.log(\"2. Option 2\");\n",
                "    console.log(\"3. Beenden\");\n",
                "    return \"Wähle eine Option (1-3): \";\n",
                "}\n",
                "\n",
                "// Simulierte Benutzereingaben für die Demonstration\n",
                "const testInputs = [\"1\", \"2\", \"ungültig\", \"3\"];\n",
                "let inputIndex = 0;\n",
                "\n",
                "function simulatedInput(prompt) {\n",
                "    if (inputIndex < testInputs.length) {\n",
                "        const value = testInputs[inputIndex];\n",
                "        inputIndex++;\n",
                "        console.log(`${prompt}${value}`);\n",
                "        return value;\n",
                "    }\n",
                "    return \"3\"; // Standardmäßig beenden, wenn keine weiteren Eingaben vorhanden sind\n",
                "}\n",
                "\n",
                "// Hauptschleife\n",
                "let running = true;\n",
                "while (running) {\n",
                "    const choice = simulatedInput(showMenu());\n",
                "    \n",
                "    switch (choice) {\n",
                "        case \"1\":\n",
                "            console.log(\"Du hast Option 1 gewählt.\");\n",
                "            break;\n",
                "        case \"2\":\n",
                "            console.log(\"Du hast Option 2 gewählt.\");\n",
                "            break;\n",
                "        case \"3\":\n",
                "            console.log(\"Programm wird beendet.\");\n",
                "            running = false;\n",
                "            break;\n",
                "        default:\n",
                "            console.log(\"Ungültige Eingabe. Bitte versuche es erneut.\");\n",
                "    }\n",
                "}"
            ]
        },
        {
            "cell_type": "markdown",
            "metadata": {},
            "source": [
                "**Übung 1.6a**: Erweitere das obige Menü um zwei weitere Optionen deiner Wahl und füge entsprechende Aktionen hinzu."
            ]
        },
        {
            "cell_type": "code",
            "execution_count": null,
            "metadata": {},
            "outputs": [],
            "source": [
                "// Deine Lösung hier\n"
            ]
        },
        {
            "cell_type": "markdown",
            "metadata": {},
            "source": [
                "## 2. For-Schleifen\n",
                "\n",
                "JavaScript bietet verschiedene Arten von `for`-Schleifen für unterschiedliche Anwendungsfälle.\n",
                "\n",
                "### 💡 Leitfrage: \n",
                "Was sind die Vorteile der verschiedenen for-Schleifen-Varianten in JavaScript?\n",
                "\n",
                "### 2.1 Klassische For-Schleife"
            ]
        },
        {
            "cell_type": "code",
            "execution_count": null,
            "metadata": {},
            "outputs": [],
            "source": [
                "// Grundlegende for-Schleife: for (Initialisierung; Bedingung; Inkrement)\n",
                "console.log(\"Zählen von 0 bis 4:\");\n",
                "for (let i = 0; i < 5; i++) {\n",
                "    console.log(i);\n",
                "}\n",
                "\n",
                "console.log(\"\\nZählen von 2 bis 6:\");\n",
                "for (let i = 2; i <= 6; i++) {\n",
                "    console.log(i);\n",
                "}\n",
                "\n",
                "console.log(\"\\nUngerade Zahlen von 1 bis 9:\");\n",
                "for (let i = 1; i < 10; i += 2) {\n",
                "    console.log(i);\n",
                "}\n",
                "\n",
                "console.log(\"\\nRückwärtszählen von 5 bis 1:\");\n",
                "for (let i = 5; i >= 1; i--) {\n",
                "    console.log(i);\n",
                "}"
            ]
        },
        {
            "cell_type": "markdown",
            "metadata": {},
            "source": [
                "**Übung 2.1a**: Verwende eine for-Schleife, um alle Vielfachen von 3 zwischen 3 und 30 auszugeben."
            ]
        },
        {
            "cell_type": "code",
            "execution_count": null,
            "metadata": {},
            "outputs": [],
            "source": [
                "// Deine Lösung hier\n"
            ]
        },
        {
            "cell_type": "markdown",
            "metadata": {},
            "source": [
                "### 2.2 For...of Schleifen (ES6)\n",
                "\n",
                "Die `for...of`-Schleife iteriert über die Werte von iterierbaren Objekten (Arrays, Strings, etc.)."
            ]
        },
        {
            "cell_type": "code",
            "execution_count": null,
            "metadata": {},
            "outputs": [],
            "source": [
                "// Iteration über ein Array\n",
                "const fruits = [\"Apfel\", \"Banane\", \"Kirsche\"];\n",
                "console.log(\"Iteration über ein Array mit for...of:\");\n",
                "for (const fruit of fruits) {\n",
                "    console.log(`- ${fruit}`);\n",
                "}\n",
                "\n",
                "// Iteration über einen String\n",
                "const message = \"JavaScript\";\n",
                "console.log(\"\\nIteration über einen String:\");\n",
                "for (const char of message) {\n",
                "    console.log(char);\n",
                "}\n",
                "\n",
                "// Mit Index über Array.entries()\n",
                "console.log(\"\\nMit Index und Wert:\");\n",
                "for (const [index, fruit] of fruits.entries()) {\n",
                "    console.log(`Index ${index}: ${fruit}`);\n",
                "}"
            ]
        },
        {
            "cell_type": "markdown",
            "metadata": {},
            "source": [
                "### 2.3 For...in Schleifen\n",
                "\n",
                "Die `for...in`-Schleife iteriert über die Eigenschaften (Keys) eines Objekts."
            ]
        },
        {
            "cell_type": "code",
            "execution_count": null,
            "metadata": {},
            "outputs": [],
            "source": [
                "// Iteration über Objekt-Eigenschaften\n",
                "const person = {\n",
                "    name: \"Max\",\n",
                "    age: 30,\n",
                "    job: \"Programmierer\"\n",
                "};\n",
                "\n",
                "console.log(\"Iteration über Objekt-Eigenschaften:\");\n",
                "for (const key in person) {\n",
                "    console.log(`${key}: ${person[key]}`);\n",
                "}\n",
                "\n",
                "// Mit Array (nicht empfohlen, nutze for...of)\n",
                "console.log(\"\\nFor...in mit Array (zeigt Indizes):\");\n",
                "for (const index in fruits) {\n",
                "    console.log(`Index ${index}: ${fruits[index]}`);\n",
                "}\n",
                "\n",
                "// Bessere Alternative für Arrays\n",
                "console.log(\"\\nBessere Alternative für Arrays - forEach:\");\n",
                "fruits.forEach((fruit, index) => {\n",
                "    console.log(`Index ${index}: ${fruit}`);\n",
                "});"
            ]
        },
        {
            "cell_type": "markdown",
            "metadata": {},
            "source": [
                "**Übung 2.2a**: Erstelle ein Objekt mit den Namen von 5 Ländern als Schlüssel und ihren Hauptstädten als Werte. Iteriere dann über das Objekt und gib für jedes Land den Satz \"Die Hauptstadt von [Land] ist [Hauptstadt].\" aus."
            ]
        },
        {
            "cell_type": "code",
            "execution_count": null,
            "metadata": {},
            "outputs": [],
            "source": [
                "// Deine Lösung hier\n"
            ]
        },
        {
            "cell_type": "markdown",
            "metadata": {},
            "source": [
                "### 2.4 Array-Methoden als Alternative zu Schleifen\n",
                "\n",
                "JavaScript bietet viele eingebaute Array-Methoden, die oft eleganter als traditionelle Schleifen sind."
            ]
        },
        {
            "cell_type": "code",
            "execution_count": null,
            "metadata": {},
            "outputs": [],
            "source": [
                "const numbers = [1, 2, 3, 4, 5, 6, 7, 8, 9, 10];\n",
                "\n",
                "// forEach - führt Funktion für jedes Element aus\n",
                "console.log(\"forEach - alle Zahlen:\");\n",
                "numbers.forEach(num => console.log(num));\n",
                "\n",
                "// map - transformiert jedes Element\n",
                "console.log(\"\\nmap - Quadratzahlen:\");\n",
                "const squares = numbers.map(num => num * num);\n",
                "console.log(squares);\n",
                "\n",
                "// filter - filtert Elemente basierend auf Bedingung\n",
                "console.log(\"\\nfilter - nur gerade Zahlen:\");\n",
                "const evenNumbers = numbers.filter(num => num % 2 === 0);\n",
                "console.log(evenNumbers);\n",
                "\n",
                "// find - findet erstes Element, das Bedingung erfüllt\n",
                "console.log(\"\\nfind - erste Zahl größer als 5:\");\n",
                "const firstLarge = numbers.find(num => num > 5);\n",
                "console.log(firstLarge);\n",
                "\n",
                "// some - prüft, ob mindestens ein Element die Bedingung erfüllt\n",
                "console.log(\"\\nsome - gibt es Zahlen größer als 8?\");\n",
                "const hasLarge = numbers.some(num => num > 8);\n",
                "console.log(hasLarge);\n",
                "\n",
                "// every - prüft, ob alle Elemente die Bedingung erfüllen\n",
                "console.log(\"\\nevery - sind alle Zahlen positiv?\");\n",
                "const allPositive = numbers.every(num => num > 0);\n",
                "console.log(allPositive);\n",
                "\n",
                "// reduce - reduziert Array auf einen einzelnen Wert\n",
                "console.log(\"\\nreduce - Summe aller Zahlen:\");\n",
                "const sum = numbers.reduce((acc, num) => acc + num, 0);\n",
                "console.log(sum);"
            ]
        },
        {
            "cell_type": "markdown",
            "metadata": {},
            "source": [
                "**Übung 2.3a**: Erstelle ein Array mit den Namen deiner Lieblingsfilme. Verwende verschiedene Array-Methoden, um:\n",
                "1. Alle Filme auszugeben, die länger als 10 Zeichen sind\n",
                "2. Alle Filmtitel in Großbuchstaben umzuwandeln\n",
                "3. Den ersten Film zu finden, der mit \"T\" beginnt"
            ]
        },
        {
            "cell_type": "code",
            "execution_count": null,
            "metadata": {},
            "outputs": [],
            "source": [
                "// Deine Lösung hier\n"
            ]
        },
        {
            "cell_type": "markdown",
            "metadata": {},
            "source": [
                "### 2.5 Schleifensteuerung (break, continue)\n",
                "\n",
                "JavaScript bietet Anweisungen zur Steuerung des Schleifenverhaltens: `break` und `continue`."
            ]
        },
        {
            "cell_type": "code",
            "execution_count": null,
            "metadata": {},
            "outputs": [],
            "source": [
                "// break-Anweisung: Beendet die Schleife sofort\n",
                "console.log(\"Beispiel für break:\");\n",
                "const numbers = [4, 7, 2, 9, 1, 5];\n",
                "const searchFor = 9;\n",
                "\n",
                "for (const num of numbers) {\n",
                "    if (num === searchFor) {\n",
                "        console.log(`Gefunden: ${searchFor}`);\n",
                "        break;\n",
                "    }\n",
                "    console.log(`Überprüfe ${num}`);\n",
                "}\n",
                "\n",
                "// continue-Anweisung: Überspringt den Rest des aktuellen Durchlaufs\n",
                "console.log(\"\\nBeispiel für continue (ungerade Zahlen von 1 bis 10):\");\n",
                "for (let i = 1; i <= 10; i++) {\n",
                "    if (i % 2 === 0) { // Überspringen, wenn i gerade ist\n",
                "        continue;\n",
                "    }\n",
                "    console.log(i);\n",
                "}"
            ]
        },
        {
            "cell_type": "markdown",
            "metadata": {},
            "source": [
                "**Übung 2.5a**: Schreibe eine Schleife, die über die Zahlen von 1 bis 20 iteriert. Gib \"FizzBuzz\" aus, wenn die Zahl durch 3 und 5 teilbar ist, \"Fizz\" wenn sie nur durch 3 teilbar ist, \"Buzz\" wenn sie nur durch 5 teilbar ist, und sonst die Zahl selbst."
            ]
        },
        {
            "cell_type": "code",
            "execution_count": null,
            "metadata": {},
            "outputs": [],
            "source": [
                "// Deine Lösung hier\n"
            ]
        },
        {
            "cell_type": "markdown",
            "metadata": {},
            "source": [
                "**Übung 2.5b**: Schreibe eine Schleife, die über ein Array von Wörtern iteriert und nur die Wörter ausgibt, die mit einem Vokal beginnen. Verwende dafür die continue-Anweisung."
            ]
        },
        {
            "cell_type": "code",
            "execution_count": null,
            "metadata": {},
            "outputs": [],
            "source": [
                "// Deine Lösung hier\n"
            ]
        },
        {
            "cell_type": "markdown",
            "metadata": {},
            "source": [
                "## 3. Verschachtelte Schleifen\n",
                "\n",
                "Verschachtelte Schleifen sind Schleifen innerhalb von Schleifen. Sie ermöglichen die Verarbeitung mehrdimensionaler Daten oder das Durchführen komplexerer Iterationen.\n",
                "\n",
                "### 💡 Leitfrage: \n",
                "Wann sind verschachtelte Schleifen sinnvoll und worauf sollte man bei ihrer Verwendung achten?\n",
                "\n",
                "### 3.1 Grundkonzept"
            ]
        },
        {
            "cell_type": "code",
            "execution_count": null,
            "metadata": {},
            "outputs": [],
            "source": [
                "// Einfache verschachtelte Schleife\n",
                "for (let i = 0; i < 3; i++) { // Äußere Schleife\n",
                "    console.log(`Äußere Schleife: i=${i}`);\n",
                "    for (let j = 0; j < 2; j++) { // Innere Schleife\n",
                "        console.log(`  Innere Schleife: j=${j}`);\n",
                "    }\n",
                "    console.log(); // Leerzeile für bessere Lesbarkeit\n",
                "}"
            ]
        },
        {
            "cell_type": "markdown",
            "metadata": {},
            "source": [
                "Bei jeder Iteration der äußeren Schleife wird die innere Schleife vollständig durchlaufen. In diesem Beispiel:\n",
                "\n",
                "- Die äußere Schleife läuft 3-mal (i von 0 bis 2).\n",
                "- Für jeden Wert von i läuft die innere Schleife 2-mal (j von 0 bis 1).\n",
                "- Insgesamt werden 3 × 2 = 6 Iterationen durchgeführt.\n",
                "\n",
                "### 3.2 Praktische Beispiele"
            ]
        },
        {
            "cell_type": "code",
            "execution_count": null,
            "metadata": {},
            "outputs": [],
            "source": [
                "// Beispiel 1: Multiplikationstabelle\n",
                "console.log(\"Multiplikationstabelle (1-5):\");\n",
                "for (let i = 1; i <= 5; i++) {\n",
                "    for (let j = 1; j <= 5; j++) {\n",
                "        console.log(`${i} × ${j} = ${i * j}`);\n",
                "    }\n",
                "    console.log(\"-----\"); // Trenner zwischen den Zeilen\n",
                "}"
            ]
        },
        {
            "cell_type": "code",
            "execution_count": null,
            "metadata": {},
            "outputs": [],
            "source": [
                "// Beispiel 2: Verarbeitung einer zweidimensionalen Matrix\n",
                "const matrix = [\n",
                "    [1, 2, 3],\n",
                "    [4, 5, 6],\n",
                "    [7, 8, 9]\n",
                "];\n",
                "\n",
                "console.log(\"Matrix ausgeben:\");\n",
                "for (const row of matrix) {\n",
                "    let rowString = \"\";\n",
                "    for (const element of row) {\n",
                "        rowString += element + \" \";\n",
                "    }\n",
                "    console.log(rowString);\n",
                "}\n",
                "\n",
                "console.log(\"\\nSumme aller Elemente berechnen:\");\n",
                "let total = 0;\n",
                "for (const row of matrix) {\n",
                "    for (const element of row) {\n",
                "        total += element;\n",
                "    }\n",
                "}\n",
                "console.log(`Die Summe aller Elemente ist: ${total}`);\n",
                "\n",
                "// Alternative mit reduce\n",
                "const totalWithReduce = matrix.flat().reduce((sum, num) => sum + num, 0);\n",
                "console.log(`Summe mit reduce: ${totalWithReduce}`);"
            ]
        },
        {
            "cell_type": "code",
            "execution_count": null,
            "metadata": {},
            "outputs": [],
            "source": [
                "// Beispiel 3: Koordinatenpaare generieren\n",
                "console.log(\"Koordinatenpaare:\");\n",
                "for (let x = 1; x <= 3; x++) {\n",
                "    let line = \"\";\n",
                "    for (let y = 1; y <= 2; y++) {\n",
                "        line += `(${x}, ${y}) `;\n",
                "    }\n",
                "    console.log(line);\n",
                "}"
            ]
        },
        {
            "cell_type": "markdown",
            "metadata": {},
            "source": [
                "**Übung 3.2a**: Schreibe eine verschachtelte Schleife, die ein Schachbrettmuster ausgibt, wobei '■' für schwarze Felder und '□' für weiße Felder steht. Das Brett soll 8x8 Felder haben."
            ]
        },
        {
            "cell_type": "code",
            "execution_count": null,
            "metadata": {},
            "outputs": [],
            "source": [
                "// Deine Lösung hier\n"
            ]
        },
        {
            "cell_type": "markdown",
            "metadata": {},
            "source": [
                "### 3.3 break und continue in verschachtelten Schleifen\n",
                "\n",
                "Die Anweisungen `break` und `continue` wirken nur auf die unmittelbar umgebende Schleife."
            ]
        },
        {
            "cell_type": "code",
            "execution_count": null,
            "metadata": {},
            "outputs": [],
            "source": [
                "// break in der inneren Schleife\n",
                "console.log(\"break in der inneren Schleife:\");\n",
                "for (let i = 0; i < 3; i++) {\n",
                "    console.log(`Äußere Schleife i=${i}`);\n",
                "    for (let j = 0; j < 3; j++) {\n",
                "        if (j === 2) {\n",
                "            console.log(`  j=${j} erreicht, breche innere Schleife ab`);\n",
                "            break; // Bricht nur die innere Schleife ab\n",
                "        }\n",
                "        console.log(`  Innere Schleife j=${j}`);\n",
                "    }\n",
                "    console.log(); // Leerzeile\n",
                "}"
            ]
        },
        {
            "cell_type": "code",
            "execution_count": null,
            "metadata": {},
            "outputs": [],
            "source": [
                "// Aus beiden Schleifen ausbrechen mit Labels\n",
                "console.log(\"Aus beiden Schleifen ausbrechen mit Labels:\");\n",
                "outerLoop: for (let i = 0; i < 3; i++) {\n",
                "    for (let j = 0; j < 3; j++) {\n",
                "        if (i === 1 && j === 1) {\n",
                "            console.log(`Gefunden bei i=${i}, j=${j}`);\n",
                "            break outerLoop; // Bricht beide Schleifen ab\n",
                "        }\n",
                "        console.log(`Überprüfe i=${i}, j=${j}`);\n",
                "    }\n",
                "}\n",
                "console.log(\"Beide Schleifen wurden abgebrochen.\");\n",
                "\n",
                "// Alternative ohne Labels\n",
                "console.log(\"\\nAlternative ohne Labels (mit Flag):\");\n",
                "let found = false;\n",
                "for (let i = 0; i < 3 && !found; i++) {\n",
                "    for (let j = 0; j < 3; j++) {\n",
                "        if (i === 1 && j === 1) {\n",
                "            console.log(`Gefunden bei i=${i}, j=${j}`);\n",
                "            found = true;\n",
                "            break;\n",
                "        }\n",
                "        console.log(`Überprüfe i=${i}, j=${j}`);\n",
                "    }\n",
                "}"
            ]
        },
        {
            "cell_type": "markdown",
            "metadata": {},
            "source": [
                "**Übung 3.3a**: Schreibe eine verschachtelte Schleife, die die Primzahlen zwischen 10 und 50 findet. Verwende die innere Schleife, um zu prüfen, ob eine Zahl durch einen kleineren Wert teilbar ist, und breche sie mit `break` ab, sobald ein Teiler gefunden wurde."
            ]
        },
        {
            "cell_type": "code",
            "execution_count": null,
            "metadata": {},
            "outputs": [],
            "source": [
                "// Deine Lösung hier\n"
            ]
        },
        {
            "cell_type": "markdown",
            "metadata": {},
            "source": [
                "### 3.4 Muster mit verschachtelten Schleifen erstellen"
            ]
        },
        {
            "cell_type": "code",
            "execution_count": null,
            "metadata": {},
            "outputs": [],
            "source": [
                "// Dreieck aus Sternen\n",
                "const rows = 5;\n",
                "console.log(\"Dreieck aus Sternen:\");\n",
                "for (let i = 1; i <= rows; i++) {\n",
                "    let line = \"\";\n",
                "    for (let j = 0; j < i; j++) {\n",
                "        line += \"*\";\n",
                "    }\n",
                "    console.log(line);\n",
                "}"
            ]
        },
        {
            "cell_type": "code",
            "execution_count": null,
            "metadata": {},
            "outputs": [],
            "source": [
                "// Umgekehrtes Dreieck\n",
                "const rows = 5;\n",
                "console.log(\"Umgekehrtes Dreieck:\");\n",
                "for (let i = rows; i >= 1; i--) {\n",
                "    let line = \"\";\n",
                "    for (let j = 0; j < i; j++) {\n",
                "        line += \"*\";\n",
                "    }\n",
                "    console.log(line);\n",
                "}"
            ]
        },
        {
            "cell_type": "code",
            "execution_count": null,
            "metadata": {},
            "outputs": [],
            "source": [
                "// Pyramide\n",
                "const rows = 5;\n",
                "console.log(\"Pyramide:\");\n",
                "for (let i = 1; i <= rows; i++) {\n",
                "    let line = \"\";\n",
                "    \n",
                "    // Leerzeichen vor den Sternen\n",
                "    for (let j = 0; j < rows - i; j++) {\n",
                "        line += \" \";\n",
                "    }\n",
                "    \n",
                "    // Sterne\n",
                "    for (let j = 0; j < 2 * i - 1; j++) {\n",
                "        line += \"*\";\n",
                "    }\n",
                "    \n",
                "    console.log(line);\n",
                "}"
            ]
        },
        {
            "cell_type": "markdown",
            "metadata": {},
            "source": [
                "**Übung 3.4a**: Erstelle eine Raute (Diamant) aus Sternen mit einer Höhe von 7 Zeilen."
            ]
        },
        {
            "cell_type": "code",
            "execution_count": null,
            "metadata": {},
            "outputs": [],
            "source": [
                "// Deine Lösung hier\n"
            ]
        },
        {
            "cell_type": "markdown",
            "metadata": {},
            "source": [
                "## 4. Praktische Beispiele\n",
                "\n",
                "In diesem Abschnitt werden wir komplexere Beispiele und Anwendungen von Schleifen betrachten.\n",
                "\n",
                "### 💡 Leitfrage: \n",
                "Wie kannst du entscheiden, welche Art von Schleife für ein bestimmtes Problem am besten geeignet ist?\n",
                "\n",
                "### 4.1 Zahlenraten-Spiel"
            ]
        },
        {
            "cell_type": "code",
            "execution_count": null,
            "metadata": {},
            "outputs": [],
            "source": [
                "function numberGuessingGame() {\n",
                "    /**\n",
                "     * Einfaches Zahlenraten-Spiel mit while-Schleife.\n",
                "     */\n",
                "    // Zufällige Zahl zwischen 1 und 100 generieren\n",
                "    let numberToGuess = Math.floor(Math.random() * 100) + 1;\n",
                "    let attempts = 0;\n",
                "    const maxAttempts = 10;\n",
                "    \n",
                "    console.log(\"Willkommen beim Zahlenraten-Spiel!\");\n",
                "    console.log(`Errate die Zahl zwischen 1 und 100. Du hast ${maxAttempts} Versuche.`);\n",
                "    \n",
                "    // Simulierte Eingaben für das Beispiel\n",
                "    const testGuesses = [50, 75, 62, 56, 59];\n",
                "    \n",
                "    // Für die Demonstration verwenden wir eine vordefinierte Zahl\n",
                "    numberToGuess = 59;\n",
                "    console.log(`[Hinweis für die Demonstration: Die zu erratende Zahl ist ${numberToGuess}]`);\n",
                "    \n",
                "    while (attempts < maxAttempts) {\n",
                "        // In einer echten Anwendung würden wir prompt() verwenden\n",
                "        let guess;\n",
                "        if (attempts < testGuesses.length) {\n",
                "            guess = testGuesses[attempts];\n",
                "        } else {\n",
                "            guess = numberToGuess; // Letzter Versuch ist korrekt\n",
                "        }\n",
                "            \n",
                "        attempts++;\n",
                "        console.log(`Versuch ${attempts}: Du rätst ${guess}`);\n",
                "        \n",
                "        if (guess < numberToGuess) {\n",
                "            console.log(\"Zu niedrig!\");\n",
                "        } else if (guess > numberToGuess) {\n",
                "            console.log(\"Zu hoch!\");\n",
                "        } else {\n",
                "            console.log(`Glückwunsch! Du hast die Zahl ${numberToGuess} in ${attempts} Versuchen erraten!`);\n",
                "            return;\n",
                "        }\n",
                "    }\n",
                "    \n",
                "    console.log(`Game over! Die gesuchte Zahl war ${numberToGuess}.`);\n",
                "}\n",
                "\n",
                "// Spiel starten\n",
                "numberGuessingGame();"
            ]
        },
        {
            "cell_type": "markdown",
            "metadata": {},
            "source": [
                "**Übung 4.1a**: Erweitere das Zahlenraten-Spiel, indem du dem Spieler nach jedem Versuch mitteilst, wie weit er von der gesuchten Zahl entfernt ist (z.B. \"Du bist nur 5 Zahlen entfernt!\")."
            ]
        },
        {
            "cell_type": "code",
            "execution_count": null,
            "metadata": {},
            "outputs": [],
            "source": [
                "// Deine Lösung hier\n"
            ]
        },
        {
            "cell_type": "markdown",
            "metadata": {},
            "source": [
                "### 4.2 Fibonacci-Sequenz"
            ]
        },
        {
            "cell_type": "code",
            "execution_count": null,
            "metadata": {},
            "outputs": [],
            "source": [
                "function fibonacci(n) {\n",
                "    /**\n",
                "     * Gibt die ersten n Fibonacci-Zahlen zurück.\n",
                "     */\n",
                "    if (n <= 0) return [];\n",
                "    if (n === 1) return [0];\n",
                "    \n",
                "    const fibSequence = [0, 1];\n",
                "\n",
                "    for (let i = 2; i < n; i++) {\n",
                "        const nextFib = fibSequence[i-1] + fibSequence[i-2];\n",
                "        fibSequence.push(nextFib);\n",
                "    }\n",
                "\n",
                "    return fibSequence;\n",
                "}\n",
                "\n",
                "// Teste die Funktion\n",
                "const n = 10;\n",
                "const fibNumbers = fibonacci(n);\n",
                "console.log(`Die ersten ${n} Fibonacci-Zahlen sind:`);\n",
                "fibNumbers.forEach((num, index) => {\n",
                "    console.log(`Fibonacci(${index + 1}) = ${num}`);\n",
                "});\n",
                "\n",
                "// Alternative Implementierung mit Generator\n",
                "function* fibonacciGenerator() {\n",
                "    let a = 0, b = 1;\n",
                "    while (true) {\n",
                "        yield a;\n",
                "        [a, b] = [b, a + b];\n",
                "    }\n",
                "}\n",
                "\n",
                "console.log(\"\\nMit Generator (erste 10 Zahlen):\");\n",
                "const fibGen = fibonacciGenerator();\n",
                "for (let i = 0; i < 10; i++) {\n",
                "    console.log(`Fibonacci(${i + 1}) = ${fibGen.next().value}`);\n",
                "}"
            ]
        },
        {
            "cell_type": "markdown",
            "metadata": {},
            "source": [
                "**Übung 4.2a**: Implementiere eine alternative Fibonacci-Funktion, die eine while-Schleife verwendet und alle Fibonacci-Zahlen unter 1000 berechnet."
            ]
        },
        {
            "cell_type": "code",
            "execution_count": null,
            "metadata": {},
            "outputs": [],
            "source": [
                "// Deine Lösung hier\n"
            ]
        },
        {
            "cell_type": "markdown",
            "metadata": {},
            "source": [
                "### 4.3 Textanalyse"
            ]
        },
        {
            "cell_type": "code",
            "execution_count": null,
            "metadata": {},
            "outputs": [],
            "source": [
                "function analyzeText(text) {\n",
                "    /**\n",
                "     * Analysiert einen Text und gibt Statistiken zurück.\n",
                "     */\n",
                "    \n",
                "    // Zähle Vorkommen jedes Buchstabens (case-insensitive)\n",
                "    const charCount = {};\n",
                "    for (const char of text.toLowerCase()) {\n",
                "        if (/[a-z]/.test(char)) { // Nur Buchstaben zählen\n",
                "            charCount[char] = (charCount[char] || 0) + 1;\n",
                "        }\n",
                "    }\n",
                "\n",
                "    // Wörter extrahieren und zählen\n",
                "    const words = text.toLowerCase()\n",
                "        .split(/\\s+/)\n",
                "        .map(word => word.replace(/[.,!?;:'\"()]/g, ''))\n",
                "        .filter(word => word.length > 0);\n",
                "\n",
                "    const wordCount = {};\n",
                "    for (const word of words) {\n",
                "        wordCount[word] = (wordCount[word] || 0) + 1;\n",
                "    }\n",
                "\n",
                "    // Häufigsten Buchstaben und Wort finden\n",
                "    const mostCommonLetter = Object.keys(charCount).reduce((a, b) => \n",
                "        charCount[a] > charCount[b] ? a : b, '');\n",
                "    \n",
                "    const mostCommonWord = Object.keys(wordCount).reduce((a, b) => \n",
                "        wordCount[a] > wordCount[b] ? a : b, '');\n",
                "\n",
                "    return {\n",
                "        characterCount: text.replace(/\\s/g, '').length,\n",
                "        wordCount: words.length,\n",
                "        mostCommonLetter: mostCommonLetter,\n",
                "        mostCommonWord: mostCommonWord,\n",
                "        letterFrequencies: charCount,\n",
                "        wordFrequencies: wordCount\n",
                "    };\n",
                "}\n",
                "\n",
                "// Teste die Funktion\n",
                "const sampleText = `\n",
                "JavaScript ist eine interpretierte Hochsprache,\n",
                "die oft für allgemeine Programmierung verwendet wird.\n",
                "JavaScript legt Wert auf Codelesbarkeit und erlaubt es Programmierern,\n",
                "Konzepte mit weniger Codezeilen als in anderen Sprachen wie Java oder Python auszudrücken.\n",
                "`;\n",
                "\n",
                "const analysis = analyzeText(sampleText);\n",
                "\n",
                "console.log(\"Textanalyse:\");\n",
                "console.log(`Anzahl der Zeichen (ohne Leerzeichen): ${analysis.characterCount}`);\n",
                "console.log(`Anzahl der Wörter: ${analysis.wordCount}`);\n",
                "console.log(`Häufigster Buchstabe: '${analysis.mostCommonLetter}' (kommt ${analysis.letterFrequencies[analysis.mostCommonLetter]} mal vor)`);\n",
                "console.log(`Häufigstes Wort: '${analysis.mostCommonWord}' (kommt ${analysis.wordFrequencies[analysis.mostCommonWord]} mal vor)`);\n",
                "\n",
                "console.log(\"\\nBuchstabenhäufigkeiten (die 5 häufigsten):\");\n",
                "const sortedLetters = Object.entries(analysis.letterFrequencies)\n",
                "    .sort(([,a], [,b]) => b - a)\n",
                "    .slice(0, 5);\n",
                "\n",
                "for (const [char, count] of sortedLetters) {\n",
                "    console.log(`'${char}': ${count}`);\n",
                "}"
            ]
        },
        {
            "cell_type": "markdown",
            "metadata": {},
            "source": [
                "**Übung 4.3a**: Erweitere die Textanalyse-Funktion, um auch die durchschnittliche Wortlänge zu berechnen und das längste Wort im Text zu finden."
            ]
        },
        {
            "cell_type": "code",
            "execution_count": null,
            "metadata": {},
            "outputs": [],
            "source": [
                "// Deine Lösung hier\n"
            ]
        },
        {
            "cell_type": "markdown",
            "metadata": {},
            "source": [
                "### 4.4 Euklidischer Algorithmus (GGT)"
            ]
        },
        {
            "cell_type": "code",
            "execution_count": null,
            "metadata": {},
            "outputs": [],
            "source": [
                "function gcd(a, b) {\n",
                "    /**\n",
                "     * Berechnet den größten gemeinsamen Teiler (GGT) von a und b.\n",
                "     */\n",
                "    while (b !== 0) {\n",
                "        [a, b] = [b, a % b];\n",
                "    }\n",
                "    return a;\n",
                "}\n",
                "\n",
                "// Rekursive Version\n",
                "function gcdRecursive(a, b) {\n",
                "    return b === 0 ? a : gcdRecursive(b, a % b);\n",
                "}\n",
                "\n",
                "// Teste die Funktionen mit einigen Beispielen\n",
                "const testCases = [[48, 18], [17, 5], [100, 75], [24, 36]];\n",
                "\n",
                "console.log(\"GGT-Berechnungen:\");\n",
                "for (const [num1, num2] of testCases) {\n",
                "    const result1 = gcd(num1, num2);\n",
                "    const result2 = gcdRecursive(num1, num2);\n",
                "    console.log(`Der GGT von ${num1} und ${num2} ist ${result1} (iterativ) / ${result2} (rekursiv)`);\n",
                "}"
            ]
        },
        {
            "cell_type": "markdown",
            "metadata": {},
            "source": [
                "**Übung 4.4a**: Implementiere eine Funktion, die den kleinsten gemeinsamen Vielfachen (KGV) zweier Zahlen berechnet. Hinweis: Du kannst den GGT verwenden, denn KGV(a,b) = (a * b) / GGT(a,b)."
            ]
        },
        {
            "cell_type": "code",
            "execution_count": null,
            "metadata": {},
            "outputs": [],
            "source": [
                "// Deine Lösung hier\n"
            ]
        },
        {
            "cell_type": "markdown",
            "metadata": {},
            "source": [
                "## 5. Effizienz bei Schleifen\n",
                "\n",
                "Die Effizienz von Schleifen ist ein wichtiger Aspekt der Programmierung, insbesondere bei großen Datenmengen oder ressourcenintensiven Aufgaben.\n",
                "\n",
                "### 💡 Leitfrage: \n",
                "Wie kann man die Laufzeit von Schleifen in JavaScript optimieren?"
            ]
        },
        {
            "cell_type": "markdown",
            "metadata": {},
            "source": [
                "### 5.1 Richtlinien für effiziente Schleifen"
            ]
        },
        {
            "cell_type": "code",
            "execution_count": null,
            "metadata": {},
            "outputs": [],
            "source": [
                "// Beispiel 1: Berechnung außerhalb der Schleife vermeidet wiederholte Berechnungen\n",
                "\n",
                "// Ineffizient - Berechnung innerhalb der Schleife\n",
                "function inefficientApproach(n) {\n",
                "    const startTime = performance.now();\n",
                "    let result = 0;\n",
                "    for (let i = 0; i < n; i++) {\n",
                "        result += Math.sqrt(1234567); // Wird in jeder Iteration neu berechnet\n",
                "    }\n",
                "    const endTime = performance.now();\n",
                "    return { result, time: endTime - startTime };\n",
                "}\n",
                "\n",
                "// Effizient - Berechnung außerhalb der Schleife\n",
                "function efficientApproach(n) {\n",
                "    const startTime = performance.now();\n",
                "    const sqrtValue = Math.sqrt(1234567); // Nur einmal berechnen\n",
                "    let result = 0;\n",
                "    for (let i = 0; i < n; i++) {\n",
                "        result += sqrtValue; // Verwende bereits berechneten Wert\n",
                "    }\n",
                "    const endTime = performance.now();\n",
                "    return { result, time: endTime - startTime };\n",
                "}\n",
                "\n",
                "// Vergleiche die Laufzeiten\n",
                "const n = 1000000;\n",
                "const inefficientResult = inefficientApproach(n);\n",
                "const efficientResult = efficientApproach(n);\n",
                "\n",
                "console.log(`Ineffiziente Version: ${inefficientResult.time.toFixed(3)} ms`);\n",
                "console.log(`Effiziente Version: ${efficientResult.time.toFixed(3)} ms`);\n",
                "const improvement = ((inefficientResult.time - efficientResult.time) / inefficientResult.time * 100);\n",
                "console.log(`Zeitersparnis: ${improvement.toFixed(1)}%`);"
            ]
        },
        {
            "cell_type": "code",
            "execution_count": null,
            "metadata": {},
            "outputs": [],
            "source": [
                "// Beispiel 2: Geeignete Datenstrukturen verwenden\n",
                "\n",
                "// Erstelle Testdaten\n",
                "const dataSize = 10000;\n",
                "const lookupSize = 1000;\n",
                "\n",
                "// Daten zum Suchen\n",
                "const dataArray = Array.from({length: dataSize}, (_, i) => i);\n",
                "const dataSet = new Set(dataArray);\n",
                "\n",
                "// Zufällige Werte zum Nachschlagen\n",
                "const lookupValues = Array.from({length: lookupSize}, () => \n",
                "    Math.floor(Math.random() * dataSize * 2));\n",
                "\n",
                "// Mit Array (ineffizient für Mitgliedschaftsprüfung)\n",
                "function lookupInArray() {\n",
                "    const startTime = performance.now();\n",
                "    let found = 0;\n",
                "    for (const value of lookupValues) {\n",
                "        if (dataArray.includes(value)) { // O(n) Operation\n",
                "            found++;\n",
                "        }\n",
                "    }\n",
                "    const endTime = performance.now();\n",
                "    return { found, time: endTime - startTime };\n",
                "}\n",
                "\n",
                "// Mit Set (effizient für Mitgliedschaftsprüfung)\n",
                "function lookupInSet() {\n",
                "    const startTime = performance.now();\n",
                "    let found = 0;\n",
                "    for (const value of lookupValues) {\n",
                "        if (dataSet.has(value)) { // O(1) Operation\n",
                "            found++;\n",
                "        }\n",
                "    }\n",
                "    const endTime = performance.now();\n",
                "    return { found, time: endTime - startTime };\n",
                "}\n",
                "\n",
                "// Vergleiche die Laufzeiten\n",
                "const arrayResult = lookupInArray();\n",
                "const setResult = lookupInSet();\n",
                "\n",
                "console.log(`Array: ${arrayResult.found} Werte gefunden in ${arrayResult.time.toFixed(3)} ms`);\n",
                "console.log(`Set: ${setResult.found} Werte gefunden in ${setResult.time.toFixed(3)} ms`);\n",
                "console.log(`Set ist ${(arrayResult.time / setResult.time).toFixed(1)}x schneller`);"
            ]
        },
        {
            "cell_type": "code",
            "execution_count": null,
            "metadata": {},
            "outputs": [],
            "source": [
                "// Beispiel 3: Array-Methoden vs. for-Schleifen\n",
                "\n",
                "// Traditionelle for-Schleife\n",
                "function traditionalLoop(n) {\n",
                "    const startTime = performance.now();\n",
                "    const squares = [];\n",
                "    for (let i = 0; i < n; i++) {\n",
                "        squares.push(i * i);\n",
                "    }\n",
                "    const endTime = performance.now();\n",
                "    return { squares, time: endTime - startTime };\n",
                "}\n",
                "\n",
                "// Array.from mit Map-Funktion\n",
                "function arrayFromMethod(n) {\n",
                "    const startTime = performance.now();\n",
                "    const squares = Array.from({length: n}, (_, i) => i * i);\n",
                "    const endTime = performance.now();\n",
                "    return { squares, time: endTime - startTime };\n",
                "}\n",
                "\n",
                "// map-Methode\n",
                "function mapMethod(n) {\n",
                "    const startTime = performance.now();\n",
                "    const squares = Array.from({length: n}, (_, i) => i).map(i => i * i);\n",
                "    const endTime = performance.now();\n",
                "    return { squares, time: endTime - startTime };\n",
                "}\n",
                "\n",
                "// Vergleiche die Laufzeiten\n",
                "const n = 1000000;\n",
                "const tradResult = traditionalLoop(n);\n",
                "const arrayFromResult = arrayFromMethod(n);\n",
                "const mapResult = mapMethod(n);\n",
                "\n",
                "console.log(`Traditionelle Schleife: ${tradResult.time.toFixed(3)} ms`);\n",
                "console.log(`Array.from: ${arrayFromResult.time.toFixed(3)} ms`);\n",
                "console.log(`Map-Methode: ${mapResult.time.toFixed(3)} ms`);\n",
                "console.log(`Array.from ist ${(tradResult.time / arrayFromResult.time).toFixed(2)}x schneller als traditionelle Schleife`);"
            ]
        },
        {
            "cell_type": "markdown",
            "metadata": {},
            "source": [
                "### 5.2 Komplexität von Schleifen\n",
                "\n",
                "Bei der Analyse der Effizienz von Schleifen ist die asymptotische Komplexität ein wichtiger Faktor. Hier sind die häufigsten Komplexitätsklassen:\n",
                "\n",
                "- **O(1)**: Konstante Zeit (z.B. Zugriff auf ein Array-Element)\n",
                "- **O(log n)**: Logarithmische Zeit (z.B. binäre Suche)\n",
                "- **O(n)**: Lineare Zeit (z.B. einfache Iteration)\n",
                "- **O(n log n)**: Log-lineare Zeit (z.B. effiziente Sortieralgorithmen)\n",
                "- **O(n²)**: Quadratische Zeit (z.B. verschachtelte Schleifen)\n",
                "- **O(2^n)**: Exponentielle Zeit (z.B. rekursive Fibonacci ohne Memoisation)\n",
                "\n",
                "Die Anzahl der Schleifendurchläufe bestimmt die Zeitkomplexität:"
            ]
        },
        {
            "cell_type": "code",
            "execution_count": null,
            "metadata": {},
            "outputs": [],
            "source": [
                "// O(n) - Lineare Komplexität\n",
                "function linearComplexity(n) {\n",
                "    let count = 0;\n",
                "    for (let i = 0; i < n; i++) {\n",
                "        count++; // Eine Operation pro Schleifendurchlauf\n",
                "    }\n",
                "    return count;\n",
                "}\n",
                "\n",
                "// O(n²) - Quadratische Komplexität\n",
                "function quadraticComplexity(n) {\n",
                "    let count = 0;\n",
                "    for (let i = 0; i < n; i++) {\n",
                "        for (let j = 0; j < n; j++) {\n",
                "            count++; // n * n Operationen\n",
                "        }\n",
                "    }\n",
                "    return count;\n",
                "}\n",
                "\n",
                "// O(n³) - Kubische Komplexität\n",
                "function cubicComplexity(n) {\n",
                "    let count = 0;\n",
                "    for (let i = 0; i < n; i++) {\n",
                "        for (let j = 0; j < n; j++) {\n",
                "            for (let k = 0; k < n; k++) {\n",
                "                count++; // n * n * n Operationen\n",
                "            }\n",
                "        }\n",
                "    }\n",
                "    return count;\n",
                "}\n",
                "\n",
                "// Vergleiche die Anzahl der Operationen\n",
                "const testSizes = [10, 20, 50];\n",
                "for (const n of testSizes) {\n",
                "    const linear = linearComplexity(n);\n",
                "    const quadratic = quadraticComplexity(n);\n",
                "    const cubic = cubicComplexity(n);\n",
                "    \n",
                "    console.log(`n = ${n}:`);\n",
                "    console.log(`  O(n)   -> ${linear} Operationen`);\n",
                "    console.log(`  O(n²)  -> ${quadratic} Operationen (${(quadratic / linear).toFixed(1)}x mehr als O(n))`);\n",
                "    console.log(`  O(n³)  -> ${cubic} Operationen (${(cubic / quadratic).toFixed(1)}x mehr als O(n²))`);\n",
                "    console.log();\n",
                "}"
            ]
        },
        {
            "cell_type": "markdown",
            "metadata": {},
            "source": [
                "**Übung 5.2a**: Implementiere eine Funktion, die prüft, ob ein String ein Palindrom ist (vorwärts und rückwärts gelesen gleich). Vergleiche anschließend die Laufzeit mit einer Lösung, die JavaScript's Array-Methoden verwendet (z.B. `s.split('').reverse().join('')`)."
            ]
        },
        {
            "cell_type": "code",
            "execution_count": null,
            "metadata": {},
            "outputs": [],
            "source": [
                "// Deine Lösung hier\n"
            ]
        },
        {
            "cell_type": "markdown",
            "metadata": {},
            "source": [
                "### 5.3 Tipps für optimierte Schleifen\n",
                "\n",
                "Hier sind einige Tipps, um Schleifen in JavaScript zu optimieren:\n",
                "\n",
                "1. **Verwende die richtige Art von Schleife**:\n",
                "   - `for`-Schleifen für bekannte Anzahl von Iterationen\n",
                "   - `while`/`do-while`-Schleifen für unbekannte oder variable Anzahl\n",
                "   - `for...of` für Iteration über Werte\n",
                "   - `for...in` für Iteration über Objekt-Eigenschaften\n",
                "\n",
                "2. **Nutze Array-Methoden für funktionale Programmierung**:\n",
                "   - `map()`, `filter()`, `reduce()`, `find()`, `some()`, `every()`\n",
                "   - Oft lesbarer und ausdrucksvoller als traditionelle Schleifen\n",
                "\n",
                "3. **Vermeide unnötige Berechnungen innerhalb der Schleife**:\n",
                "   - Verschiebe konstante Berechnungen vor die Schleife\n",
                "   - Cache Array-Längen bei traditionellen for-Schleifen\n",
                "\n",
                "4. **Nutze die richtigen Datenstrukturen**:\n",
                "   - Arrays für sequentielle Zugriffe\n",
                "   - Sets oder Maps für Mitgliedschaftsprüfungen\n",
                "   - Typed Arrays für numerische Daten\n",
                "\n",
                "5. **Beachte Browser-spezifische Optimierungen**:\n",
                "   - Moderne JavaScript-Engines optimieren verschiedene Schleifenarten unterschiedlich\n",
                "   - Verwende `performance.now()` für genaue Messungen"
            ]
        },
        {
            "cell_type": "code",
            "execution_count": null,
            "metadata": {},
            "outputs": [],
            "source": [
                "// Beispiel: Verschiedene Summierungsansätze\n",
                "\n",
                "// Erstelle ein Array von Zahlen zum Testen\n",
                "const numbers = Array.from({length: 10000000}, (_, i) => i + 1);\n",
                "\n",
                "// Berechne Summe mit for-Schleife\n",
                "function sumWithForLoop(numbers) {\n",
                "    const startTime = performance.now();\n",
                "    let total = 0;\n",
                "    for (let i = 0; i < numbers.length; i++) {\n",
                "        total += numbers[i];\n",
                "    }\n",
                "    const endTime = performance.now();\n",
                "    return { total, time: endTime - startTime };\n",
                "}\n",
                "\n",
                "// Berechne Summe mit for...of\n",
                "function sumWithForOf(numbers) {\n",
                "    const startTime = performance.now();\n",
                "    let total = 0;\n",
                "    for (const num of numbers) {\n",
                "        total += num;\n",
                "    }\n",
                "    const endTime = performance.now();\n",
                "    return { total, time: endTime - startTime };\n",
                "}\n",
                "\n",
                "// Berechne Summe mit reduce\n",
                "function sumWithReduce(numbers) {\n",
                "    const startTime = performance.now();\n",
                "    const total = numbers.reduce((acc, num) => acc + num, 0);\n",
                "    const endTime = performance.now();\n",
                "    return { total, time: endTime - startTime };\n",
                "}\n",
                "\n",
                "// Berechne Summe mit mathematischer Formel\n",
                "function sumWithFormula(n) {\n",
                "    const startTime = performance.now();\n",
                "    // Formel für die Summe der ersten n natürlichen Zahlen: n * (n + 1) / 2\n",
                "    const total = n * (n + 1) / 2;\n",
                "    const endTime = performance.now();\n",
                "    return { total, time: endTime - startTime };\n",
                "}\n",
                "\n",
                "// Vergleiche die Laufzeiten\n",
                "const forLoopResult = sumWithForLoop(numbers);\n",
                "const forOfResult = sumWithForOf(numbers);\n",
                "const reduceResult = sumWithReduce(numbers);\n",
                "const formulaResult = sumWithFormula(10000000);\n",
                "\n",
                "console.log(`For-Schleife: ${forLoopResult.total} in ${forLoopResult.time.toFixed(3)} ms`);\n",
                "console.log(`For...of: ${forOfResult.total} in ${forOfResult.time.toFixed(3)} ms`);\n",
                "console.log(`Reduce: ${reduceResult.total} in ${reduceResult.time.toFixed(3)} ms`);\n",
                "console.log(`Formel: ${formulaResult.total} in ${formulaResult.time.toFixed(3)} ms`);\n",
                "console.log(`Die Formel ist ${(forLoopResult.time / formulaResult.time).toFixed(0)}x schneller als die for-Schleife`);"
            ]
        },
        {
            "cell_type": "markdown",
            "metadata": {},
            "source": [
                "**Übung 5.3a**: Implementiere zwei Funktionen zur Filterung eines Arrays von Zahlen (nur gerade Zahlen behalten): eine mit traditioneller Schleife und eine mit der `filter()`-Methode. Vergleiche die Laufzeiten."
            ]
        },
        {
            "cell_type": "code",
            "execution_count": null,
            "metadata": {},
            "outputs": [],
            "source": [
                "// Deine Lösung hier\n"
            ]
        },
        {
            "cell_type": "markdown",
            "metadata": {},
            "source": [
                "## Zusammenfassung\n",
                "\n",
                "In diesem Notebook hast du die wichtigsten Konzepte zu Schleifen in JavaScript kennengelernt:\n",
                "\n",
                "1. **While-Schleifen**\n",
                "   - Ausführung von Code, solange eine Bedingung erfüllt ist\n",
                "   - Do-while-Schleifen für mindestens eine Ausführung\n",
                "   - Vermeidung von Endlosschleifen\n",
                "\n",
                "2. **For-Schleifen**\n",
                "   - Klassische for-Schleifen für zählbasierte Iteration\n",
                "   - For...of-Schleifen für Iteration über Werte\n",
                "   - For...in-Schleifen für Objekt-Eigenschaften\n",
                "   - Array-Methoden als funktionale Alternativen\n",
                "   - Schleifensteuerung mit break und continue\n",
                "\n",
                "3. **Verschachtelte Schleifen**\n",
                "   - Verarbeitung mehrdimensionaler Daten\n",
                "   - Erstellung von Mustern\n",
                "   - Verwendung von Labels für komplexe Sprunglogik\n",
                "\n",
                "4. **Praktische Anwendungen**\n",
                "   - Zahlenraten-Spiel\n",
                "   - Fibonacci-Sequenz mit Generatoren\n",
                "   - Textanalyse mit modernen JavaScript-Features\n",
                "   - Algorithmen (GGT)\n",
                "\n",
                "5. **Effizienz bei Schleifen**\n",
                "   - Performance-Optimierung durch richtige Datenstrukturen\n",
                "   - Asymptotische Komplexität verstehen\n",
                "   - Moderne JavaScript-Features nutzen\n",
                "   - Browser-spezifische Optimierungen beachten\n",
                "\n",
                "### JavaScript-spezifische Besonderheiten:\n",
                "\n",
                "- **Funktionale Programmierung**: Array-Methoden wie `map()`, `filter()`, `reduce()`\n",
                "- **Generatoren**: Für lazy evaluation und unendliche Sequenzen\n",
                "- **Performance API**: `performance.now()` für genaue Zeitmessungen\n",
                "- **Modern ES6+ Features**: Destructuring, Arrow Functions, Template Literals\n",
                "- **Browser-Optimierungen**: Moderne JavaScript-Engines optimieren verschiedene Schleifenarten\n",
                "\n",
                "Schleifen sind ein fundamentales Konzept in der JavaScript-Programmierung und ermöglichen die wiederholte Ausführung von Code. Mit den in diesem Notebook behandelten Konzepten und Techniken bist du gut gerüstet, um verschiedene Probleme effizient zu lösen und modernen, lesbaren JavaScript-Code zu schreiben."
            ]
        }
    ],
    "metadata": {
        "kernelspec": {
            "display_name": "JavaScript (Node.js)",
            "language": "javascript",
            "name": "javascript"
        },
        "language_info": {
            "file_extension": ".js",
            "mimetype": "application/javascript",
            "name": "javascript",
            "version": "18.0.0"
        }
    },
    "nbformat": 4,
    "nbformat_minor": 4
}